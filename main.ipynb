{
 "cells": [
  {
   "cell_type": "markdown",
   "metadata": {},
   "source": [
    "#                                   1 INDIAN START-UP FUNDING ANALYSIS\n"
   ]
  },
  {
   "cell_type": "markdown",
   "metadata": {},
   "source": [
    "## 1.1 Structure of Notebook\n",
    "\n",
    "- **Business Understanding**\n",
    "- **Data Understanding**\n",
    "- **Data Preparation**\n",
    " "
   ]
  },
  {
   "cell_type": "markdown",
   "metadata": {},
   "source": [
    "## 1.2 Business Understanding\n",
    "\n",
    "The project aims to investigate and understand the funding dynamics within the Indian startup ecosystem over the years 2018 to 2021. By analyzing the provided datasets, which include details such as company names, sectors, funding amounts, and investor information, the goal is to discern patterns and trends in the distribution of funding across various sectors.\n",
    "By focusing on different sectors, we seek to unravel insights into the variations in funding amounts and trends. This analysis is crucial for stakeholders, including investors, policymakers, and entrepreneurs, as it provides actionable intelligence on the distribution of financial support among diverse sectors, ultimately informing strategic decision-making within the dynamic landscape of the Indian startup ecosystem."
   ]
  },
  {
   "cell_type": "markdown",
   "metadata": {},
   "source": [
    "## 1.3 Import necessary libraries"
   ]
  },
  {
   "cell_type": "code",
   "execution_count": 1,
   "metadata": {},
   "outputs": [],
   "source": [
    "#Data handling\n",
    "import pandas as pd\n",
    "import numpy as np\n",
    "import pyodbc \n",
    "from dotenv import dotenv_values\n",
    "\n",
    "#Visualisation\n",
    "import matplotlib.pyplot as plt\n",
    "%matplotlib inline\n",
    "import seaborn as sns\n",
    "from scipy.stats import f_oneway\n",
    "from scipy import stats\n",
    "\n",
    "#Hidding the warnings\n",
    "import warnings \n",
    "warnings.filterwarnings('ignore')"
   ]
  },
  {
   "cell_type": "markdown",
   "metadata": {},
   "source": [
    "## 1.4 Data Understanding\n",
    "### Load Data"
   ]
  },
  {
   "cell_type": "code",
   "execution_count": 2,
   "metadata": {},
   "outputs": [],
   "source": [
    "\n",
    "# Load environment variables from .env file into a dictionary\n",
    "environment_variables = dotenv_values('.env')\n",
    "\n",
    "\n",
    "# Get the values for the credentials you set in the '.env' file\n",
    "server = environment_variables.get(\"SERVER\")\n",
    "username = environment_variables.get(\"USERNAME\")\n",
    "password = environment_variables.get(\"PASSWORD\")\n",
    "database = environment_variables.get(\"DATABASE\")\n",
    "\n",
    "\n",
    "connection_string = f\"DRIVER={{SQL Server}};SERVER={server};DATABASE={database};UID={username};PWD={password}\"\n"
   ]
  },
  {
   "cell_type": "code",
   "execution_count": 3,
   "metadata": {},
   "outputs": [],
   "source": [
    "# Establish a connection to the database using the provided connection string.\n",
    "connection = pyodbc.connect(connection_string)\n"
   ]
  },
  {
   "cell_type": "markdown",
   "metadata": {},
   "source": [
    "#### Load startup_funding2020 data"
   ]
  },
  {
   "cell_type": "code",
   "execution_count": 4,
   "metadata": {},
   "outputs": [],
   "source": [
    "\n",
    "query = \"Select * from dbo.LP1_startup_funding2020\"\n",
    "df_2020 = pd.read_sql(query, connection)"
   ]
  },
  {
   "cell_type": "code",
   "execution_count": 5,
   "metadata": {},
   "outputs": [
    {
     "data": {
      "text/html": [
       "<div>\n",
       "<style scoped>\n",
       "    .dataframe tbody tr th:only-of-type {\n",
       "        vertical-align: middle;\n",
       "    }\n",
       "\n",
       "    .dataframe tbody tr th {\n",
       "        vertical-align: top;\n",
       "    }\n",
       "\n",
       "    .dataframe thead th {\n",
       "        text-align: right;\n",
       "    }\n",
       "</style>\n",
       "<table border=\"1\" class=\"dataframe\">\n",
       "  <thead>\n",
       "    <tr style=\"text-align: right;\">\n",
       "      <th></th>\n",
       "      <th>Company_Brand</th>\n",
       "      <th>Founded</th>\n",
       "      <th>HeadQuarter</th>\n",
       "      <th>Sector</th>\n",
       "      <th>What_it_does</th>\n",
       "      <th>Founders</th>\n",
       "      <th>Investor</th>\n",
       "      <th>Amount</th>\n",
       "      <th>Stage</th>\n",
       "      <th>column10</th>\n",
       "    </tr>\n",
       "  </thead>\n",
       "  <tbody>\n",
       "    <tr>\n",
       "      <th>0</th>\n",
       "      <td>Aqgromalin</td>\n",
       "      <td>2019.0</td>\n",
       "      <td>Chennai</td>\n",
       "      <td>AgriTech</td>\n",
       "      <td>Cultivating Ideas for Profit</td>\n",
       "      <td>Prasanna Manogaran, Bharani C L</td>\n",
       "      <td>Angel investors</td>\n",
       "      <td>200000.0</td>\n",
       "      <td>None</td>\n",
       "      <td>None</td>\n",
       "    </tr>\n",
       "    <tr>\n",
       "      <th>1</th>\n",
       "      <td>Krayonnz</td>\n",
       "      <td>2019.0</td>\n",
       "      <td>Bangalore</td>\n",
       "      <td>EdTech</td>\n",
       "      <td>An academy-guardian-scholar centric ecosystem ...</td>\n",
       "      <td>Saurabh Dixit, Gurudutt Upadhyay</td>\n",
       "      <td>GSF Accelerator</td>\n",
       "      <td>100000.0</td>\n",
       "      <td>Pre-seed</td>\n",
       "      <td>None</td>\n",
       "    </tr>\n",
       "    <tr>\n",
       "      <th>2</th>\n",
       "      <td>PadCare Labs</td>\n",
       "      <td>2018.0</td>\n",
       "      <td>Pune</td>\n",
       "      <td>Hygiene management</td>\n",
       "      <td>Converting bio-hazardous waste to harmless waste</td>\n",
       "      <td>Ajinkya Dhariya</td>\n",
       "      <td>Venture Center</td>\n",
       "      <td>NaN</td>\n",
       "      <td>Pre-seed</td>\n",
       "      <td>None</td>\n",
       "    </tr>\n",
       "    <tr>\n",
       "      <th>3</th>\n",
       "      <td>NCOME</td>\n",
       "      <td>2020.0</td>\n",
       "      <td>New Delhi</td>\n",
       "      <td>Escrow</td>\n",
       "      <td>Escrow-as-a-service platform</td>\n",
       "      <td>Ritesh Tiwari</td>\n",
       "      <td>Venture Catalysts, PointOne Capital</td>\n",
       "      <td>400000.0</td>\n",
       "      <td>None</td>\n",
       "      <td>None</td>\n",
       "    </tr>\n",
       "    <tr>\n",
       "      <th>4</th>\n",
       "      <td>Gramophone</td>\n",
       "      <td>2016.0</td>\n",
       "      <td>Indore</td>\n",
       "      <td>AgriTech</td>\n",
       "      <td>Gramophone is an AgTech platform enabling acce...</td>\n",
       "      <td>Ashish Rajan Singh, Harshit Gupta, Nishant Mah...</td>\n",
       "      <td>Siana Capital Management, Info Edge</td>\n",
       "      <td>340000.0</td>\n",
       "      <td>None</td>\n",
       "      <td>None</td>\n",
       "    </tr>\n",
       "  </tbody>\n",
       "</table>\n",
       "</div>"
      ],
      "text/plain": [
       "  Company_Brand  Founded HeadQuarter              Sector  \\\n",
       "0    Aqgromalin   2019.0     Chennai            AgriTech   \n",
       "1      Krayonnz   2019.0   Bangalore              EdTech   \n",
       "2  PadCare Labs   2018.0        Pune  Hygiene management   \n",
       "3         NCOME   2020.0   New Delhi              Escrow   \n",
       "4    Gramophone   2016.0      Indore            AgriTech   \n",
       "\n",
       "                                        What_it_does  \\\n",
       "0                       Cultivating Ideas for Profit   \n",
       "1  An academy-guardian-scholar centric ecosystem ...   \n",
       "2   Converting bio-hazardous waste to harmless waste   \n",
       "3                       Escrow-as-a-service platform   \n",
       "4  Gramophone is an AgTech platform enabling acce...   \n",
       "\n",
       "                                            Founders  \\\n",
       "0                    Prasanna Manogaran, Bharani C L   \n",
       "1                   Saurabh Dixit, Gurudutt Upadhyay   \n",
       "2                                    Ajinkya Dhariya   \n",
       "3                                      Ritesh Tiwari   \n",
       "4  Ashish Rajan Singh, Harshit Gupta, Nishant Mah...   \n",
       "\n",
       "                              Investor    Amount     Stage column10  \n",
       "0                      Angel investors  200000.0      None     None  \n",
       "1                      GSF Accelerator  100000.0  Pre-seed     None  \n",
       "2                       Venture Center       NaN  Pre-seed     None  \n",
       "3  Venture Catalysts, PointOne Capital  400000.0      None     None  \n",
       "4  Siana Capital Management, Info Edge  340000.0      None     None  "
      ]
     },
     "execution_count": 5,
     "metadata": {},
     "output_type": "execute_result"
    }
   ],
   "source": [
    "# Display the DataFrame\n",
    "df_2020.head(5)"
   ]
  },
  {
   "cell_type": "markdown",
   "metadata": {},
   "source": [
    "#### Load startup_funding2021 data"
   ]
  },
  {
   "cell_type": "code",
   "execution_count": 6,
   "metadata": {},
   "outputs": [],
   "source": [
    "query = \"Select * from dbo.LP1_startup_funding2021\"\n",
    "df_2021 = pd.read_sql(query, connection)"
   ]
  },
  {
   "cell_type": "code",
   "execution_count": 7,
   "metadata": {},
   "outputs": [
    {
     "data": {
      "text/html": [
       "<div>\n",
       "<style scoped>\n",
       "    .dataframe tbody tr th:only-of-type {\n",
       "        vertical-align: middle;\n",
       "    }\n",
       "\n",
       "    .dataframe tbody tr th {\n",
       "        vertical-align: top;\n",
       "    }\n",
       "\n",
       "    .dataframe thead th {\n",
       "        text-align: right;\n",
       "    }\n",
       "</style>\n",
       "<table border=\"1\" class=\"dataframe\">\n",
       "  <thead>\n",
       "    <tr style=\"text-align: right;\">\n",
       "      <th></th>\n",
       "      <th>Company_Brand</th>\n",
       "      <th>Founded</th>\n",
       "      <th>HeadQuarter</th>\n",
       "      <th>Sector</th>\n",
       "      <th>What_it_does</th>\n",
       "      <th>Founders</th>\n",
       "      <th>Investor</th>\n",
       "      <th>Amount</th>\n",
       "      <th>Stage</th>\n",
       "    </tr>\n",
       "  </thead>\n",
       "  <tbody>\n",
       "    <tr>\n",
       "      <th>0</th>\n",
       "      <td>Unbox Robotics</td>\n",
       "      <td>2019.0</td>\n",
       "      <td>Bangalore</td>\n",
       "      <td>AI startup</td>\n",
       "      <td>Unbox Robotics builds on-demand AI-driven ware...</td>\n",
       "      <td>Pramod Ghadge, Shahid Memon</td>\n",
       "      <td>BEENEXT, Entrepreneur First</td>\n",
       "      <td>$1,200,000</td>\n",
       "      <td>Pre-series A</td>\n",
       "    </tr>\n",
       "    <tr>\n",
       "      <th>1</th>\n",
       "      <td>upGrad</td>\n",
       "      <td>2015.0</td>\n",
       "      <td>Mumbai</td>\n",
       "      <td>EdTech</td>\n",
       "      <td>UpGrad is an online higher education platform.</td>\n",
       "      <td>Mayank Kumar, Phalgun Kompalli, Ravijot Chugh,...</td>\n",
       "      <td>Unilazer Ventures, IIFL Asset Management</td>\n",
       "      <td>$120,000,000</td>\n",
       "      <td>None</td>\n",
       "    </tr>\n",
       "    <tr>\n",
       "      <th>2</th>\n",
       "      <td>Lead School</td>\n",
       "      <td>2012.0</td>\n",
       "      <td>Mumbai</td>\n",
       "      <td>EdTech</td>\n",
       "      <td>LEAD School offers technology based school tra...</td>\n",
       "      <td>Smita Deorah, Sumeet Mehta</td>\n",
       "      <td>GSV Ventures, Westbridge Capital</td>\n",
       "      <td>$30,000,000</td>\n",
       "      <td>Series D</td>\n",
       "    </tr>\n",
       "    <tr>\n",
       "      <th>3</th>\n",
       "      <td>Bizongo</td>\n",
       "      <td>2015.0</td>\n",
       "      <td>Mumbai</td>\n",
       "      <td>B2B E-commerce</td>\n",
       "      <td>Bizongo is a business-to-business online marke...</td>\n",
       "      <td>Aniket Deb, Ankit Tomar, Sachin Agrawal</td>\n",
       "      <td>CDC Group, IDG Capital</td>\n",
       "      <td>$51,000,000</td>\n",
       "      <td>Series C</td>\n",
       "    </tr>\n",
       "    <tr>\n",
       "      <th>4</th>\n",
       "      <td>FypMoney</td>\n",
       "      <td>2021.0</td>\n",
       "      <td>Gurugram</td>\n",
       "      <td>FinTech</td>\n",
       "      <td>FypMoney is Digital NEO Bank for Teenagers, em...</td>\n",
       "      <td>Kapil Banwari</td>\n",
       "      <td>Liberatha Kallat, Mukesh Yadav, Dinesh Nagpal</td>\n",
       "      <td>$2,000,000</td>\n",
       "      <td>Seed</td>\n",
       "    </tr>\n",
       "  </tbody>\n",
       "</table>\n",
       "</div>"
      ],
      "text/plain": [
       "    Company_Brand  Founded HeadQuarter          Sector  \\\n",
       "0  Unbox Robotics   2019.0   Bangalore      AI startup   \n",
       "1          upGrad   2015.0      Mumbai          EdTech   \n",
       "2     Lead School   2012.0      Mumbai          EdTech   \n",
       "3         Bizongo   2015.0      Mumbai  B2B E-commerce   \n",
       "4        FypMoney   2021.0    Gurugram         FinTech   \n",
       "\n",
       "                                        What_it_does  \\\n",
       "0  Unbox Robotics builds on-demand AI-driven ware...   \n",
       "1     UpGrad is an online higher education platform.   \n",
       "2  LEAD School offers technology based school tra...   \n",
       "3  Bizongo is a business-to-business online marke...   \n",
       "4  FypMoney is Digital NEO Bank for Teenagers, em...   \n",
       "\n",
       "                                            Founders  \\\n",
       "0                        Pramod Ghadge, Shahid Memon   \n",
       "1  Mayank Kumar, Phalgun Kompalli, Ravijot Chugh,...   \n",
       "2                         Smita Deorah, Sumeet Mehta   \n",
       "3            Aniket Deb, Ankit Tomar, Sachin Agrawal   \n",
       "4                                      Kapil Banwari   \n",
       "\n",
       "                                        Investor        Amount         Stage  \n",
       "0                    BEENEXT, Entrepreneur First    $1,200,000  Pre-series A  \n",
       "1       Unilazer Ventures, IIFL Asset Management  $120,000,000          None  \n",
       "2               GSV Ventures, Westbridge Capital   $30,000,000      Series D  \n",
       "3                         CDC Group, IDG Capital   $51,000,000      Series C  \n",
       "4  Liberatha Kallat, Mukesh Yadav, Dinesh Nagpal    $2,000,000          Seed  "
      ]
     },
     "execution_count": 7,
     "metadata": {},
     "output_type": "execute_result"
    }
   ],
   "source": [
    "# Display the DataFrame\n",
    "df_2021.head()"
   ]
  },
  {
   "cell_type": "markdown",
   "metadata": {},
   "source": [
    "#### Load startup_funding2019 data"
   ]
  },
  {
   "cell_type": "code",
   "execution_count": 8,
   "metadata": {},
   "outputs": [
    {
     "data": {
      "text/html": [
       "<div>\n",
       "<style scoped>\n",
       "    .dataframe tbody tr th:only-of-type {\n",
       "        vertical-align: middle;\n",
       "    }\n",
       "\n",
       "    .dataframe tbody tr th {\n",
       "        vertical-align: top;\n",
       "    }\n",
       "\n",
       "    .dataframe thead th {\n",
       "        text-align: right;\n",
       "    }\n",
       "</style>\n",
       "<table border=\"1\" class=\"dataframe\">\n",
       "  <thead>\n",
       "    <tr style=\"text-align: right;\">\n",
       "      <th></th>\n",
       "      <th>Company/Brand</th>\n",
       "      <th>Founded</th>\n",
       "      <th>HeadQuarter</th>\n",
       "      <th>Sector</th>\n",
       "      <th>What it does</th>\n",
       "      <th>Founders</th>\n",
       "      <th>Investor</th>\n",
       "      <th>Amount($)</th>\n",
       "      <th>Stage</th>\n",
       "    </tr>\n",
       "  </thead>\n",
       "  <tbody>\n",
       "    <tr>\n",
       "      <th>0</th>\n",
       "      <td>Bombay Shaving</td>\n",
       "      <td>NaN</td>\n",
       "      <td>NaN</td>\n",
       "      <td>Ecommerce</td>\n",
       "      <td>Provides a range of male grooming products</td>\n",
       "      <td>Shantanu Deshpande</td>\n",
       "      <td>Sixth Sense Ventures</td>\n",
       "      <td>$6,300,000</td>\n",
       "      <td>NaN</td>\n",
       "    </tr>\n",
       "    <tr>\n",
       "      <th>1</th>\n",
       "      <td>Ruangguru</td>\n",
       "      <td>2014.0</td>\n",
       "      <td>Mumbai</td>\n",
       "      <td>Edtech</td>\n",
       "      <td>A learning platform that provides topic-based ...</td>\n",
       "      <td>Adamas Belva Syah Devara, Iman Usman.</td>\n",
       "      <td>General Atlantic</td>\n",
       "      <td>$150,000,000</td>\n",
       "      <td>Series C</td>\n",
       "    </tr>\n",
       "    <tr>\n",
       "      <th>2</th>\n",
       "      <td>Eduisfun</td>\n",
       "      <td>NaN</td>\n",
       "      <td>Mumbai</td>\n",
       "      <td>Edtech</td>\n",
       "      <td>It aims to make learning fun via games.</td>\n",
       "      <td>Jatin Solanki</td>\n",
       "      <td>Deepak Parekh, Amitabh Bachchan, Piyush Pandey</td>\n",
       "      <td>$28,000,000</td>\n",
       "      <td>Fresh funding</td>\n",
       "    </tr>\n",
       "    <tr>\n",
       "      <th>3</th>\n",
       "      <td>HomeLane</td>\n",
       "      <td>2014.0</td>\n",
       "      <td>Chennai</td>\n",
       "      <td>Interior design</td>\n",
       "      <td>Provides interior designing solutions</td>\n",
       "      <td>Srikanth Iyer, Rama Harinath</td>\n",
       "      <td>Evolvence India Fund (EIF), Pidilite Group, FJ...</td>\n",
       "      <td>$30,000,000</td>\n",
       "      <td>Series D</td>\n",
       "    </tr>\n",
       "    <tr>\n",
       "      <th>4</th>\n",
       "      <td>Nu Genes</td>\n",
       "      <td>2004.0</td>\n",
       "      <td>Telangana</td>\n",
       "      <td>AgriTech</td>\n",
       "      <td>It is a seed company engaged in production, pr...</td>\n",
       "      <td>Narayana Reddy Punyala</td>\n",
       "      <td>Innovation in Food and Agriculture (IFA)</td>\n",
       "      <td>$6,000,000</td>\n",
       "      <td>NaN</td>\n",
       "    </tr>\n",
       "  </tbody>\n",
       "</table>\n",
       "</div>"
      ],
      "text/plain": [
       "    Company/Brand  Founded HeadQuarter           Sector  \\\n",
       "0  Bombay Shaving      NaN         NaN        Ecommerce   \n",
       "1       Ruangguru   2014.0      Mumbai           Edtech   \n",
       "2        Eduisfun      NaN      Mumbai           Edtech   \n",
       "3        HomeLane   2014.0     Chennai  Interior design   \n",
       "4        Nu Genes   2004.0   Telangana         AgriTech   \n",
       "\n",
       "                                        What it does  \\\n",
       "0         Provides a range of male grooming products   \n",
       "1  A learning platform that provides topic-based ...   \n",
       "2            It aims to make learning fun via games.   \n",
       "3              Provides interior designing solutions   \n",
       "4  It is a seed company engaged in production, pr...   \n",
       "\n",
       "                                Founders  \\\n",
       "0                     Shantanu Deshpande   \n",
       "1  Adamas Belva Syah Devara, Iman Usman.   \n",
       "2                          Jatin Solanki   \n",
       "3           Srikanth Iyer, Rama Harinath   \n",
       "4                 Narayana Reddy Punyala   \n",
       "\n",
       "                                            Investor      Amount($)  \\\n",
       "0                               Sixth Sense Ventures    $6,300,000    \n",
       "1                                   General Atlantic  $150,000,000    \n",
       "2     Deepak Parekh, Amitabh Bachchan, Piyush Pandey   $28,000,000    \n",
       "3  Evolvence India Fund (EIF), Pidilite Group, FJ...   $30,000,000    \n",
       "4           Innovation in Food and Agriculture (IFA)    $6,000,000    \n",
       "\n",
       "           Stage  \n",
       "0            NaN  \n",
       "1       Series C  \n",
       "2  Fresh funding  \n",
       "3       Series D  \n",
       "4            NaN  "
      ]
     },
     "execution_count": 8,
     "metadata": {},
     "output_type": "execute_result"
    }
   ],
   "source": [
    "df_2019 = pd.read_csv('startup_funding2019.csv')\n",
    "\n",
    "# Display the DataFrame\n",
    "df_2019.head()"
   ]
  },
  {
   "cell_type": "markdown",
   "metadata": {},
   "source": [
    "#### Load startup_funding2018 data"
   ]
  },
  {
   "cell_type": "code",
   "execution_count": 9,
   "metadata": {},
   "outputs": [
    {
     "data": {
      "text/html": [
       "<div>\n",
       "<style scoped>\n",
       "    .dataframe tbody tr th:only-of-type {\n",
       "        vertical-align: middle;\n",
       "    }\n",
       "\n",
       "    .dataframe tbody tr th {\n",
       "        vertical-align: top;\n",
       "    }\n",
       "\n",
       "    .dataframe thead th {\n",
       "        text-align: right;\n",
       "    }\n",
       "</style>\n",
       "<table border=\"1\" class=\"dataframe\">\n",
       "  <thead>\n",
       "    <tr style=\"text-align: right;\">\n",
       "      <th></th>\n",
       "      <th>Company Name</th>\n",
       "      <th>Industry</th>\n",
       "      <th>Round/Series</th>\n",
       "      <th>Amount</th>\n",
       "      <th>Location</th>\n",
       "      <th>About Company</th>\n",
       "    </tr>\n",
       "  </thead>\n",
       "  <tbody>\n",
       "    <tr>\n",
       "      <th>0</th>\n",
       "      <td>TheCollegeFever</td>\n",
       "      <td>Brand Marketing, Event Promotion, Marketing, S...</td>\n",
       "      <td>Seed</td>\n",
       "      <td>250000</td>\n",
       "      <td>Bangalore, Karnataka, India</td>\n",
       "      <td>TheCollegeFever is a hub for fun, fiesta and f...</td>\n",
       "    </tr>\n",
       "    <tr>\n",
       "      <th>1</th>\n",
       "      <td>Happy Cow Dairy</td>\n",
       "      <td>Agriculture, Farming</td>\n",
       "      <td>Seed</td>\n",
       "      <td>₹40,000,000</td>\n",
       "      <td>Mumbai, Maharashtra, India</td>\n",
       "      <td>A startup which aggregates milk from dairy far...</td>\n",
       "    </tr>\n",
       "    <tr>\n",
       "      <th>2</th>\n",
       "      <td>MyLoanCare</td>\n",
       "      <td>Credit, Financial Services, Lending, Marketplace</td>\n",
       "      <td>Series A</td>\n",
       "      <td>₹65,000,000</td>\n",
       "      <td>Gurgaon, Haryana, India</td>\n",
       "      <td>Leading Online Loans Marketplace in India</td>\n",
       "    </tr>\n",
       "    <tr>\n",
       "      <th>3</th>\n",
       "      <td>PayMe India</td>\n",
       "      <td>Financial Services, FinTech</td>\n",
       "      <td>Angel</td>\n",
       "      <td>2000000</td>\n",
       "      <td>Noida, Uttar Pradesh, India</td>\n",
       "      <td>PayMe India is an innovative FinTech organizat...</td>\n",
       "    </tr>\n",
       "    <tr>\n",
       "      <th>4</th>\n",
       "      <td>Eunimart</td>\n",
       "      <td>E-Commerce Platforms, Retail, SaaS</td>\n",
       "      <td>Seed</td>\n",
       "      <td>—</td>\n",
       "      <td>Hyderabad, Andhra Pradesh, India</td>\n",
       "      <td>Eunimart is a one stop solution for merchants ...</td>\n",
       "    </tr>\n",
       "  </tbody>\n",
       "</table>\n",
       "</div>"
      ],
      "text/plain": [
       "      Company Name                                           Industry  \\\n",
       "0  TheCollegeFever  Brand Marketing, Event Promotion, Marketing, S...   \n",
       "1  Happy Cow Dairy                               Agriculture, Farming   \n",
       "2       MyLoanCare   Credit, Financial Services, Lending, Marketplace   \n",
       "3      PayMe India                        Financial Services, FinTech   \n",
       "4         Eunimart                 E-Commerce Platforms, Retail, SaaS   \n",
       "\n",
       "  Round/Series       Amount                          Location  \\\n",
       "0         Seed       250000       Bangalore, Karnataka, India   \n",
       "1         Seed  ₹40,000,000        Mumbai, Maharashtra, India   \n",
       "2     Series A  ₹65,000,000           Gurgaon, Haryana, India   \n",
       "3        Angel      2000000       Noida, Uttar Pradesh, India   \n",
       "4         Seed            —  Hyderabad, Andhra Pradesh, India   \n",
       "\n",
       "                                       About Company  \n",
       "0  TheCollegeFever is a hub for fun, fiesta and f...  \n",
       "1  A startup which aggregates milk from dairy far...  \n",
       "2          Leading Online Loans Marketplace in India  \n",
       "3  PayMe India is an innovative FinTech organizat...  \n",
       "4  Eunimart is a one stop solution for merchants ...  "
      ]
     },
     "execution_count": 9,
     "metadata": {},
     "output_type": "execute_result"
    }
   ],
   "source": [
    "df_2018 = pd.read_csv('startup_funding2018.csv')\n",
    "\n",
    "# Display the DataFrame\n",
    "df_2018.head()"
   ]
  },
  {
   "cell_type": "markdown",
   "metadata": {},
   "source": [
    "### 1.4.1 Data Dictionary\n",
    "The data is about startup funding 2018-2021 and below are the column variables and there defination\n",
    "\n",
    "| Variable | Definition |\n",
    "| --- | --- | \n",
    "| Company_Brand/Company Name| Brand or name of the company. |\n",
    "|Founded | Year the company was established\t| \n",
    "| HeadQuarter/Location|  Location of the company. |\n",
    "| Sector/Industry | Industry category of the company. |\n",
    "| What it does/About Company | Brief description of the company's primary business.|\n",
    "| Founders | Individuals who established the company.|\n",
    "| Investor | Entities or individuals who have invested in the company. |\n",
    "| Amount | Funding amount received by the start-up | |\n",
    "| Stage/Round/Series | Development stage of the company (e.g., early-stage, growth). |\n",
    "| Column 10 |  |"
   ]
  },
  {
   "cell_type": "markdown",
   "metadata": {},
   "source": [
    "### 1.4.2 Hypothesis"
   ]
  },
  {
   "cell_type": "markdown",
   "metadata": {},
   "source": [
    "Null Hypothesis (H0): There is no significant difference in the amount of funding received by different sectors.\n",
    " \n",
    "Alternative Hypothesis (Ha): There is a significant difference in the amount of funding received by different sectors."
   ]
  },
  {
   "cell_type": "markdown",
   "metadata": {},
   "source": [
    "\n",
    "### 1.4.3 Research Question\n",
    " \n",
    "1. What is the overall trend in the total funding received by Indian start-ups from 2018 to 2021?\n",
    "2. Which sectors or industries that have consistently attracted higher funding during this period?\n",
    "3. Which are the top 10 startup names or brands that received most funding in the Indian startup scene from 2018 to 2021?\n",
    "4. What is the correlation between amount of funds received and the stage/age of the start up?\n",
    "5. Is the geographic location of a startup's headquarters a factor that impacts the funding it secures?\n",
    "\n",
    "\n"
   ]
  },
  {
   "cell_type": "markdown",
   "metadata": {},
   "source": [
    "### 1.4.4 Data Preprocessing and cleaning"
   ]
  },
  {
   "cell_type": "markdown",
   "metadata": {},
   "source": [
    "##### Startup-funding 2020 data"
   ]
  },
  {
   "cell_type": "code",
   "execution_count": 10,
   "metadata": {},
   "outputs": [
    {
     "name": "stdout",
     "output_type": "stream",
     "text": [
      "<class 'pandas.core.frame.DataFrame'>\n",
      "RangeIndex: 1055 entries, 0 to 1054\n",
      "Data columns (total 10 columns):\n",
      " #   Column         Non-Null Count  Dtype  \n",
      "---  ------         --------------  -----  \n",
      " 0   Company_Brand  1055 non-null   object \n",
      " 1   Founded        842 non-null    float64\n",
      " 2   HeadQuarter    961 non-null    object \n",
      " 3   Sector         1042 non-null   object \n",
      " 4   What_it_does   1055 non-null   object \n",
      " 5   Founders       1043 non-null   object \n",
      " 6   Investor       1017 non-null   object \n",
      " 7   Amount         801 non-null    float64\n",
      " 8   Stage          591 non-null    object \n",
      " 9   column10       2 non-null      object \n",
      "dtypes: float64(2), object(8)\n",
      "memory usage: 82.5+ KB\n"
     ]
    }
   ],
   "source": [
    "#Display concise information about DataFrame \n",
    "df_2020.info()"
   ]
  },
  {
   "cell_type": "markdown",
   "metadata": {},
   "source": [
    "The dataset consists of 1055 rows and 10 columns. Non-null counts reveal the presence of missing values in several columns, with the 'column10' column having only 2 non-null entries. The data types include objects (strings) for most columns, while 'Founded' and 'Amount' are represented as float64. "
   ]
  },
  {
   "cell_type": "code",
   "execution_count": 11,
   "metadata": {},
   "outputs": [
    {
     "data": {
      "text/html": [
       "<div>\n",
       "<style scoped>\n",
       "    .dataframe tbody tr th:only-of-type {\n",
       "        vertical-align: middle;\n",
       "    }\n",
       "\n",
       "    .dataframe tbody tr th {\n",
       "        vertical-align: top;\n",
       "    }\n",
       "\n",
       "    .dataframe thead th {\n",
       "        text-align: right;\n",
       "    }\n",
       "</style>\n",
       "<table border=\"1\" class=\"dataframe\">\n",
       "  <thead>\n",
       "    <tr style=\"text-align: right;\">\n",
       "      <th></th>\n",
       "      <th>Company_Brand</th>\n",
       "      <th>Founded</th>\n",
       "      <th>HeadQuarter</th>\n",
       "      <th>Sector</th>\n",
       "      <th>What_it_does</th>\n",
       "      <th>Founders</th>\n",
       "      <th>Investor</th>\n",
       "      <th>Amount</th>\n",
       "      <th>Stage</th>\n",
       "      <th>column10</th>\n",
       "      <th>Year</th>\n",
       "    </tr>\n",
       "  </thead>\n",
       "  <tbody>\n",
       "    <tr>\n",
       "      <th>0</th>\n",
       "      <td>Aqgromalin</td>\n",
       "      <td>2019.0</td>\n",
       "      <td>Chennai</td>\n",
       "      <td>AgriTech</td>\n",
       "      <td>Cultivating Ideas for Profit</td>\n",
       "      <td>Prasanna Manogaran, Bharani C L</td>\n",
       "      <td>Angel investors</td>\n",
       "      <td>200000.0</td>\n",
       "      <td>None</td>\n",
       "      <td>None</td>\n",
       "      <td>2020</td>\n",
       "    </tr>\n",
       "    <tr>\n",
       "      <th>1</th>\n",
       "      <td>Krayonnz</td>\n",
       "      <td>2019.0</td>\n",
       "      <td>Bangalore</td>\n",
       "      <td>EdTech</td>\n",
       "      <td>An academy-guardian-scholar centric ecosystem ...</td>\n",
       "      <td>Saurabh Dixit, Gurudutt Upadhyay</td>\n",
       "      <td>GSF Accelerator</td>\n",
       "      <td>100000.0</td>\n",
       "      <td>Pre-seed</td>\n",
       "      <td>None</td>\n",
       "      <td>2020</td>\n",
       "    </tr>\n",
       "  </tbody>\n",
       "</table>\n",
       "</div>"
      ],
      "text/plain": [
       "  Company_Brand  Founded HeadQuarter    Sector  \\\n",
       "0    Aqgromalin   2019.0     Chennai  AgriTech   \n",
       "1      Krayonnz   2019.0   Bangalore    EdTech   \n",
       "\n",
       "                                        What_it_does  \\\n",
       "0                       Cultivating Ideas for Profit   \n",
       "1  An academy-guardian-scholar centric ecosystem ...   \n",
       "\n",
       "                           Founders         Investor    Amount     Stage  \\\n",
       "0   Prasanna Manogaran, Bharani C L  Angel investors  200000.0      None   \n",
       "1  Saurabh Dixit, Gurudutt Upadhyay  GSF Accelerator  100000.0  Pre-seed   \n",
       "\n",
       "  column10  Year  \n",
       "0     None  2020  \n",
       "1     None  2020  "
      ]
     },
     "execution_count": 11,
     "metadata": {},
     "output_type": "execute_result"
    }
   ],
   "source": [
    "# Add a year column\n",
    "df_2020['Year'] = 2020\n",
    "df_2020.head(2)"
   ]
  },
  {
   "cell_type": "markdown",
   "metadata": {},
   "source": [
    "I added an year column to show what year the data is for."
   ]
  },
  {
   "cell_type": "code",
   "execution_count": 12,
   "metadata": {},
   "outputs": [],
   "source": [
    "# changing Amount to Amount($)\n",
    "df_2020.rename(columns={'Amount'\t: 'Amount($)'}, inplace=True)"
   ]
  },
  {
   "cell_type": "code",
   "execution_count": 13,
   "metadata": {},
   "outputs": [
    {
     "data": {
      "text/html": [
       "<div>\n",
       "<style scoped>\n",
       "    .dataframe tbody tr th:only-of-type {\n",
       "        vertical-align: middle;\n",
       "    }\n",
       "\n",
       "    .dataframe tbody tr th {\n",
       "        vertical-align: top;\n",
       "    }\n",
       "\n",
       "    .dataframe thead th {\n",
       "        text-align: right;\n",
       "    }\n",
       "</style>\n",
       "<table border=\"1\" class=\"dataframe\">\n",
       "  <thead>\n",
       "    <tr style=\"text-align: right;\">\n",
       "      <th></th>\n",
       "      <th>Founded</th>\n",
       "      <th>Amount($)</th>\n",
       "      <th>Year</th>\n",
       "    </tr>\n",
       "  </thead>\n",
       "  <tbody>\n",
       "    <tr>\n",
       "      <th>count</th>\n",
       "      <td>842.000000</td>\n",
       "      <td>8.010000e+02</td>\n",
       "      <td>1055.0</td>\n",
       "    </tr>\n",
       "    <tr>\n",
       "      <th>mean</th>\n",
       "      <td>2015.363420</td>\n",
       "      <td>1.130430e+08</td>\n",
       "      <td>2020.0</td>\n",
       "    </tr>\n",
       "    <tr>\n",
       "      <th>std</th>\n",
       "      <td>4.097909</td>\n",
       "      <td>2.476635e+09</td>\n",
       "      <td>0.0</td>\n",
       "    </tr>\n",
       "    <tr>\n",
       "      <th>min</th>\n",
       "      <td>1973.000000</td>\n",
       "      <td>1.270000e+04</td>\n",
       "      <td>2020.0</td>\n",
       "    </tr>\n",
       "    <tr>\n",
       "      <th>25%</th>\n",
       "      <td>2014.000000</td>\n",
       "      <td>1.000000e+06</td>\n",
       "      <td>2020.0</td>\n",
       "    </tr>\n",
       "    <tr>\n",
       "      <th>50%</th>\n",
       "      <td>2016.000000</td>\n",
       "      <td>3.000000e+06</td>\n",
       "      <td>2020.0</td>\n",
       "    </tr>\n",
       "    <tr>\n",
       "      <th>75%</th>\n",
       "      <td>2018.000000</td>\n",
       "      <td>1.100000e+07</td>\n",
       "      <td>2020.0</td>\n",
       "    </tr>\n",
       "    <tr>\n",
       "      <th>max</th>\n",
       "      <td>2020.000000</td>\n",
       "      <td>7.000000e+10</td>\n",
       "      <td>2020.0</td>\n",
       "    </tr>\n",
       "  </tbody>\n",
       "</table>\n",
       "</div>"
      ],
      "text/plain": [
       "           Founded     Amount($)    Year\n",
       "count   842.000000  8.010000e+02  1055.0\n",
       "mean   2015.363420  1.130430e+08  2020.0\n",
       "std       4.097909  2.476635e+09     0.0\n",
       "min    1973.000000  1.270000e+04  2020.0\n",
       "25%    2014.000000  1.000000e+06  2020.0\n",
       "50%    2016.000000  3.000000e+06  2020.0\n",
       "75%    2018.000000  1.100000e+07  2020.0\n",
       "max    2020.000000  7.000000e+10  2020.0"
      ]
     },
     "execution_count": 13,
     "metadata": {},
     "output_type": "execute_result"
    }
   ],
   "source": [
    "df_2020.describe()"
   ]
  },
  {
   "cell_type": "code",
   "execution_count": 14,
   "metadata": {},
   "outputs": [
    {
     "data": {
      "text/plain": [
       "Company_Brand       0\n",
       "Founded           213\n",
       "HeadQuarter        94\n",
       "Sector             13\n",
       "What_it_does        0\n",
       "Founders           12\n",
       "Investor           38\n",
       "Amount($)         254\n",
       "Stage             464\n",
       "column10         1053\n",
       "Year                0\n",
       "dtype: int64"
      ]
     },
     "execution_count": 14,
     "metadata": {},
     "output_type": "execute_result"
    }
   ],
   "source": [
    "#count the number of missing values in each column for 2020\n",
    "df_2020.isnull().sum()"
   ]
  },
  {
   "cell_type": "markdown",
   "metadata": {},
   "source": [
    "df_2020 exhibits varying degrees of missing data across columns, with 'Stage' having the highest count of missing values (464), followed by 'Amount' (254) and 'Founded' (213)."
   ]
  },
  {
   "cell_type": "code",
   "execution_count": 15,
   "metadata": {},
   "outputs": [
    {
     "name": "stdout",
     "output_type": "stream",
     "text": [
      "Index(['Company_Brand', 'HeadQuarter', 'Sector', 'What_it_does', 'Founders',\n",
      "       'Investor', 'Stage', 'column10'],\n",
      "      dtype='object')\n"
     ]
    }
   ],
   "source": [
    "# Select columns with data type 'object' or 'category' (common for categorical data)\n",
    "categorical_columns = df_2020.select_dtypes(include=['object', 'category']).columns\n",
    "\n",
    "# Print or inspect the names of categorical columns\n",
    "print(categorical_columns)"
   ]
  },
  {
   "cell_type": "markdown",
   "metadata": {},
   "source": [
    "### Data cleaning for 2020"
   ]
  },
  {
   "cell_type": "code",
   "execution_count": 16,
   "metadata": {},
   "outputs": [
    {
     "data": {
      "text/plain": [
       "Index(['Company_Brand', 'Founded', 'HeadQuarter', 'Sector', 'What_it_does',\n",
       "       'Founders', 'Investor', 'Amount($)', 'Stage', 'Year'],\n",
       "      dtype='object')"
      ]
     },
     "execution_count": 16,
     "metadata": {},
     "output_type": "execute_result"
    }
   ],
   "source": [
    "#Dropping column10\n",
    "df_2020.drop('column10', axis=1, inplace=True)\n",
    "df_2020.columns"
   ]
  },
  {
   "cell_type": "markdown",
   "metadata": {},
   "source": [
    "I dropped 'column10' because it had only two non-null entries, and its predominant null values provided limited meaningful information. Removing it streamlines the DataFrame and ensures a more focused exploration of meaningful features with sufficient data."
   ]
  },
  {
   "cell_type": "code",
   "execution_count": 17,
   "metadata": {},
   "outputs": [
    {
     "data": {
      "text/plain": [
       "3"
      ]
     },
     "execution_count": 17,
     "metadata": {},
     "output_type": "execute_result"
    }
   ],
   "source": [
    "# Check for duplicates in the entire DataFrame\n",
    "duplicates = df_2020.duplicated().sum()\n",
    "duplicates"
   ]
  },
  {
   "cell_type": "markdown",
   "metadata": {},
   "source": [
    "There 3 duplicates in the 2020 data which I chose to drop"
   ]
  },
  {
   "cell_type": "code",
   "execution_count": 18,
   "metadata": {},
   "outputs": [
    {
     "data": {
      "text/plain": [
       "(1052, 10)"
      ]
     },
     "execution_count": 18,
     "metadata": {},
     "output_type": "execute_result"
    }
   ],
   "source": [
    "# Drop duplicate rows from the DataFrame\n",
    "df_2020 = df_2020.drop_duplicates()\n",
    "\n",
    "# Print or inspect the DataFrame without duplicates\n",
    "df_2020.shape\n"
   ]
  },
  {
   "cell_type": "code",
   "execution_count": 19,
   "metadata": {},
   "outputs": [
    {
     "data": {
      "text/plain": [
       "array([2.0000000e+05, 1.0000000e+05,           nan, 4.0000000e+05,\n",
       "       3.4000000e+05, 6.0000000e+05, 4.5000000e+07, 1.0000000e+06,\n",
       "       2.0000000e+06, 1.2000000e+06, 6.6000000e+08, 1.2000000e+05,\n",
       "       7.5000000e+06, 5.0000000e+06, 5.0000000e+05, 3.0000000e+06,\n",
       "       1.0000000e+07, 1.4500000e+08, 1.0000000e+08, 2.1000000e+07,\n",
       "       4.0000000e+06, 2.0000000e+07, 5.6000000e+05, 2.7500000e+05,\n",
       "       4.5000000e+06, 1.5000000e+07, 3.9000000e+08, 7.0000000e+06,\n",
       "       5.1000000e+06, 7.0000000e+08, 2.3000000e+06, 7.0000000e+05,\n",
       "       1.9000000e+07, 9.0000000e+06, 4.0000000e+07, 7.5000000e+05,\n",
       "       1.5000000e+06, 7.8000000e+06, 5.0000000e+07, 8.0000000e+07,\n",
       "       3.0000000e+07, 1.7000000e+06, 2.5000000e+06, 4.0000000e+04,\n",
       "       3.3000000e+07, 3.5000000e+07, 3.0000000e+05, 2.5000000e+07,\n",
       "       3.5000000e+06, 2.0000000e+08, 6.0000000e+06, 1.3000000e+06,\n",
       "       4.1000000e+06, 5.7500000e+05, 8.0000000e+05, 2.8000000e+07,\n",
       "       1.8000000e+07, 3.2000000e+06, 9.0000000e+05, 2.5000000e+05,\n",
       "       4.7000000e+06, 7.5000000e+07, 8.0000000e+06, 1.2100000e+08,\n",
       "       5.5000000e+07, 3.3000000e+06, 1.1000000e+07, 1.6000000e+07,\n",
       "       5.4000000e+06, 1.5000000e+08, 4.2000000e+06, 2.2000000e+07,\n",
       "       5.2000000e+07, 1.1000000e+06, 1.1800000e+08, 1.6000000e+06,\n",
       "       1.8500000e+07, 7.0000000e+10, 8.0000000e+08, 4.0000000e+08,\n",
       "       1.5000000e+05, 1.7600000e+08, 6.0000000e+07, 4.7000000e+05,\n",
       "       2.4000000e+05, 3.0000000e+09, 7.4000000e+07, 6.2000000e+07,\n",
       "       2.1000000e+06, 5.0000000e+08, 1.2500000e+07, 2.2000000e+09,\n",
       "       5.0600000e+06, 2.2500000e+08, 2.4700000e+07, 7.7000000e+06,\n",
       "       1.9067328e+07, 5.1000000e+07, 1.1500000e+05, 5.4000000e+04,\n",
       "       2.0000000e+04, 8.0314600e+05, 2.3800000e+05, 1.0220000e+07,\n",
       "       1.0200000e+06, 1.2000000e+07, 1.3400000e+07, 1.7000000e+08,\n",
       "       2.9000000e+06, 5.4300000e+05, 9.0000000e+07, 3.4000000e+06,\n",
       "       2.3000000e+07, 8.0900000e+06, 1.0300000e+06, 5.0400000e+06,\n",
       "       3.6000000e+05, 1.4000000e+06, 6.5000000e+05, 5.4000000e+07,\n",
       "       4.2500000e+07, 1.1370000e+07, 3.2500000e+05, 4.1000000e+05,\n",
       "       4.5000000e+05, 6.8200000e+05, 4.0500000e+06, 1.0500000e+06,\n",
       "       1.0800000e+06, 4.3000000e+06, 6.8000000e+06, 2.1100000e+06,\n",
       "       7.6400000e+05, 6.0300000e+05, 4.0900000e+05, 2.9200000e+05,\n",
       "       2.8600000e+05, 1.3600000e+05, 5.4600000e+05, 8.8700000e+05,\n",
       "       4.3000000e+04, 4.0900000e+04, 2.2000000e+06, 5.6600000e+06,\n",
       "       3.5000000e+05, 1.1000000e+05, 1.2200000e+08, 1.1635000e+07,\n",
       "       2.8000000e+06, 1.0650000e+06, 6.6900000e+05, 1.6076000e+07,\n",
       "       6.4960000e+05, 6.7000000e+06, 2.2000000e+05, 2.6650000e+05,\n",
       "       2.8790000e+06, 2.6500000e+07, 3.5100000e+05, 4.6761000e+07,\n",
       "       1.7500000e+05, 1.1241000e+07, 8.0400000e+05, 1.3400000e+06,\n",
       "       4.6700000e+05, 1.3300000e+05, 3.8230000e+06, 9.3400000e+05,\n",
       "       2.9300000e+05, 1.9800000e+05, 9.2700000e+05, 9.7100000e+05,\n",
       "       3.0600000e+06, 1.8620000e+06, 2.3200000e+05, 2.8880000e+06,\n",
       "       1.3280000e+06, 1.5500000e+07, 5.6000000e+07, 2.2500000e+06,\n",
       "       1.6753000e+07, 3.7000000e+06, 1.4700000e+06, 5.3000000e+05,\n",
       "       2.6700000e+05, 3.3440000e+06, 7.2000000e+06, 2.7430000e+06,\n",
       "       6.0820000e+06, 6.6090000e+06, 2.7700000e+07, 5.9400000e+06,\n",
       "       3.9640000e+06, 5.5000000e+06, 1.9700000e+05, 4.3270000e+06,\n",
       "       4.5900000e+05, 3.9370000e+06, 1.3135000e+06, 2.2980000e+05,\n",
       "       5.3050000e+06, 2.6400000e+05, 1.7500000e+06, 5.9670000e+06,\n",
       "       2.9800000e+06, 3.2300000e+05, 1.3260000e+06, 2.7000000e+07,\n",
       "       5.2000000e+06, 2.5300000e+06, 7.9200000e+05, 1.1363000e+07,\n",
       "       1.7150000e+06, 3.2900000e+05, 5.2710000e+06, 8.7000000e+06,\n",
       "       3.2260000e+06, 5.9000000e+06, 4.4000000e+07, 3.8790000e+06,\n",
       "       1.3000000e+07, 8.8000000e+06, 9.5000000e+06, 9.2000000e+05,\n",
       "       3.5600000e+07, 9.4000000e+06, 7.9000000e+05, 4.8000000e+05,\n",
       "       1.6000000e+05, 8.2000000e+06, 4.2570000e+06, 1.4100000e+06,\n",
       "       3.4980000e+05, 7.8600000e+05, 2.0040000e+06, 1.2300000e+08,\n",
       "       2.4800000e+05, 2.4000000e+07, 1.4259000e+07, 2.4500000e+07,\n",
       "       3.8000000e+06, 1.8370000e+07, 6.8525000e+07, 4.8000000e+06,\n",
       "       1.8340000e+06, 2.3850000e+07, 4.3000000e+07, 2.1600000e+07,\n",
       "       4.5980000e+06, 1.3137000e+07, 1.1500000e+08, 3.9000000e+06,\n",
       "       6.7000000e+05, 8.5000000e+06, 3.1480000e+06, 2.6000000e+06,\n",
       "       4.0495000e+06, 1.0500000e+07, 6.5000000e+06, 4.3700000e+07,\n",
       "       1.3800000e+07, 3.0690000e+05, 4.2000000e+05, 6.2730000e+05,\n",
       "       1.1300000e+08, 3.2000000e+07, 1.1000000e+08, 1.3970000e+06,\n",
       "       4.4850000e+05, 7.9757000e+06, 3.3000000e+05, 5.6000000e+06,\n",
       "       1.4020000e+06, 2.1500000e+07, 2.9600000e+08, 4.9000000e+06,\n",
       "       1.4024000e+06, 1.2618300e+07, 9.9000000e+06, 9.8253000e+05,\n",
       "       7.0185200e+07, 2.1000000e+08, 8.4000000e+07, 3.9000000e+07,\n",
       "       2.7000000e+06, 1.4034000e+06, 1.0500000e+08, 1.0300000e+08,\n",
       "       2.8130000e+05, 1.2700000e+04, 2.5000000e+04, 9.7500000e+07,\n",
       "       5.0700000e+05, 8.4000000e+06, 1.8300000e+07, 1.2500000e+08,\n",
       "       1.8100000e+05, 2.8000000e+05, 1.4700000e+07, 1.3200000e+07,\n",
       "       8.0430000e+06])"
      ]
     },
     "execution_count": 19,
     "metadata": {},
     "output_type": "execute_result"
    }
   ],
   "source": [
    "#checking for unique entries in amount\n",
    "df_2020['Amount($)'].unique()"
   ]
  },
  {
   "cell_type": "code",
   "execution_count": 20,
   "metadata": {},
   "outputs": [
    {
     "data": {
      "text/plain": [
       "253"
      ]
     },
     "execution_count": 20,
     "metadata": {},
     "output_type": "execute_result"
    }
   ],
   "source": [
    "df_2020['Amount($)'].isnull().sum()"
   ]
  },
  {
   "cell_type": "code",
   "execution_count": 21,
   "metadata": {},
   "outputs": [],
   "source": [
    "# Calculate the median\n",
    "median_amount = df_2020['Amount($)'].median()\n",
    "\n",
    "# Fill null values with the median\n",
    "df_2020['Amount($)'].fillna(median_amount, inplace=True)\n"
   ]
  },
  {
   "cell_type": "markdown",
   "metadata": {},
   "source": [
    "The reason behind filling the Amount null values with median is that the median is a robust measure of central tendency, less sensitive to extreme values or outliers than the mean. In the context of startup funding, where amounts can vary significantly, using the median helps ensure a more representative fill value. However, it's important to acknowledge the limitations of this approach. Filling null values with the median assumes that the distribution of funding amounts is not heavily skewed or influenced by extreme values. "
   ]
  },
  {
   "cell_type": "code",
   "execution_count": 22,
   "metadata": {},
   "outputs": [
    {
     "data": {
      "text/plain": [
       "0"
      ]
     },
     "execution_count": 22,
     "metadata": {},
     "output_type": "execute_result"
    }
   ],
   "source": [
    "df_2020['Amount($)'].isnull().sum()"
   ]
  },
  {
   "cell_type": "code",
   "execution_count": 23,
   "metadata": {},
   "outputs": [
    {
     "data": {
      "text/plain": [
       "dtype('float64')"
      ]
     },
     "execution_count": 23,
     "metadata": {},
     "output_type": "execute_result"
    }
   ],
   "source": [
    "df_2020['Amount($)'].dtype"
   ]
  },
  {
   "cell_type": "code",
   "execution_count": 24,
   "metadata": {},
   "outputs": [
    {
     "data": {
      "text/plain": [
       "array(['Chennai', 'Bangalore', 'Pune', 'New Delhi', 'Indore', 'Hyderabad',\n",
       "       'Gurgaon', 'Belgaum', 'Noida', 'Mumbai', 'Andheri', 'Jaipur',\n",
       "       'Ahmedabad', 'Kolkata', 'Tirunelveli, Tamilnadu', 'Thane', None,\n",
       "       'Singapore', 'Gurugram', 'Gujarat', 'Haryana', 'Kerala', 'Jodhpur',\n",
       "       'Jaipur, Rajastan', 'Delhi', 'Frisco, Texas, United States',\n",
       "       'California', 'Dhingsara, Haryana', 'New York, United States',\n",
       "       'Patna', 'San Francisco, California, United States',\n",
       "       'San Francisco, United States', 'San Ramon, California',\n",
       "       'Paris, Ile-de-France, France', 'Plano, Texas, United States',\n",
       "       'Sydney', 'San Francisco Bay Area, Silicon Valley, West Coast',\n",
       "       'Bangaldesh', 'London, England, United Kingdom',\n",
       "       'Sydney, New South Wales, Australia', 'Milano, Lombardia, Italy',\n",
       "       'Palmwoods, Queensland, Australia', 'France',\n",
       "       'San Francisco Bay Area, West Coast, Western US',\n",
       "       'Trivandrum, Kerala, India', 'Cochin', 'Samastipur, Bihar',\n",
       "       'Irvine, California, United States', 'Tumkur, Karnataka',\n",
       "       'Newcastle Upon Tyne, Newcastle upon Tyne, United Kingdom',\n",
       "       'Shanghai, China', 'Jiaxing, Zhejiang, China', 'Rajastan', 'Kochi',\n",
       "       'Ludhiana', 'Dehradun', 'San Franciscao', 'San Francisco',\n",
       "       'Tangerang, Jawa Barat, Indonesia', 'Berlin', 'Seattle', 'Riyadh',\n",
       "       'Seoul', 'New York', 'Bangkok', 'Kanpur', 'Chandigarh', 'Warangal',\n",
       "       'Hyderebad', 'Odisha', 'Bihar', 'Goa', 'Tamil Nadu',\n",
       "       'Uttar Pradesh', 'Bhopal', 'Banglore', 'Coimbatore', 'Bengaluru'],\n",
       "      dtype=object)"
      ]
     },
     "execution_count": 24,
     "metadata": {},
     "output_type": "execute_result"
    }
   ],
   "source": [
    "df_2020['HeadQuarter'].unique()"
   ]
  },
  {
   "cell_type": "code",
   "execution_count": 25,
   "metadata": {},
   "outputs": [],
   "source": [
    "# Corrections for 'HeadQuarter' entries in df_2020 with the correct spelling and Standardizing the names\n",
    "corrections = {\n",
    "    'Bangaldesh': 'Bangladesh',      \n",
    "    'Cochin': 'Kochi',               \n",
    "    'Rajastan': 'Rajasthan',         \n",
    "    'Hyderebad': 'Hyderabad',        \n",
    "    'Banglore': 'Bangalore',         \n",
    "    'Bengaluru': 'Bangalore', \n",
    "    'San Francisco Bay Area': 'San Francisco',\n",
    "    'Newcastle Upon Tyne': 'Newcastle',\n",
    "    'San Franciscao': 'San Francisco',\n",
    "    'New Delhi' : 'Delhi'\n",
    "\n",
    "    \n",
    "\n",
    "}\n",
    "\n",
    "# Applying corrections to the 'HeadQuarter' column\n",
    "df_2020['HeadQuarter'] = df_2020['HeadQuarter'].replace(corrections)\n"
   ]
  },
  {
   "cell_type": "markdown",
   "metadata": {},
   "source": [
    " Some entries have spelling variations, and the corrections were made to standardize them, ensuring consistency."
   ]
  },
  {
   "cell_type": "code",
   "execution_count": 26,
   "metadata": {},
   "outputs": [],
   "source": [
    "# Extracting only the first name from the 'HeadQuarter' column\n",
    "df_2020['HeadQuarter'] = df_2020['HeadQuarter'].str.split(',').str[0]\n",
    "\n",
    "# The code above splits the 'HeadQuarter' values by commas and keeps only the first part,\n",
    "# effectively retaining the primary headquarters name in each row which we assume is the city that the headquarters are.\n",
    "# This helps standardize the data and ensures consistency in the representation of headquarters.\n",
    "\n"
   ]
  },
  {
   "cell_type": "code",
   "execution_count": 27,
   "metadata": {},
   "outputs": [
    {
     "data": {
      "text/plain": [
       "array(['Chennai', 'Bangalore', 'Pune', 'Delhi', 'Indore', 'Hyderabad',\n",
       "       'Gurgaon', 'Belgaum', 'Noida', 'Mumbai', 'Andheri', 'Jaipur',\n",
       "       'Ahmedabad', 'Kolkata', 'Tirunelveli', 'Thane', None, 'Singapore',\n",
       "       'Gurugram', 'Gujarat', 'Haryana', 'Kerala', 'Jodhpur', 'Frisco',\n",
       "       'California', 'Dhingsara', 'New York', 'Patna', 'San Francisco',\n",
       "       'San Ramon', 'Paris', 'Plano', 'Sydney', 'San Francisco Bay Area',\n",
       "       'Bangladesh', 'London', 'Milano', 'Palmwoods', 'France',\n",
       "       'Trivandrum', 'Kochi', 'Samastipur', 'Irvine', 'Tumkur',\n",
       "       'Newcastle Upon Tyne', 'Shanghai', 'Jiaxing', 'Rajasthan',\n",
       "       'Ludhiana', 'Dehradun', 'Tangerang', 'Berlin', 'Seattle', 'Riyadh',\n",
       "       'Seoul', 'Bangkok', 'Kanpur', 'Chandigarh', 'Warangal', 'Odisha',\n",
       "       'Bihar', 'Goa', 'Tamil Nadu', 'Uttar Pradesh', 'Bhopal',\n",
       "       'Coimbatore'], dtype=object)"
      ]
     },
     "execution_count": 27,
     "metadata": {},
     "output_type": "execute_result"
    }
   ],
   "source": [
    "df_2020['HeadQuarter'].unique()"
   ]
  },
  {
   "cell_type": "code",
   "execution_count": 28,
   "metadata": {},
   "outputs": [
    {
     "data": {
      "text/plain": [
       "94"
      ]
     },
     "execution_count": 28,
     "metadata": {},
     "output_type": "execute_result"
    }
   ],
   "source": [
    "#check null values in HeadQuarter\n",
    "df_2020['HeadQuarter'].isna().sum()"
   ]
  },
  {
   "cell_type": "code",
   "execution_count": 29,
   "metadata": {},
   "outputs": [],
   "source": [
    "#replace all null values in the 'HeadQuarter' column with the string 'Unknown'.\n",
    "df_2020['HeadQuarter'] = df_2020['HeadQuarter'].fillna('Unknown')\n"
   ]
  },
  {
   "cell_type": "code",
   "execution_count": 30,
   "metadata": {},
   "outputs": [
    {
     "data": {
      "text/plain": [
       "array(['AgriTech', 'EdTech', 'Hygiene management', 'Escrow',\n",
       "       'Networking platform', 'FinTech', 'Crowdsourcing',\n",
       "       'Food & Bevarages', 'HealthTech', 'Fashion startup',\n",
       "       'Food Industry', 'Food Delivery', 'Virtual auditing startup',\n",
       "       'E-commerce', 'Gaming', 'Work fulfillment', 'AI startup',\n",
       "       'Telecommunication', 'Logistics', 'Tech Startup', 'Sports',\n",
       "       'Retail', 'Medtech', 'Tyre management', 'Cloud company',\n",
       "       'Software company', 'Venture capitalist', 'Renewable player',\n",
       "       'IoT startup', 'SaaS startup', 'Aero company', 'Marketing company',\n",
       "       'Retail startup', 'Co-working Startup', 'Finance company',\n",
       "       'Tech company', 'Solar Monitoring Company',\n",
       "       'Video sharing platform', 'Gaming startup',\n",
       "       'Video streaming platform', 'Consumer appliances',\n",
       "       'Blockchain startup', 'Conversational AI platform', 'Real Estate',\n",
       "       'SaaS platform', 'AI platform', 'Fusion beverages', 'HR Tech',\n",
       "       'Job portal', 'Hospitality', 'Digital Media', 'Dairy startup',\n",
       "       'Content management', 'Spacetech', 'Transportation',\n",
       "       'Trading platform', 'AI Company', 'Photonics startup',\n",
       "       'Entertainment', 'Cosmetics', 'Scanning app', 'Skincare startup',\n",
       "       'Food and Beverages', 'Biotechnology company', 'FoodTech',\n",
       "       'Proptech', 'CleanTech', 'Fitness startup', 'Healthcare',\n",
       "       'PaaS startup', 'Beverages', 'Social Media', 'Automobiles',\n",
       "       'Deeptech', 'EV startup', 'AR/VR startup', 'Recruitment startup',\n",
       "       'QSR startup', 'Video platform', 'Edtech', 'Fertility tech',\n",
       "       'Luxury car startup', 'FM', 'Food', 'Nutrition sector',\n",
       "       'Tech platform', 'Video', 'Retail Tech', 'HeathTech',\n",
       "       'Sles and marketing', 'LegalTech', 'Car Service',\n",
       "       'Bike marketplace', 'Agri tech', 'Reatil startup', 'AR platform',\n",
       "       'Consumer Goods', 'Content marketplace', 'Interior Design',\n",
       "       'Rental space', 'Soil-Tech', 'Ayurveda tech',\n",
       "       'Packaging solution startup', 'Cleantech', 'Sanitation solutions',\n",
       "       'HealthCare', 'Home Design', 'InsureTech', 'AI Startup',\n",
       "       'Solar solution', 'Jewellery startup',\n",
       "       'Multinational conglomerate company', 'Deeptech startup',\n",
       "       'Social Network', 'Publication', 'Tech', 'Fashion', 'Finance',\n",
       "       'Venture capital', 'Entreprenurship', 'Food devlivery',\n",
       "       'Warehouse', 'Online financial service', 'Eyeglasses',\n",
       "       'Battery design', 'Online credit management startup', 'Beverage',\n",
       "       'TravelTech', 'Agriculture', 'Startup laboratory',\n",
       "       'Personal care startup', 'Customer service company',\n",
       "       'SaaS\\xa0\\xa0startup', 'Marketing startup', 'Service industry',\n",
       "       'Social media', 'AI', 'Jewellery', 'AR startup', 'HR Tech startup',\n",
       "       'Automotive Startup', 'Food Startup', 'EdTech Startup',\n",
       "       'Car Trade', 'EdtTech', 'Manufacturing', 'AI Platform',\n",
       "       'Automation', 'Solar SaaS', 'WL & RAC protection',\n",
       "       'Social commerce', 'Home interior services', 'Agritech startup',\n",
       "       'API platform', 'Deep Tech', 'Electricity', 'Automotive company',\n",
       "       'FMCG', 'Insurance Tech', 'Video personalization',\n",
       "       'Software Company', 'Biomaterial startup', 'Health', 'IT',\n",
       "       'Craft Beer', 'Healthtech', 'Education', 'Investment',\n",
       "       'Linguistic Spiritual', 'Construction', 'Battery manufacturer',\n",
       "       'Nano Distribution Network', 'AI health', 'Dating app', 'Media',\n",
       "       'Fintech', 'Healthcare/Edtech', 'Social Commerce',\n",
       "       'Agritech/Commerce', 'Mobility tech', 'Social e-commerce',\n",
       "       'Food & Logistics', 'SpaceTech', 'Nutrition Tech', 'HR', 'IoT',\n",
       "       None, 'Agritech', 'Interior design', 'Foodtech', 'AR/VR',\n",
       "       'Appliance', 'HR tech', 'Food tech', 'Mental Health', 'Ecommerce',\n",
       "       'Solar Solution', 'SaaS', 'Automobile', 'B2B marketplace',\n",
       "       'Fashion Tech', 'Nutrition tech', 'Health & Wellness',\n",
       "       'Cloud Kitchen', 'IoT/Automobile', 'Eye Wear', 'Digital tech',\n",
       "       'Data Intelligence', 'Co-living', 'Food & Beverages', 'Automotive',\n",
       "       'B2B', 'Defense tech', 'Marketplace', 'Construction tech',\n",
       "       'Nutrition', 'Coworking', 'Micro-mobiity', 'Auto-tech', 'Beauty',\n",
       "       'Robotics', 'Yoga & wellness', 'Logitech', 'Med Tech',\n",
       "       'Life sciences', 'Retail Aggregator', 'Deep Tech AI', 'Biotech',\n",
       "       'Blockchain', 'HrTech', 'Mobility/Transport', 'Travel', 'Rental',\n",
       "       'AI & Debt', 'SaaS/Edtech', 'Transport', 'Co-working', 'Insurtech',\n",
       "       'Cryptocurrency', 'Automotive tech', 'Legal', 'Fitness', 'EV',\n",
       "       'Supply chain, Agritech', 'Pharma', 'Insurance technology',\n",
       "       'Foodtech & Logistics', 'Housing', 'Pharmaceutical',\n",
       "       'Data Analytics', 'Investment Tech', 'Financial Services',\n",
       "       'Biopharma', 'Dairy', 'Beauty & wellness', 'Travel & SaaS',\n",
       "       'Tourism & EV', 'Media Tech', 'Location Analytics', 'E store',\n",
       "       'Data Science', 'Insurance', 'Health and Fitness', 'Technology',\n",
       "       'Interior & decor', 'eMobility', 'Automation tech',\n",
       "       'Media & Networking', 'E-market', 'AI & Data science',\n",
       "       'Travel tech', 'Automotive and Rentals', 'E-tail', 'Accomodation',\n",
       "       'AI & Media', 'Machine Learning', 'Content Marktplace',\n",
       "       'Visual Media', 'Hygiene', 'VR & SaaS', 'Sales & Services',\n",
       "       'AI & Deep learning', 'Housing & Rentals', 'Estore', 'Marketing',\n",
       "       'E tailor', 'E-mobility', 'Ad-tech', 'Neo-banking',\n",
       "       'Transport Automation', 'Techonology', 'Transport & Rentals',\n",
       "       'AI Robotics', 'Preschool Daycare', 'Food diet', 'B2B Agritech',\n",
       "       'E-connect', 'Tech hub', 'Consultancy', 'Pharmacy', 'Deisgning',\n",
       "       'Taxation', 'Automobile Technology'], dtype=object)"
      ]
     },
     "execution_count": 30,
     "metadata": {},
     "output_type": "execute_result"
    }
   ],
   "source": [
    "#check unique values in Sector\n",
    "df_2020['Sector'].unique()"
   ]
  },
  {
   "cell_type": "code",
   "execution_count": 31,
   "metadata": {},
   "outputs": [],
   "source": [
    "# Corrections in sector column\n",
    "corrections = {\n",
    "    'HeathTech': 'HealthTech',\n",
    "    'Heathtech': 'Healthtech',\n",
    "    'Ecommerce': 'E-commerce',\n",
    "    'SaaS\\xa0\\xa0startup': 'SaaS',\n",
    "    'EdtTech': 'EdTech',\n",
    "   \n",
    "}\n",
    "\n",
    "# Applying corrections to the 'Sector' column\n",
    "df_2020['Sector'] = df_2020['Sector'].replace(corrections)\n"
   ]
  },
  {
   "cell_type": "code",
   "execution_count": 32,
   "metadata": {},
   "outputs": [
    {
     "data": {
      "text/plain": [
       "13"
      ]
     },
     "execution_count": 32,
     "metadata": {},
     "output_type": "execute_result"
    }
   ],
   "source": [
    "#check null values in Sector\n",
    "df_2020['Sector'].isna().sum()"
   ]
  },
  {
   "cell_type": "code",
   "execution_count": 33,
   "metadata": {},
   "outputs": [],
   "source": [
    "#replace all null values in the 'Sector' column with the string 'Unknown'.\n",
    "df_2020['Sector'] = df_2020['Sector'].fillna('Unknown')"
   ]
  },
  {
   "cell_type": "code",
   "execution_count": 34,
   "metadata": {},
   "outputs": [
    {
     "name": "stdout",
     "output_type": "stream",
     "text": [
      "<class 'pandas.core.frame.DataFrame'>\n",
      "Index: 1052 entries, 0 to 1054\n",
      "Data columns (total 10 columns):\n",
      " #   Column         Non-Null Count  Dtype  \n",
      "---  ------         --------------  -----  \n",
      " 0   Company_Brand  1052 non-null   object \n",
      " 1   Founded        839 non-null    float64\n",
      " 2   HeadQuarter    1052 non-null   object \n",
      " 3   Sector         1052 non-null   object \n",
      " 4   What_it_does   1052 non-null   object \n",
      " 5   Founders       1040 non-null   object \n",
      " 6   Investor       1014 non-null   object \n",
      " 7   Amount($)      1052 non-null   float64\n",
      " 8   Stage          590 non-null    object \n",
      " 9   Year           1052 non-null   int64  \n",
      "dtypes: float64(2), int64(1), object(7)\n",
      "memory usage: 90.4+ KB\n"
     ]
    }
   ],
   "source": [
    "df_2020.info()"
   ]
  },
  {
   "cell_type": "code",
   "execution_count": 35,
   "metadata": {},
   "outputs": [
    {
     "data": {
      "text/plain": [
       "array([None, 'Pre-seed', 'Seed', 'Pre-series A', 'Pre-series', 'Series C',\n",
       "       'Series A', 'Series B', 'Debt', 'Pre-series C', 'Pre-series B',\n",
       "       'Series E', 'Bridge', 'Series D', 'Series B2', 'Series F',\n",
       "       'Pre- series A', 'Edge', 'Series H', 'Pre-Series B', 'Seed A',\n",
       "       'Series A-1', 'Seed Funding', 'Pre-Seed', 'Seed round',\n",
       "       'Pre-seed Round', 'Seed Round & Series A', 'Pre Series A',\n",
       "       'Pre seed Round', 'Angel Round', 'Pre series A1', 'Series E2',\n",
       "       'Pre series A', 'Seed Round', 'Bridge Round', 'Pre seed round',\n",
       "       'Pre series B', 'Pre series C', 'Seed Investment', 'Series D1',\n",
       "       'Mid series', 'Series C, D', 'Seed funding'], dtype=object)"
      ]
     },
     "execution_count": 35,
     "metadata": {},
     "output_type": "execute_result"
    }
   ],
   "source": [
    "#check for unique values in Stage\n",
    "df_2020['Stage'].unique() "
   ]
  },
  {
   "cell_type": "code",
   "execution_count": 36,
   "metadata": {},
   "outputs": [],
   "source": [
    "# Corrections for 'Stage' entries in df_2020\n",
    "corrections = {\n",
    "    'Pre- series A': 'Pre-series A',\n",
    "    'Pre series A1': 'Pre-series A-1',\n",
    "    'Pre-seed Round': 'Pre-seed',\n",
    "    'Seed round': 'Seed',\n",
    "    'Seed Round & Series A': 'Seed',\n",
    "    'Pre Seed': 'Pre-seed',\n",
    "    'Seed Funding': 'Seed',\n",
    "    'Pre seed Round': 'Pre-seed',\n",
    "    'Angel Round': 'Angel',\n",
    "    'Pre series A': 'Pre-series A',\n",
    "    'Pre seed round': 'Pre-seed',\n",
    "    'Pre series B': 'Pre-series B',\n",
    "    'Pre series C': 'Pre-series C',\n",
    "    'Mid series': 'Unknown',\n",
    "    'Series C, D': 'Series C',\n",
    "    \n",
    "}\n",
    "\n",
    "# Applying corrections to the 'Stage' column\n",
    "df_2020['Stage'] = df_2020['Stage'].replace(corrections)\n"
   ]
  },
  {
   "cell_type": "code",
   "execution_count": 37,
   "metadata": {},
   "outputs": [
    {
     "data": {
      "text/plain": [
       "462"
      ]
     },
     "execution_count": 37,
     "metadata": {},
     "output_type": "execute_result"
    }
   ],
   "source": [
    "#Checking null values\n",
    "df_2020['Stage'].isnull().sum()"
   ]
  },
  {
   "cell_type": "code",
   "execution_count": 38,
   "metadata": {},
   "outputs": [],
   "source": [
    "#replace all null values in the 'Stage' column with the string 'Unknown'.\n",
    "df_2020['Stage'] = df_2020['Stage'].fillna('Unknown')"
   ]
  },
  {
   "cell_type": "markdown",
   "metadata": {},
   "source": [
    "Replacing null values with 'Unknown' in the 'Stage' column serves to maintain transparency about the absence or ambiguity of specific funding stage information. It avoids potentially misleading imputations, allowing stakeholders to recognize and account for the inherent uncertainties in the dataset. This approach fosters a more honest representation of the data, enhancing its reliability for investors and analysts making strategic decisions based on funding stages."
   ]
  },
  {
   "cell_type": "code",
   "execution_count": null,
   "metadata": {},
   "outputs": [],
   "source": []
  },
  {
   "cell_type": "markdown",
   "metadata": {},
   "source": [
    "##### Startup-funding 2021 data"
   ]
  },
  {
   "cell_type": "code",
   "execution_count": 39,
   "metadata": {},
   "outputs": [
    {
     "data": {
      "text/html": [
       "<div>\n",
       "<style scoped>\n",
       "    .dataframe tbody tr th:only-of-type {\n",
       "        vertical-align: middle;\n",
       "    }\n",
       "\n",
       "    .dataframe tbody tr th {\n",
       "        vertical-align: top;\n",
       "    }\n",
       "\n",
       "    .dataframe thead th {\n",
       "        text-align: right;\n",
       "    }\n",
       "</style>\n",
       "<table border=\"1\" class=\"dataframe\">\n",
       "  <thead>\n",
       "    <tr style=\"text-align: right;\">\n",
       "      <th></th>\n",
       "      <th>Company_Brand</th>\n",
       "      <th>Founded</th>\n",
       "      <th>HeadQuarter</th>\n",
       "      <th>Sector</th>\n",
       "      <th>What_it_does</th>\n",
       "      <th>Founders</th>\n",
       "      <th>Investor</th>\n",
       "      <th>Amount</th>\n",
       "      <th>Stage</th>\n",
       "      <th>Year</th>\n",
       "    </tr>\n",
       "  </thead>\n",
       "  <tbody>\n",
       "    <tr>\n",
       "      <th>0</th>\n",
       "      <td>Unbox Robotics</td>\n",
       "      <td>2019.0</td>\n",
       "      <td>Bangalore</td>\n",
       "      <td>AI startup</td>\n",
       "      <td>Unbox Robotics builds on-demand AI-driven ware...</td>\n",
       "      <td>Pramod Ghadge, Shahid Memon</td>\n",
       "      <td>BEENEXT, Entrepreneur First</td>\n",
       "      <td>$1,200,000</td>\n",
       "      <td>Pre-series A</td>\n",
       "      <td>2021</td>\n",
       "    </tr>\n",
       "    <tr>\n",
       "      <th>1</th>\n",
       "      <td>upGrad</td>\n",
       "      <td>2015.0</td>\n",
       "      <td>Mumbai</td>\n",
       "      <td>EdTech</td>\n",
       "      <td>UpGrad is an online higher education platform.</td>\n",
       "      <td>Mayank Kumar, Phalgun Kompalli, Ravijot Chugh,...</td>\n",
       "      <td>Unilazer Ventures, IIFL Asset Management</td>\n",
       "      <td>$120,000,000</td>\n",
       "      <td>None</td>\n",
       "      <td>2021</td>\n",
       "    </tr>\n",
       "  </tbody>\n",
       "</table>\n",
       "</div>"
      ],
      "text/plain": [
       "    Company_Brand  Founded HeadQuarter      Sector  \\\n",
       "0  Unbox Robotics   2019.0   Bangalore  AI startup   \n",
       "1          upGrad   2015.0      Mumbai      EdTech   \n",
       "\n",
       "                                        What_it_does  \\\n",
       "0  Unbox Robotics builds on-demand AI-driven ware...   \n",
       "1     UpGrad is an online higher education platform.   \n",
       "\n",
       "                                            Founders  \\\n",
       "0                        Pramod Ghadge, Shahid Memon   \n",
       "1  Mayank Kumar, Phalgun Kompalli, Ravijot Chugh,...   \n",
       "\n",
       "                                   Investor        Amount         Stage  Year  \n",
       "0               BEENEXT, Entrepreneur First    $1,200,000  Pre-series A  2021  \n",
       "1  Unilazer Ventures, IIFL Asset Management  $120,000,000          None  2021  "
      ]
     },
     "execution_count": 39,
     "metadata": {},
     "output_type": "execute_result"
    }
   ],
   "source": [
    "# Add a year column\n",
    "df_2021['Year'] = 2021\n",
    "df_2021.head(2)"
   ]
  },
  {
   "cell_type": "code",
   "execution_count": 40,
   "metadata": {},
   "outputs": [
    {
     "name": "stdout",
     "output_type": "stream",
     "text": [
      "<class 'pandas.core.frame.DataFrame'>\n",
      "RangeIndex: 1209 entries, 0 to 1208\n",
      "Data columns (total 10 columns):\n",
      " #   Column         Non-Null Count  Dtype  \n",
      "---  ------         --------------  -----  \n",
      " 0   Company_Brand  1209 non-null   object \n",
      " 1   Founded        1208 non-null   float64\n",
      " 2   HeadQuarter    1208 non-null   object \n",
      " 3   Sector         1209 non-null   object \n",
      " 4   What_it_does   1209 non-null   object \n",
      " 5   Founders       1205 non-null   object \n",
      " 6   Investor       1147 non-null   object \n",
      " 7   Amount         1206 non-null   object \n",
      " 8   Stage          781 non-null    object \n",
      " 9   Year           1209 non-null   int64  \n",
      "dtypes: float64(1), int64(1), object(8)\n",
      "memory usage: 94.6+ KB\n"
     ]
    }
   ],
   "source": [
    "# Display concise information about DataFrame for 2021\n",
    "df_2021.info()"
   ]
  },
  {
   "cell_type": "markdown",
   "metadata": {},
   "source": [
    "The DataFrame contains 1209 rows and 9 columns. Notably, there are missing values in various columns, including 'Founders,' 'Investor,' 'Amount,' and 'Stage,' as indicated by the non-null counts. Additionally, the 'Amount' column is currently of object type, suggesting potential inconsistencies or non-numeric entries that may need further exploration or cleaning."
   ]
  },
  {
   "cell_type": "code",
   "execution_count": 41,
   "metadata": {},
   "outputs": [
    {
     "data": {
      "text/plain": [
       "Company_Brand      0\n",
       "Founded            1\n",
       "HeadQuarter        1\n",
       "Sector             0\n",
       "What_it_does       0\n",
       "Founders           4\n",
       "Investor          62\n",
       "Amount             3\n",
       "Stage            428\n",
       "Year               0\n",
       "dtype: int64"
      ]
     },
     "execution_count": 41,
     "metadata": {},
     "output_type": "execute_result"
    }
   ],
   "source": [
    "#count the number of missing values in each column\n",
    "df_2021.isnull().sum()"
   ]
  },
  {
   "cell_type": "markdown",
   "metadata": {},
   "source": [
    "The dataset exhibits missing values across various columns: 'Founded' and 'HeadQuarter' each have one missing entry, 'Founders' has four, 'Amount' has three, and 'Investor' has the highest count with 62 missing values. Furthermore, the 'Stage' column has a substantial number of missing entries, indicating a potential challenge in determining the developmental stage for a significant portion of the companies."
   ]
  },
  {
   "cell_type": "code",
   "execution_count": 42,
   "metadata": {},
   "outputs": [
    {
     "data": {
      "text/html": [
       "<div>\n",
       "<style scoped>\n",
       "    .dataframe tbody tr th:only-of-type {\n",
       "        vertical-align: middle;\n",
       "    }\n",
       "\n",
       "    .dataframe tbody tr th {\n",
       "        vertical-align: top;\n",
       "    }\n",
       "\n",
       "    .dataframe thead th {\n",
       "        text-align: right;\n",
       "    }\n",
       "</style>\n",
       "<table border=\"1\" class=\"dataframe\">\n",
       "  <thead>\n",
       "    <tr style=\"text-align: right;\">\n",
       "      <th></th>\n",
       "      <th>count</th>\n",
       "      <th>unique</th>\n",
       "      <th>top</th>\n",
       "      <th>freq</th>\n",
       "      <th>mean</th>\n",
       "      <th>std</th>\n",
       "      <th>min</th>\n",
       "      <th>25%</th>\n",
       "      <th>50%</th>\n",
       "      <th>75%</th>\n",
       "      <th>max</th>\n",
       "    </tr>\n",
       "  </thead>\n",
       "  <tbody>\n",
       "    <tr>\n",
       "      <th>Company_Brand</th>\n",
       "      <td>1209</td>\n",
       "      <td>1033</td>\n",
       "      <td>BharatPe</td>\n",
       "      <td>8</td>\n",
       "      <td>NaN</td>\n",
       "      <td>NaN</td>\n",
       "      <td>NaN</td>\n",
       "      <td>NaN</td>\n",
       "      <td>NaN</td>\n",
       "      <td>NaN</td>\n",
       "      <td>NaN</td>\n",
       "    </tr>\n",
       "    <tr>\n",
       "      <th>Founded</th>\n",
       "      <td>1208.0</td>\n",
       "      <td>NaN</td>\n",
       "      <td>NaN</td>\n",
       "      <td>NaN</td>\n",
       "      <td>2016.655629</td>\n",
       "      <td>4.517364</td>\n",
       "      <td>1963.0</td>\n",
       "      <td>2015.0</td>\n",
       "      <td>2018.0</td>\n",
       "      <td>2020.0</td>\n",
       "      <td>2021.0</td>\n",
       "    </tr>\n",
       "    <tr>\n",
       "      <th>HeadQuarter</th>\n",
       "      <td>1208</td>\n",
       "      <td>70</td>\n",
       "      <td>Bangalore</td>\n",
       "      <td>426</td>\n",
       "      <td>NaN</td>\n",
       "      <td>NaN</td>\n",
       "      <td>NaN</td>\n",
       "      <td>NaN</td>\n",
       "      <td>NaN</td>\n",
       "      <td>NaN</td>\n",
       "      <td>NaN</td>\n",
       "    </tr>\n",
       "    <tr>\n",
       "      <th>Sector</th>\n",
       "      <td>1209</td>\n",
       "      <td>254</td>\n",
       "      <td>FinTech</td>\n",
       "      <td>122</td>\n",
       "      <td>NaN</td>\n",
       "      <td>NaN</td>\n",
       "      <td>NaN</td>\n",
       "      <td>NaN</td>\n",
       "      <td>NaN</td>\n",
       "      <td>NaN</td>\n",
       "      <td>NaN</td>\n",
       "    </tr>\n",
       "    <tr>\n",
       "      <th>What_it_does</th>\n",
       "      <td>1209</td>\n",
       "      <td>1143</td>\n",
       "      <td>BharatPe develops a QR code-based payment app ...</td>\n",
       "      <td>4</td>\n",
       "      <td>NaN</td>\n",
       "      <td>NaN</td>\n",
       "      <td>NaN</td>\n",
       "      <td>NaN</td>\n",
       "      <td>NaN</td>\n",
       "      <td>NaN</td>\n",
       "      <td>NaN</td>\n",
       "    </tr>\n",
       "    <tr>\n",
       "      <th>Founders</th>\n",
       "      <td>1205</td>\n",
       "      <td>1095</td>\n",
       "      <td>Ashneer Grover, Shashvat Nakrani</td>\n",
       "      <td>7</td>\n",
       "      <td>NaN</td>\n",
       "      <td>NaN</td>\n",
       "      <td>NaN</td>\n",
       "      <td>NaN</td>\n",
       "      <td>NaN</td>\n",
       "      <td>NaN</td>\n",
       "      <td>NaN</td>\n",
       "    </tr>\n",
       "    <tr>\n",
       "      <th>Investor</th>\n",
       "      <td>1147</td>\n",
       "      <td>937</td>\n",
       "      <td>Inflection Point Ventures</td>\n",
       "      <td>24</td>\n",
       "      <td>NaN</td>\n",
       "      <td>NaN</td>\n",
       "      <td>NaN</td>\n",
       "      <td>NaN</td>\n",
       "      <td>NaN</td>\n",
       "      <td>NaN</td>\n",
       "      <td>NaN</td>\n",
       "    </tr>\n",
       "    <tr>\n",
       "      <th>Amount</th>\n",
       "      <td>1206</td>\n",
       "      <td>278</td>\n",
       "      <td>$Undisclosed</td>\n",
       "      <td>73</td>\n",
       "      <td>NaN</td>\n",
       "      <td>NaN</td>\n",
       "      <td>NaN</td>\n",
       "      <td>NaN</td>\n",
       "      <td>NaN</td>\n",
       "      <td>NaN</td>\n",
       "      <td>NaN</td>\n",
       "    </tr>\n",
       "    <tr>\n",
       "      <th>Stage</th>\n",
       "      <td>781</td>\n",
       "      <td>31</td>\n",
       "      <td>Seed</td>\n",
       "      <td>246</td>\n",
       "      <td>NaN</td>\n",
       "      <td>NaN</td>\n",
       "      <td>NaN</td>\n",
       "      <td>NaN</td>\n",
       "      <td>NaN</td>\n",
       "      <td>NaN</td>\n",
       "      <td>NaN</td>\n",
       "    </tr>\n",
       "    <tr>\n",
       "      <th>Year</th>\n",
       "      <td>1209.0</td>\n",
       "      <td>NaN</td>\n",
       "      <td>NaN</td>\n",
       "      <td>NaN</td>\n",
       "      <td>2021.0</td>\n",
       "      <td>0.0</td>\n",
       "      <td>2021.0</td>\n",
       "      <td>2021.0</td>\n",
       "      <td>2021.0</td>\n",
       "      <td>2021.0</td>\n",
       "      <td>2021.0</td>\n",
       "    </tr>\n",
       "  </tbody>\n",
       "</table>\n",
       "</div>"
      ],
      "text/plain": [
       "                count unique  \\\n",
       "Company_Brand    1209   1033   \n",
       "Founded        1208.0    NaN   \n",
       "HeadQuarter      1208     70   \n",
       "Sector           1209    254   \n",
       "What_it_does     1209   1143   \n",
       "Founders         1205   1095   \n",
       "Investor         1147    937   \n",
       "Amount           1206    278   \n",
       "Stage             781     31   \n",
       "Year           1209.0    NaN   \n",
       "\n",
       "                                                             top freq  \\\n",
       "Company_Brand                                           BharatPe    8   \n",
       "Founded                                                      NaN  NaN   \n",
       "HeadQuarter                                            Bangalore  426   \n",
       "Sector                                                   FinTech  122   \n",
       "What_it_does   BharatPe develops a QR code-based payment app ...    4   \n",
       "Founders                        Ashneer Grover, Shashvat Nakrani    7   \n",
       "Investor                               Inflection Point Ventures   24   \n",
       "Amount                                              $Undisclosed   73   \n",
       "Stage                                                       Seed  246   \n",
       "Year                                                         NaN  NaN   \n",
       "\n",
       "                      mean       std     min     25%     50%     75%     max  \n",
       "Company_Brand          NaN       NaN     NaN     NaN     NaN     NaN     NaN  \n",
       "Founded        2016.655629  4.517364  1963.0  2015.0  2018.0  2020.0  2021.0  \n",
       "HeadQuarter            NaN       NaN     NaN     NaN     NaN     NaN     NaN  \n",
       "Sector                 NaN       NaN     NaN     NaN     NaN     NaN     NaN  \n",
       "What_it_does           NaN       NaN     NaN     NaN     NaN     NaN     NaN  \n",
       "Founders               NaN       NaN     NaN     NaN     NaN     NaN     NaN  \n",
       "Investor               NaN       NaN     NaN     NaN     NaN     NaN     NaN  \n",
       "Amount                 NaN       NaN     NaN     NaN     NaN     NaN     NaN  \n",
       "Stage                  NaN       NaN     NaN     NaN     NaN     NaN     NaN  \n",
       "Year                2021.0       0.0  2021.0  2021.0  2021.0  2021.0  2021.0  "
      ]
     },
     "execution_count": 42,
     "metadata": {},
     "output_type": "execute_result"
    }
   ],
   "source": [
    "# display statistics for both numeric and non-numeric columns. The .T transposes the result for better readability.\n",
    "\n",
    "description_all = df_2021.describe(include='all').T\n",
    "\n",
    "# Print or inspect the transposed summary\n",
    "description_all\n",
    "\n"
   ]
  },
  {
   "cell_type": "markdown",
   "metadata": {},
   "source": [
    "The summary statistics reveal that the 'Company_Brand' column has 1209 entries, with 1033 unique brands, and 'BharatPe' is the most frequent brand, appearing 8 times. In the 'Founded' column, the data includes 1208 non-null values, ranging from 1963 to 2021, with a mean founding year of approximately 2016.7 and a standard deviation of 4.52 years. The 'HeadQuarter' column shows 70 unique locations, with 'Bangalore' being the most common, occurring 426 times. 'FinTech' is the most frequent sector in the 'Sector' column, appearing 122 times out of 1209 entries. The 'Investor' column has 1147 non-null entries, with 'Inflection Point Ventures' being the most frequent investor, appearing 24 times. In the 'Amount' column, there are 1206 non-null entries, and the most frequent amount category is '$Undisclosed', which occurs 73 times. The 'Stage' column indicates 781 non-null entries, with 'Seed' being the most frequent stage, occurring 246 times."
   ]
  },
  {
   "cell_type": "markdown",
   "metadata": {},
   "source": [
    "### Clean 2021 data"
   ]
  },
  {
   "cell_type": "code",
   "execution_count": 43,
   "metadata": {},
   "outputs": [],
   "source": [
    "# changing Amount to Amount($)\n",
    "df_2021.rename(columns={'Amount'\t: 'Amount($)'}, inplace=True)"
   ]
  },
  {
   "cell_type": "code",
   "execution_count": 44,
   "metadata": {},
   "outputs": [
    {
     "name": "stdout",
     "output_type": "stream",
     "text": [
      "Value: $Undisclosed, Count: 73\n",
      "Value: $1000000, Count: 52\n",
      "Value: Undisclosed, Count: 43\n",
      "Value: $2000000, Count: 40\n",
      "Value: $1,000,000, Count: 33\n",
      "Value: $3000000, Count: 31\n",
      "Value: $5000000, Count: 29\n",
      "Value: $10000000, Count: 28\n",
      "Value: $500000, Count: 25\n",
      "Value: $undisclosed, Count: 22\n",
      "Value: $200000, Count: 20\n",
      "Value: $2,000,000, Count: 20\n",
      "Value: $4000000, Count: 20\n",
      "Value: $400000, Count: 18\n",
      "Value: $200,000, Count: 17\n",
      "Value: $3,000,000, Count: 17\n",
      "Value: $300000, Count: 17\n",
      "Value: $10,000,000, Count: 15\n",
      "Value: $20000000, Count: 15\n",
      "Value: $30000000, Count: 13\n",
      "Value: $6000000, Count: 13\n",
      "Value: $7000000, Count: 13\n",
      "Value: $1200000, Count: 12\n",
      "Value: $700000, Count: 12\n",
      "Value: $5,000,000, Count: 12\n",
      "Value: $500,000, Count: 11\n",
      "Value: $1500000, Count: 11\n",
      "Value: $15,000,000, Count: 11\n",
      "Value: $100000000, Count: 11\n",
      "Value: $4,000,000, Count: 10\n",
      "Value: $50000000, Count: 10\n",
      "Value: $600000, Count: 10\n",
      "Value: $300,000, Count: 10\n",
      "Value: $6,000,000, Count: 10\n",
      "Value: $12000000, Count: 9\n",
      "Value: $8000000, Count: 9\n",
      "Value: $1,500,000, Count: 9\n",
      "Value: $40000000, Count: 8\n",
      "Value: $100000, Count: 8\n",
      "Value: $2500000, Count: 8\n",
      "Value: $30,000,000, Count: 8\n",
      "Value: $3500000, Count: 7\n",
      "Value: $100,000, Count: 6\n",
      "Value: $40,000,000, Count: 6\n",
      "Value: $400,000, Count: 6\n",
      "Value: $5500000, Count: 6\n",
      "Value: $1300000, Count: 6\n",
      "Value: $25000000, Count: 6\n",
      "Value: $4500000, Count: 6\n",
      "Value: $15000000, Count: 6\n",
      "Value: $150000, Count: 6\n",
      "Value: $1,800,000, Count: 5\n",
      "Value: $1700000, Count: 5\n",
      "Value: $200000000, Count: 5\n",
      "Value: $800,000, Count: 5\n",
      "Value: $20,000,000, Count: 5\n",
      "Value: $13000000, Count: 5\n",
      "Value: $60000000, Count: 5\n",
      "Value: $24000000, Count: 5\n",
      "Value: $800000, Count: 5\n",
      "Value: $150000000, Count: 5\n",
      "Value: $50,000,000, Count: 5\n",
      "Value: $1100000, Count: 4\n",
      "Value: $11000000, Count: 4\n",
      "Value: $100,000,000, Count: 4\n",
      "Value: $600,000, Count: 4\n",
      "Value: $125000000, Count: 4\n",
      "Value: $75000000, Count: 4\n",
      "Value: $2300000, Count: 4\n",
      "Value: $9000000, Count: 4\n",
      "Value: $70000000, Count: 4\n",
      "Value: $35000000, Count: 4\n",
      "Value: $75,000,000, Count: 4\n",
      "Value: $250000000, Count: 4\n",
      "Value: $2200000, Count: 3\n",
      "Value: $32000000, Count: 3\n",
      "Value: $6500000, Count: 3\n",
      "Value: $1600000, Count: 3\n",
      "Value: $1,600,000, Count: 3\n",
      "Value: $7,000,000, Count: 3\n",
      "Value: $11,000,000, Count: 3\n",
      "Value: $1800000, Count: 3\n",
      "Value: $3800000, Count: 3\n",
      "Value: $320000, Count: 3\n",
      "Value: $700,000, Count: 3\n",
      "Value: $21000000, Count: 2\n",
      "Value: $120,000,000, Count: 2\n",
      "Value: $461000, Count: 2\n",
      "Value: Series C, Count: 2\n",
      "Value: Seed, Count: 2\n",
      "Value: $2,500,000, Count: 2\n",
      "Value: $220000000, Count: 2\n",
      "Value: $3,500,000, Count: 2\n",
      "Value: $17,000,000, Count: 2\n",
      "Value: $9,000,000, Count: 2\n",
      "Value: $17000000, Count: 2\n",
      "Value: $53000000, Count: 2\n",
      "Value: $330000, Count: 2\n",
      "Value: $, Count: 2\n",
      "Value: $76000000, Count: 2\n",
      "Value: $900000, Count: 2\n",
      "Value: $26,000,000, Count: 2\n",
      "Value: $52000000, Count: 2\n",
      "Value: $12,000,000, Count: 2\n",
      "Value: $1,300,000, Count: 2\n",
      "Value: $1,100,000, Count: 2\n",
      "Value: $350,000, Count: 2\n",
      "Value: $95,000,000, Count: 2\n",
      "Value: $4,100,000, Count: 2\n",
      "Value: $12,500,000, Count: 2\n",
      "Value: $8,000,000, Count: 2\n",
      "Value: $150,000, Count: 2\n",
      "Value: $2,600,000, Count: 2\n",
      "Value: $200,000,000, Count: 2\n",
      "Value: $725000, Count: 2\n",
      "Value: $45,000,000, Count: 2\n",
      "Value: $45000000, Count: 2\n",
      "Value: $65000000, Count: 2\n",
      "Value: $5200000, Count: 2\n",
      "Value: $42000000, Count: 2\n",
      "Value: $6700000, Count: 2\n",
      "Value: $225000000, Count: 2\n",
      "Value: Upsparks, Count: 2\n",
      "Value: $450000000, Count: 2\n",
      "Value: $28000000, Count: 2\n",
      "Value: $9500000, Count: 2\n",
      "Value: $1900000, Count: 2\n",
      "Value: $140,000,000, Count: 2\n",
      "Value: $90000000, Count: 2\n",
      "Value: $37000000, Count: 2\n",
      "Value: $6600000, Count: 2\n",
      "Value: $16000000, Count: 2\n",
      "Value: $2,200,000, Count: 2\n",
      "Value: $26000000, Count: 2\n",
      "Value: $3200000, Count: 2\n",
      "Value: $22000000, Count: 2\n",
      "Value: $370000, Count: 2\n",
      "Value: $48000000, Count: 2\n",
      "Value: $125000, Count: 1\n",
      "Value: $5,100,000, Count: 1\n",
      "Value: $125,000, Count: 1\n",
      "Value: $350000000, Count: 1\n",
      "Value: JITO Angel Network, LetsVenture, Count: 1\n",
      "Value: $340000, Count: 1\n",
      "Value: $6300000, Count: 1\n",
      "Value: $1,250,000, Count: 1\n",
      "Value: $620000, Count: 1\n",
      "Value: $195,000,000, Count: 1\n",
      "Value: $4800000, Count: 1\n",
      "Value: $23000000, Count: 1\n",
      "Value: $13,500,000, Count: 1\n",
      "Value: $64000000, Count: 1\n",
      "Value: $460,000,000, Count: 1\n",
      "Value: $400,000,000, Count: 1\n",
      "Value: $1,700,000, Count: 1\n",
      "Value: $234,000,000, Count: 1\n",
      "Value: $38000000, Count: 1\n",
      "Value: $27,000,000, Count: 1\n",
      "Value: $6200000, Count: 1\n",
      "Value: $750000, Count: 1\n",
      "Value: $2600000, Count: 1\n",
      "Value: $31000000, Count: 1\n",
      "Value: $14000000, Count: 1\n",
      "Value: $7,300,000, Count: 1\n",
      "Value: $570000000, Count: 1\n",
      "Value: $18000000, Count: 1\n",
      "Value: $255000000, Count: 1\n",
      "Value: $115000000, Count: 1\n",
      "Value: $4700000, Count: 1\n",
      "Value: $300000000, Count: 1\n",
      "Value: $5400000, Count: 1\n",
      "Value: $78000000, Count: 1\n",
      "Value: $6750000, Count: 1\n",
      "Value: $260000000, Count: 1\n",
      "Value: $140000000, Count: 1\n",
      "Value: $5700000, Count: 1\n",
      "Value: $175000000, Count: 1\n",
      "Value: $19000000, Count: 1\n",
      "Value: $600000000, Count: 1\n",
      "Value: $810000, Count: 1\n",
      "Value: $7500000, Count: 1\n",
      "Value: $570000, Count: 1\n",
      "Value: $4300000, Count: 1\n",
      "Value: $550000, Count: 1\n",
      "Value: $150,000,000, Count: 1\n",
      "Value: $6,300,000, Count: 1\n",
      "Value: $24,000,000, Count: 1\n",
      "Value: $140,000, Count: 1\n",
      "Value: $16,500,000, Count: 1\n",
      "Value: $540000, Count: 1\n",
      "Value: $340,000, Count: 1\n",
      "Value: $43,000,000, Count: 1\n",
      "Value: $3300000, Count: 1\n",
      "Value: $248000000, Count: 1\n",
      "Value: $92000000, Count: 1\n",
      "Value: $4200000, Count: 1\n",
      "Value: $135000000, Count: 1\n",
      "Value: $$1,55,000, Count: 1\n",
      "Value: $2100000, Count: 1\n",
      "Value: $840000000, Count: 1\n",
      "Value: $2700000, Count: 1\n",
      "Value: $1,200,000, Count: 1\n",
      "Value: $111000000, Count: 1\n",
      "Value: $140000, Count: 1\n",
      "Value: $65,000,000, Count: 1\n",
      "Value: $300,000,000, Count: 1\n",
      "Value: $35,000,000, Count: 1\n",
      "Value: $13,000,000, Count: 1\n",
      "Value: $250000, Count: 1\n",
      "Value: $17500000, Count: 1\n",
      "Value: $8500000, Count: 1\n",
      "Value: $370000000, Count: 1\n",
      "Value: $44000000, Count: 1\n",
      "Value: $770000, Count: 1\n",
      "Value: $4900000, Count: 1\n",
      "Value: $145000000, Count: 1\n",
      "Value: $96000000, Count: 1\n",
      "Value: $500000000, Count: 1\n",
      "Value: $266000000, Count: 1\n",
      "Value: $325000000, Count: 1\n",
      "Value: $150,000,000,000, Count: 1\n",
      "Value: $500,000,000, Count: 1\n",
      "Value: $85000000, Count: 1\n",
      "Value: $110,000,000, Count: 1\n",
      "Value: $51,000,000, Count: 1\n",
      "Value: $188,000,000, Count: 1\n",
      "Value: $49,000,000, Count: 1\n",
      "Value: $25,000,000, Count: 1\n",
      "Value: $160,000,000, Count: 1\n",
      "Value: $850,000, Count: 1\n",
      "Value: $53,000,000, Count: 1\n",
      "Value: $21,000,000, Count: 1\n",
      "Value: $7,500,000, Count: 1\n",
      "Value: $7,400,000, Count: 1\n",
      "Value: $800,000,000, Count: 1\n",
      "Value: $215,000,000, Count: 1\n",
      "Value: $350,000,000, Count: 1\n",
      "Value: $5,500,000, Count: 1\n",
      "Value: $83,000,000, Count: 1\n",
      "Value: $225000, Count: 1\n",
      "Value: $235000, Count: 1\n",
      "Value: $270000000, Count: 1\n",
      "Value: $8,200,000, Count: 1\n",
      "Value: $720,000, Count: 1\n",
      "Value: $36000000, Count: 1\n",
      "Value: $67000000, Count: 1\n",
      "Value: $10200000, Count: 1\n",
      "Value: $108000000, Count: 1\n",
      "Value: $450000, Count: 1\n",
      "Value: $660000000, Count: 1\n",
      "Value: ah! Ventures, Count: 1\n",
      "Value: Pre-series A, Count: 1\n",
      "Value: ITO Angel Network, LetsVenture, Count: 1\n",
      "Value: $3600000, Count: 1\n",
      "Value: $192000000, Count: 1\n",
      "Value: $1400000, Count: 1\n",
      "Value: $41000000, Count: 1\n",
      "Value: $144000000, Count: 1\n",
      "Value: $70,000,000, Count: 1\n",
      "Value: $81,000,000, Count: 1\n",
      "Value: $260000, Count: 1\n",
      "Value: $14,300,000, Count: 1\n",
      "Value: $2900000, Count: 1\n",
      "Value: $86000000, Count: 1\n",
      "Value: $130000, Count: 1\n",
      "Value: $$100,00, Count: 1\n",
      "Value: $265000, Count: 1\n",
      "Value: $3,800,000, Count: 1\n",
      "Value: $260,000, Count: 1\n",
      "Value: $1,000,000,000, Count: 1\n",
      "Value: $18,000,000, Count: 1\n",
      "Value: $5,200,000, Count: 1\n",
      "Value: $1,400,000, Count: 1\n",
      "Value: $900,000, Count: 1\n",
      "Value: $250,000, Count: 1\n",
      "Value: $16,000,000, Count: 1\n",
      "Value: $280,000,000, Count: 1\n",
      "Value: $55000000, Count: 1\n"
     ]
    }
   ],
   "source": [
    "\n",
    "\n",
    "# Checking the frequency of each unique value in 'Amount($)'\n",
    "value_counts = df_2021['Amount($)'].value_counts()\n",
    "\n",
    "\n",
    "# Iterate through the items to print both unique values and their counts\n",
    "for value, count in value_counts.items():\n",
    "    print(f\"Value: {value}, Count: {count}\")\n",
    "\n"
   ]
  },
  {
   "cell_type": "markdown",
   "metadata": {},
   "source": [
    "The output list includes various entries that are not valid monetary amounts in a standard format. These entries comprise a mix of undisclosed funding amounts, funding rounds such as \"Series C\" and \"Seed,\" investor information like \"ah! Ventures,\" and instances with typos and formatting errors such as \"$,,\" and \"$$1,55,000.\" Addressing these inconsistencies is crucial for accurate financial analysis and requires careful data cleaning and validation processes."
   ]
  },
  {
   "cell_type": "code",
   "execution_count": 45,
   "metadata": {},
   "outputs": [
    {
     "name": "stdout",
     "output_type": "stream",
     "text": [
      "Filtered Rows:\n"
     ]
    },
    {
     "data": {
      "text/html": [
       "<div>\n",
       "<style scoped>\n",
       "    .dataframe tbody tr th:only-of-type {\n",
       "        vertical-align: middle;\n",
       "    }\n",
       "\n",
       "    .dataframe tbody tr th {\n",
       "        vertical-align: top;\n",
       "    }\n",
       "\n",
       "    .dataframe thead th {\n",
       "        text-align: right;\n",
       "    }\n",
       "</style>\n",
       "<table border=\"1\" class=\"dataframe\">\n",
       "  <thead>\n",
       "    <tr style=\"text-align: right;\">\n",
       "      <th></th>\n",
       "      <th>Company_Brand</th>\n",
       "      <th>Founded</th>\n",
       "      <th>HeadQuarter</th>\n",
       "      <th>Sector</th>\n",
       "      <th>What_it_does</th>\n",
       "      <th>Founders</th>\n",
       "      <th>Investor</th>\n",
       "      <th>Amount($)</th>\n",
       "      <th>Stage</th>\n",
       "      <th>Year</th>\n",
       "    </tr>\n",
       "  </thead>\n",
       "  <tbody>\n",
       "    <tr>\n",
       "      <th>98</th>\n",
       "      <td>FanPlay</td>\n",
       "      <td>2020.0</td>\n",
       "      <td>Computer Games</td>\n",
       "      <td>Computer Games</td>\n",
       "      <td>A real money game app specializing in trivia g...</td>\n",
       "      <td>YC W21</td>\n",
       "      <td>Pritesh Kumar, Bharat Gupta</td>\n",
       "      <td>Upsparks</td>\n",
       "      <td>$1200000</td>\n",
       "      <td>2021</td>\n",
       "    </tr>\n",
       "    <tr>\n",
       "      <th>111</th>\n",
       "      <td>FanPlay</td>\n",
       "      <td>2020.0</td>\n",
       "      <td>Computer Games</td>\n",
       "      <td>Computer Games</td>\n",
       "      <td>A real money game app specializing in trivia g...</td>\n",
       "      <td>YC W21</td>\n",
       "      <td>Pritesh Kumar, Bharat Gupta</td>\n",
       "      <td>Upsparks</td>\n",
       "      <td>$1200000</td>\n",
       "      <td>2021</td>\n",
       "    </tr>\n",
       "  </tbody>\n",
       "</table>\n",
       "</div>"
      ],
      "text/plain": [
       "    Company_Brand  Founded     HeadQuarter          Sector  \\\n",
       "98        FanPlay   2020.0  Computer Games  Computer Games   \n",
       "111       FanPlay   2020.0  Computer Games  Computer Games   \n",
       "\n",
       "                                          What_it_does Founders  \\\n",
       "98   A real money game app specializing in trivia g...   YC W21   \n",
       "111  A real money game app specializing in trivia g...   YC W21   \n",
       "\n",
       "                        Investor Amount($)     Stage  Year  \n",
       "98   Pritesh Kumar, Bharat Gupta  Upsparks  $1200000  2021  \n",
       "111  Pritesh Kumar, Bharat Gupta  Upsparks  $1200000  2021  "
      ]
     },
     "execution_count": 45,
     "metadata": {},
     "output_type": "execute_result"
    }
   ],
   "source": [
    "#Filter rows that have certain unique entries\n",
    "\n",
    "keywords = ['Series C', 'Seed', 'Upsparks', 'JITO Angel Network, LetsVenture', 'ah! Ventures', 'Pre-series A', 'ITO Angel Network, LetsVenture', 'ah! Ventures']\n",
    "\n",
    "filtered_rows = df_2021[df_2021['Amount($)'].str.contains('|'.join(keywords), case=False, na=False)]\n",
    "\n",
    "print(\"Filtered Rows:\")\n",
    "filtered_rows.head(2)"
   ]
  },
  {
   "cell_type": "code",
   "execution_count": 46,
   "metadata": {},
   "outputs": [],
   "source": [
    "#Doing corrections on the amount column by replacing entries with the correct ones which had mistakenly been placed other columns\n",
    "corrections = {\n",
    "    'Upsparks': '$1200000',\n",
    "    'Series C':'$22000000',\n",
    "    'Seed':'$5000000',\n",
    "    'ah! Ventures': '$300000',\n",
    "    'Pre-series A':'$1000000',\n",
    "    'ITO Angel Network, LetsVenture':'$300000',\n",
    "    'JITO Angel Network, LetsVenture':'$1000000',\n",
    "    'Seed':'1000000'\n",
    "}\n",
    "# Applying corrections to the 'HeadQuarter' column\n",
    "df_2021['Amount($)']= df_2021['Amount($)'].replace(corrections)\n"
   ]
  },
  {
   "cell_type": "code",
   "execution_count": 47,
   "metadata": {},
   "outputs": [],
   "source": [
    "#Clean Amount Column and change it to float\n",
    "\n",
    "# 1. Remove commas and dollar signs\n",
    "df_2021['Amount($)'] = df_2021['Amount($)'].replace('[\\$,]', '', regex=True)\n",
    "\n"
   ]
  },
  {
   "cell_type": "code",
   "execution_count": 48,
   "metadata": {},
   "outputs": [],
   "source": [
    "# Replace 'Undisclosed', 'undisclosed', and null values with np.nan\n",
    "df_2021['Amount($)'] = df_2021['Amount($)'].replace(['Undisclosed', 'undisclosed', None], np.nan)\n"
   ]
  },
  {
   "cell_type": "code",
   "execution_count": 49,
   "metadata": {},
   "outputs": [],
   "source": [
    "# Convert the 'Amount' column to float\n",
    "df_2021['Amount($)'] = df_2021['Amount($)'].replace('', np.nan).astype(float)\n"
   ]
  },
  {
   "cell_type": "code",
   "execution_count": 50,
   "metadata": {},
   "outputs": [
    {
     "data": {
      "text/plain": [
       "143"
      ]
     },
     "execution_count": 50,
     "metadata": {},
     "output_type": "execute_result"
    }
   ],
   "source": [
    "df_2021['Amount($)'].isnull().sum()\n",
    "\n"
   ]
  },
  {
   "cell_type": "code",
   "execution_count": 51,
   "metadata": {},
   "outputs": [],
   "source": [
    "# Calculate the median\n",
    "median_amount = df_2021['Amount($)'].median()\n",
    "\n",
    "# Fill null values with the median\n",
    "df_2021['Amount($)'].fillna(median_amount, inplace=True)"
   ]
  },
  {
   "cell_type": "code",
   "execution_count": 52,
   "metadata": {},
   "outputs": [
    {
     "data": {
      "text/plain": [
       "19"
      ]
     },
     "execution_count": 52,
     "metadata": {},
     "output_type": "execute_result"
    }
   ],
   "source": [
    "# Check for duplicates in the entire DataFrame\n",
    "duplicates = df_2021.duplicated().sum()\n",
    "duplicates"
   ]
  },
  {
   "cell_type": "markdown",
   "metadata": {},
   "source": [
    "There are 19 duplicates in the 2021 data"
   ]
  },
  {
   "cell_type": "code",
   "execution_count": 53,
   "metadata": {},
   "outputs": [],
   "source": [
    "# Drop duplicate rows from the DataFrame\n",
    "df_2021 = df_2021.drop_duplicates()"
   ]
  },
  {
   "cell_type": "code",
   "execution_count": 54,
   "metadata": {},
   "outputs": [
    {
     "data": {
      "text/plain": [
       "array(['Bangalore', 'Mumbai', 'Gurugram', 'New Delhi', 'Hyderabad',\n",
       "       'Jaipur', 'Ahmadabad', 'Chennai', None,\n",
       "       'Small Towns, Andhra Pradesh', 'Goa', 'Rajsamand', 'Ranchi',\n",
       "       'Faridabad, Haryana', 'Gujarat', 'Pune', 'Thane', 'Computer Games',\n",
       "       'Cochin', 'Noida', 'Chandigarh', 'Gurgaon', 'Vadodara',\n",
       "       'Food & Beverages', 'Pharmaceuticals\\t#REF!', 'Gurugram\\t#REF!',\n",
       "       'Kolkata', 'Ahmedabad', 'Mohali', 'Haryana', 'Indore', 'Powai',\n",
       "       'Ghaziabad', 'Nagpur', 'West Bengal', 'Patna', 'Samsitpur',\n",
       "       'Lucknow', 'Telangana', 'Silvassa', 'Thiruvananthapuram',\n",
       "       'Faridabad', 'Roorkee', 'Ambernath', 'Panchkula', 'Surat',\n",
       "       'Coimbatore', 'Andheri', 'Mangalore', 'Telugana', 'Bhubaneswar',\n",
       "       'Kottayam', 'Beijing', 'Panaji', 'Satara', 'Orissia', 'Jodhpur',\n",
       "       'New York', 'Santra', 'Mountain View, CA', 'Trivandrum',\n",
       "       'Jharkhand', 'Kanpur', 'Bhilwara', 'Guwahati',\n",
       "       'Online Media\\t#REF!', 'Kochi', 'London',\n",
       "       'Information Technology & Services', 'The Nilgiris', 'Gandhinagar'],\n",
       "      dtype=object)"
      ]
     },
     "execution_count": 54,
     "metadata": {},
     "output_type": "execute_result"
    }
   ],
   "source": [
    "df_2021['HeadQuarter'].unique()"
   ]
  },
  {
   "cell_type": "markdown",
   "metadata": {},
   "source": [
    "The unique values in the 'HeadQuarter' column of df_2021 indicate diverse company locations, including major cities in India like Bangalore and Mumbai, as well as more specific or unconventional descriptions. However, the presence of irregularities like 'Pharmaceuticals\\t#REF!' suggests potential data quality issues that might need cleaning. Additionally, variations and misspellings in entries, such as 'Ahmadabad' for 'Ahmedabad,' may require standardization for accurate analysis."
   ]
  },
  {
   "cell_type": "code",
   "execution_count": 55,
   "metadata": {},
   "outputs": [
    {
     "name": "stdout",
     "output_type": "stream",
     "text": [
      "Filtered Rows:\n"
     ]
    },
    {
     "data": {
      "text/html": [
       "<div>\n",
       "<style scoped>\n",
       "    .dataframe tbody tr th:only-of-type {\n",
       "        vertical-align: middle;\n",
       "    }\n",
       "\n",
       "    .dataframe tbody tr th {\n",
       "        vertical-align: top;\n",
       "    }\n",
       "\n",
       "    .dataframe thead th {\n",
       "        text-align: right;\n",
       "    }\n",
       "</style>\n",
       "<table border=\"1\" class=\"dataframe\">\n",
       "  <thead>\n",
       "    <tr style=\"text-align: right;\">\n",
       "      <th></th>\n",
       "      <th>Company_Brand</th>\n",
       "      <th>Founded</th>\n",
       "      <th>HeadQuarter</th>\n",
       "      <th>Sector</th>\n",
       "      <th>What_it_does</th>\n",
       "      <th>Founders</th>\n",
       "      <th>Investor</th>\n",
       "      <th>Amount($)</th>\n",
       "      <th>Stage</th>\n",
       "      <th>Year</th>\n",
       "    </tr>\n",
       "  </thead>\n",
       "  <tbody>\n",
       "    <tr>\n",
       "      <th>98</th>\n",
       "      <td>FanPlay</td>\n",
       "      <td>2020.0</td>\n",
       "      <td>Computer Games</td>\n",
       "      <td>Computer Games</td>\n",
       "      <td>A real money game app specializing in trivia g...</td>\n",
       "      <td>YC W21</td>\n",
       "      <td>Pritesh Kumar, Bharat Gupta</td>\n",
       "      <td>1200000.0</td>\n",
       "      <td>$1200000</td>\n",
       "      <td>2021</td>\n",
       "    </tr>\n",
       "    <tr>\n",
       "      <th>241</th>\n",
       "      <td>MasterChow</td>\n",
       "      <td>2020.0</td>\n",
       "      <td>Food &amp; Beverages</td>\n",
       "      <td>Hauz Khas</td>\n",
       "      <td>A ready-to-cook Asian cuisine brand</td>\n",
       "      <td>Vidur Kataria, Sidhanth Madan</td>\n",
       "      <td>WEH Ventures</td>\n",
       "      <td>461000.0</td>\n",
       "      <td>Seed</td>\n",
       "      <td>2021</td>\n",
       "    </tr>\n",
       "    <tr>\n",
       "      <th>242</th>\n",
       "      <td>Fullife Healthcare</td>\n",
       "      <td>2009.0</td>\n",
       "      <td>Pharmaceuticals\\t#REF!</td>\n",
       "      <td>Primary Business is Development and Manufactur...</td>\n",
       "      <td>Varun Khanna</td>\n",
       "      <td>Morgan Stanley Private Equity Asia</td>\n",
       "      <td>$22000000</td>\n",
       "      <td>22000000.0</td>\n",
       "      <td>None</td>\n",
       "      <td>2021</td>\n",
       "    </tr>\n",
       "    <tr>\n",
       "      <th>257</th>\n",
       "      <td>MoEVing</td>\n",
       "      <td>2021.0</td>\n",
       "      <td>Gurugram\\t#REF!</td>\n",
       "      <td>MoEVing is India's only Electric Mobility focu...</td>\n",
       "      <td>Vikash Mishra, Mragank Jain</td>\n",
       "      <td>Anshuman Maheshwary, Dr Srihari Raju Kalidindi</td>\n",
       "      <td>$5000000</td>\n",
       "      <td>1000000.0</td>\n",
       "      <td>None</td>\n",
       "      <td>2021</td>\n",
       "    </tr>\n",
       "    <tr>\n",
       "      <th>1100</th>\n",
       "      <td>Sochcast</td>\n",
       "      <td>2020.0</td>\n",
       "      <td>Online Media\\t#REF!</td>\n",
       "      <td>Sochcast is an Audio experiences company that ...</td>\n",
       "      <td>CA Harvinderjit Singh Bhatia, Garima Surana, A...</td>\n",
       "      <td>Vinners, Raj Nayak, Amritaanshu Agrawal</td>\n",
       "      <td>$Undisclosed</td>\n",
       "      <td>3500000.0</td>\n",
       "      <td>None</td>\n",
       "      <td>2021</td>\n",
       "    </tr>\n",
       "    <tr>\n",
       "      <th>1176</th>\n",
       "      <td>Peak</td>\n",
       "      <td>2014.0</td>\n",
       "      <td>Information Technology &amp; Services</td>\n",
       "      <td>Manchester, Greater Manchester</td>\n",
       "      <td>Peak helps the world's smartest companies put ...</td>\n",
       "      <td>Atul Sharma</td>\n",
       "      <td>SoftBank Vision Fund 2</td>\n",
       "      <td>75000000.0</td>\n",
       "      <td>Series C</td>\n",
       "      <td>2021</td>\n",
       "    </tr>\n",
       "  </tbody>\n",
       "</table>\n",
       "</div>"
      ],
      "text/plain": [
       "           Company_Brand  Founded                        HeadQuarter  \\\n",
       "98               FanPlay   2020.0                     Computer Games   \n",
       "241           MasterChow   2020.0                   Food & Beverages   \n",
       "242   Fullife Healthcare   2009.0             Pharmaceuticals\\t#REF!   \n",
       "257              MoEVing   2021.0                    Gurugram\\t#REF!   \n",
       "1100            Sochcast   2020.0                Online Media\\t#REF!   \n",
       "1176                Peak   2014.0  Information Technology & Services   \n",
       "\n",
       "                                                 Sector  \\\n",
       "98                                       Computer Games   \n",
       "241                                           Hauz Khas   \n",
       "242   Primary Business is Development and Manufactur...   \n",
       "257   MoEVing is India's only Electric Mobility focu...   \n",
       "1100  Sochcast is an Audio experiences company that ...   \n",
       "1176                     Manchester, Greater Manchester   \n",
       "\n",
       "                                           What_it_does  \\\n",
       "98    A real money game app specializing in trivia g...   \n",
       "241                 A ready-to-cook Asian cuisine brand   \n",
       "242                                        Varun Khanna   \n",
       "257                         Vikash Mishra, Mragank Jain   \n",
       "1100  CA Harvinderjit Singh Bhatia, Garima Surana, A...   \n",
       "1176  Peak helps the world's smartest companies put ...   \n",
       "\n",
       "                                            Founders  \\\n",
       "98                                            YC W21   \n",
       "241                    Vidur Kataria, Sidhanth Madan   \n",
       "242               Morgan Stanley Private Equity Asia   \n",
       "257   Anshuman Maheshwary, Dr Srihari Raju Kalidindi   \n",
       "1100         Vinners, Raj Nayak, Amritaanshu Agrawal   \n",
       "1176                                     Atul Sharma   \n",
       "\n",
       "                         Investor   Amount($)     Stage  Year  \n",
       "98    Pritesh Kumar, Bharat Gupta   1200000.0  $1200000  2021  \n",
       "241                  WEH Ventures    461000.0      Seed  2021  \n",
       "242                     $22000000  22000000.0      None  2021  \n",
       "257                      $5000000   1000000.0      None  2021  \n",
       "1100                 $Undisclosed   3500000.0      None  2021  \n",
       "1176       SoftBank Vision Fund 2  75000000.0  Series C  2021  "
      ]
     },
     "execution_count": 55,
     "metadata": {},
     "output_type": "execute_result"
    }
   ],
   "source": [
    "\n",
    "keywords = ['Gurugram\\t#REF!', 'Pharmaceuticals\\t#REF!', 'Online Media\\t#REF!','Food & Beverages','Computer Games','Information Technology & Services']\n",
    "\n",
    "filtered_rows = df_2021[df_2021['HeadQuarter'].str.contains('|'.join(keywords), case=False, na=False)]\n",
    "\n",
    "print(\"Filtered Rows:\")\n",
    "filtered_rows\n"
   ]
  },
  {
   "cell_type": "code",
   "execution_count": 56,
   "metadata": {},
   "outputs": [],
   "source": [
    "#corrections of some headquater's entries that had anomalities\n",
    "df_2021['HeadQuarter'] = df_2021['HeadQuarter'].replace('Gurugram\\t#REF!', 'Gurugram')\n",
    "df_2021['HeadQuarter'] = df_2021['HeadQuarter'].replace('Pharmaceuticals\\t#REF!', 'Unknown')\n",
    "df_2021['HeadQuarter'] = df_2021['HeadQuarter'].replace('Online Media\\t#REF!', 'Unknown')\n",
    "df_2021['HeadQuarter'] = df_2021['HeadQuarter'].replace('Telugana', 'Telangana')\n",
    "df_2021['HeadQuarter'] = df_2021['HeadQuarter'].replace('Computer Games' , 'Unknown' )\n",
    "df_2021['HeadQuarter'] = df_2021['HeadQuarter'].replace('Food & Beverages' , 'Hauz Khas')\n",
    "df_2021['HeadQuarter'] = df_2021['HeadQuarter'].replace('Information Technology & Services' , 'Manchester')\n"
   ]
  },
  {
   "cell_type": "code",
   "execution_count": 57,
   "metadata": {},
   "outputs": [
    {
     "name": "stdout",
     "output_type": "stream",
     "text": [
      "Rows with Null HeadQuarter:\n"
     ]
    },
    {
     "data": {
      "text/html": [
       "<div>\n",
       "<style scoped>\n",
       "    .dataframe tbody tr th:only-of-type {\n",
       "        vertical-align: middle;\n",
       "    }\n",
       "\n",
       "    .dataframe tbody tr th {\n",
       "        vertical-align: top;\n",
       "    }\n",
       "\n",
       "    .dataframe thead th {\n",
       "        text-align: right;\n",
       "    }\n",
       "</style>\n",
       "<table border=\"1\" class=\"dataframe\">\n",
       "  <thead>\n",
       "    <tr style=\"text-align: right;\">\n",
       "      <th></th>\n",
       "      <th>Company_Brand</th>\n",
       "      <th>Founded</th>\n",
       "      <th>HeadQuarter</th>\n",
       "      <th>Sector</th>\n",
       "      <th>What_it_does</th>\n",
       "      <th>Founders</th>\n",
       "      <th>Investor</th>\n",
       "      <th>Amount($)</th>\n",
       "      <th>Stage</th>\n",
       "      <th>Year</th>\n",
       "    </tr>\n",
       "  </thead>\n",
       "  <tbody>\n",
       "    <tr>\n",
       "      <th>29</th>\n",
       "      <td>Vidyakul</td>\n",
       "      <td>2018.0</td>\n",
       "      <td>None</td>\n",
       "      <td>EdTech</td>\n",
       "      <td>Vidyakul is an vernacular e-learning platform ...</td>\n",
       "      <td>Raman Garg, Tarun Saini</td>\n",
       "      <td>JITO Angel Network, SOSV</td>\n",
       "      <td>500000.0</td>\n",
       "      <td>Seed</td>\n",
       "      <td>2021</td>\n",
       "    </tr>\n",
       "  </tbody>\n",
       "</table>\n",
       "</div>"
      ],
      "text/plain": [
       "   Company_Brand  Founded HeadQuarter  Sector  \\\n",
       "29      Vidyakul   2018.0        None  EdTech   \n",
       "\n",
       "                                         What_it_does  \\\n",
       "29  Vidyakul is an vernacular e-learning platform ...   \n",
       "\n",
       "                   Founders                  Investor  Amount($) Stage  Year  \n",
       "29  Raman Garg, Tarun Saini  JITO Angel Network, SOSV   500000.0  Seed  2021  "
      ]
     },
     "execution_count": 57,
     "metadata": {},
     "output_type": "execute_result"
    }
   ],
   "source": [
    "#Check null values\n",
    "rows_with_null_headquarter = df_2021[df_2021['HeadQuarter'].isnull()]\n",
    "\n",
    "# Display the rows and their content\n",
    "print(\"Rows with Null HeadQuarter:\")\n",
    "rows_with_null_headquarter\n"
   ]
  },
  {
   "cell_type": "code",
   "execution_count": 58,
   "metadata": {},
   "outputs": [],
   "source": [
    "# Replace null values in 'HeadQuarter' with 'Unknown'\n",
    "df_2021['HeadQuarter'].fillna('Unknown', inplace=True)\n",
    "\n"
   ]
  },
  {
   "cell_type": "code",
   "execution_count": 59,
   "metadata": {},
   "outputs": [
    {
     "data": {
      "text/plain": [
       "array(['AI startup', 'EdTech', 'B2B E-commerce', 'FinTech',\n",
       "       'Home services', 'HealthTech', 'Tech Startup', 'E-commerce',\n",
       "       'B2B service', 'Helathcare', 'Renewable Energy', 'Electronics',\n",
       "       'IT startup', 'Food & Beverages', 'Aeorspace', 'Deep Tech',\n",
       "       'Dating', 'Gaming', 'Robotics', 'Retail', 'Food', 'Oil and Energy',\n",
       "       'AgriTech', 'Telecommuncation', 'Milk startup', 'AI Chatbot', 'IT',\n",
       "       'Logistics', 'Hospitality', 'Fashion', 'Marketing',\n",
       "       'Transportation', 'LegalTech', 'Food delivery', 'Automotive',\n",
       "       'SaaS startup', 'Fantasy sports', 'Video communication',\n",
       "       'Social Media', 'Skill development', 'Rental', 'Recruitment',\n",
       "       'HealthCare', 'Sports', 'Computer Games', 'Consumer Goods',\n",
       "       'Information Technology', 'Apparel & Fashion',\n",
       "       'Logistics & Supply Chain', 'Healthtech', 'Healthcare',\n",
       "       'SportsTech', 'HRTech', 'Wine & Spirits',\n",
       "       'Mechanical & Industrial Engineering', 'Spiritual',\n",
       "       'Financial Services', 'Industrial Automation', 'Health',\n",
       "       'Lifestyle', 'IoT', 'Banking', 'Computer software', 'Tech startup',\n",
       "       'Digital mortgage', 'Information Technology & Services',\n",
       "       'Furniture', 'B2B marketplace', 'Healtcare', 'Location Analytics',\n",
       "       'Media', 'Consumer Electronics', 'Tobacco', 'Deeptech',\n",
       "       'Insuretech', 'MLOps platform', 'Venture Capital', 'Pet care',\n",
       "       'Drone', 'Wholesale', 'Construction', 'E-learning',\n",
       "       'Consumer Services', 'Venture Capital & Private Equity',\n",
       "       'Health, Wellness & Fitness', 'OTT', 'Education Management',\n",
       "       'Computer Software', 'Insurance', 'Software Startup',\n",
       "       'Computer & Network Security', 'Capital Markets', 'Social network',\n",
       "       'Hospital & Health Care', 'Music', 'Hauz Khas',\n",
       "       'Primary Business is Development and Manufacturing of Novel Healthcare Products in Effervescent forms using imported propriety ingredients.',\n",
       "       \"MoEVing is India's only Electric Mobility focused Technology Platform with a vision to accelerate EV adoption in India.\",\n",
       "       'Cosmetics', 'Mobility', 'Social media', 'Real Estate',\n",
       "       'Digital platform', 'B2B Ecommerce', 'Online Media',\n",
       "       'Social commerce', 'Mobile Games', 'Food Production', 'Podcast',\n",
       "       'HeathTech', 'Battery', 'Content publishing', 'Water purification',\n",
       "       'Content commerce', 'Innovation Management', 'Software company',\n",
       "       'Automation', 'Food Industry', 'Celebrity Engagement',\n",
       "       'Trading platform', 'Personal Care', 'Cannabis startup',\n",
       "       'Blogging', 'Consulting', 'BioTechnology', 'B2B Marketplace',\n",
       "       'Health care', 'Social audio', 'Fashion and lifestyle',\n",
       "       'Delivery service', 'B2B Manufacturing', 'Home Decor', 'Solar',\n",
       "       'TaaS startup', 'EV startup', 'HR Tech', 'Blockchain startup',\n",
       "       'Food and Beverages', 'Beverages', 'Manufacturing startup',\n",
       "       'Cryptocurrency', 'Vehicle repair startup', 'Advisory firm',\n",
       "       'Legaltech', 'Pollution control equiptment', 'Fashion & Lifestyle',\n",
       "       'Blockchain', 'Fitness', 'D2C', 'Automobile',\n",
       "       'Environmental Services', 'Merchandise', 'Facilities Services',\n",
       "       'Marketing & Advertising', 'Human Resources', 'Eyewear',\n",
       "       'D2C Business', 'Biotechnology', 'Farming', 'NFT Marketplace',\n",
       "       'Internet', 'SpaceTech', 'Consumer software', 'Social community',\n",
       "       'Fishery', 'Renewables & Environment', 'Online storytelling',\n",
       "       'Aviation', 'IT company', 'Environmental service',\n",
       "       'Job discovery platform', 'D2C Fashion', 'Heathcare', 'CRM',\n",
       "       'Software', 'Nutrition', 'D2C startup', 'Innovation management',\n",
       "       'Community platform', 'Venture capitalist', 'Networking',\n",
       "       'Commercial Real Estate', 'AR startup', 'Consumer service',\n",
       "       'Consumer goods', 'MarTech', 'Advertisement', 'Content creation',\n",
       "       'Augmented reality', 'Rental space', 'Bike Rental',\n",
       "       'Beauty products', 'Tourism', 'FemTech', 'Cultural', 'Co-working',\n",
       "       'InsureTech', 'Supply chain platform', 'Social platform',\n",
       "       'CleanTech', 'Real estate', 'AI company', 'Sports startup',\n",
       "       'Matrimony', 'Crypto', 'Clothing', 'Analytics', 'Finance',\n",
       "       'IoT platform', 'Commerce', 'Defense & Space', 'Entertainment',\n",
       "       'Business Supplies & Equipment', 'NFT', 'Oil & Energy', 'EV',\n",
       "       'Company-as-a-Service', 'Textiles',\n",
       "       'Professional Training & Coaching', 'Maritime',\n",
       "       'Housing Marketplace', 'Furniture Rental', 'Telecommunications',\n",
       "       'Equity Management', 'Cloud kitchen', 'Nanotechnology',\n",
       "       'Community', 'Higher Education', 'B2B',\n",
       "       'Mechanical Or Industrial Engineering', 'D2C jewellery',\n",
       "       'Sales and Distribution', 'SaaS', 'Information Services',\n",
       "       'Translation & Localization', 'Investment Banking', 'Femtech',\n",
       "       'sports', 'Foootwear', 'Legal Services', 'Veterinary',\n",
       "       'Arts & Crafts', 'Investment Management', 'Education',\n",
       "       'Management Consulting', 'B2B startup',\n",
       "       'Sochcast is an Audio experiences company that give the listener and creators an Immersive Audio experience',\n",
       "       'Design', 'B2B Travel', 'Interior Design',\n",
       "       'Manchester, Greater Manchester', 'Product studio',\n",
       "       'Aviation & Aerospace', 'Staffing & Recruiting'], dtype=object)"
      ]
     },
     "execution_count": 59,
     "metadata": {},
     "output_type": "execute_result"
    }
   ],
   "source": [
    "df_2021['Sector'].unique()"
   ]
  },
  {
   "cell_type": "code",
   "execution_count": 60,
   "metadata": {},
   "outputs": [],
   "source": [
    "# Typo Corrections in sector\n",
    "corrections = {\n",
    "    'Helathcare': 'Healthcare',\n",
    "    'Heathtech': 'Healthtech',\n",
    "    'Foootwear': 'Footwear',\n",
    "    'Aeorspace': 'Aerospace',\n",
    "    'Healtcare': 'Healthcare'\n",
    "}\n",
    "df_2021['Sector'] = df_2021['Sector'].replace(corrections)\n"
   ]
  },
  {
   "cell_type": "code",
   "execution_count": 61,
   "metadata": {},
   "outputs": [
    {
     "name": "stdout",
     "output_type": "stream",
     "text": [
      "Filtered Rows:\n"
     ]
    },
    {
     "data": {
      "text/html": [
       "<div>\n",
       "<style scoped>\n",
       "    .dataframe tbody tr th:only-of-type {\n",
       "        vertical-align: middle;\n",
       "    }\n",
       "\n",
       "    .dataframe tbody tr th {\n",
       "        vertical-align: top;\n",
       "    }\n",
       "\n",
       "    .dataframe thead th {\n",
       "        text-align: right;\n",
       "    }\n",
       "</style>\n",
       "<table border=\"1\" class=\"dataframe\">\n",
       "  <thead>\n",
       "    <tr style=\"text-align: right;\">\n",
       "      <th></th>\n",
       "      <th>Company_Brand</th>\n",
       "      <th>Founded</th>\n",
       "      <th>HeadQuarter</th>\n",
       "      <th>Sector</th>\n",
       "      <th>What_it_does</th>\n",
       "      <th>Founders</th>\n",
       "      <th>Investor</th>\n",
       "      <th>Amount($)</th>\n",
       "      <th>Stage</th>\n",
       "      <th>Year</th>\n",
       "    </tr>\n",
       "  </thead>\n",
       "  <tbody>\n",
       "    <tr>\n",
       "      <th>241</th>\n",
       "      <td>MasterChow</td>\n",
       "      <td>2020.0</td>\n",
       "      <td>Hauz Khas</td>\n",
       "      <td>Hauz Khas</td>\n",
       "      <td>A ready-to-cook Asian cuisine brand</td>\n",
       "      <td>Vidur Kataria, Sidhanth Madan</td>\n",
       "      <td>WEH Ventures</td>\n",
       "      <td>461000.0</td>\n",
       "      <td>Seed</td>\n",
       "      <td>2021</td>\n",
       "    </tr>\n",
       "    <tr>\n",
       "      <th>242</th>\n",
       "      <td>Fullife Healthcare</td>\n",
       "      <td>2009.0</td>\n",
       "      <td>Unknown</td>\n",
       "      <td>Primary Business is Development and Manufactur...</td>\n",
       "      <td>Varun Khanna</td>\n",
       "      <td>Morgan Stanley Private Equity Asia</td>\n",
       "      <td>$22000000</td>\n",
       "      <td>22000000.0</td>\n",
       "      <td>None</td>\n",
       "      <td>2021</td>\n",
       "    </tr>\n",
       "  </tbody>\n",
       "</table>\n",
       "</div>"
      ],
      "text/plain": [
       "          Company_Brand  Founded HeadQuarter  \\\n",
       "241          MasterChow   2020.0   Hauz Khas   \n",
       "242  Fullife Healthcare   2009.0     Unknown   \n",
       "\n",
       "                                                Sector  \\\n",
       "241                                          Hauz Khas   \n",
       "242  Primary Business is Development and Manufactur...   \n",
       "\n",
       "                            What_it_does                            Founders  \\\n",
       "241  A ready-to-cook Asian cuisine brand       Vidur Kataria, Sidhanth Madan   \n",
       "242                         Varun Khanna  Morgan Stanley Private Equity Asia   \n",
       "\n",
       "         Investor   Amount($) Stage  Year  \n",
       "241  WEH Ventures    461000.0  Seed  2021  \n",
       "242     $22000000  22000000.0  None  2021  "
      ]
     },
     "execution_count": 61,
     "metadata": {},
     "output_type": "execute_result"
    }
   ],
   "source": [
    "# List of keywords to search for in the 'Sector' column\n",
    "keywords = [\n",
    "    \"Sochcast is an Audio experiences company that give the listener and creators an Immersive Audio experience\",\n",
    "    \"Manchester, Greater Manchester\",\n",
    "    \"MoEVing is India's only Electric Mobility focused Technology Platform with a vision to accelerate EV adoption in India.\",\n",
    "    \"Primary Business is Development and Manufacturing of Novel Healthcare Products in Effervescent forms using imported propriety ingredients.\",\n",
    "    \"Hauz Khas\"\n",
    "]\n",
    "\n",
    "# Filter rows in the DataFrame where the 'Sector' column contains any of the keywords to check whether they have interchaged entries on other columns\n",
    "filtered_rows = df_2021[df_2021['Sector'].str.contains('|'.join(keywords), case=False, na=False)]\n",
    "\n",
    "# Display the filtered rows\n",
    "print(\"Filtered Rows:\")\n",
    "filtered_rows.head(2)\n",
    "\n"
   ]
  },
  {
   "cell_type": "markdown",
   "metadata": {},
   "source": [
    "Run the above code on the original data of 2021 and realised some of the columns names had been interchanged, so I did the corrections below."
   ]
  },
  {
   "cell_type": "code",
   "execution_count": 62,
   "metadata": {},
   "outputs": [],
   "source": [
    "#Doing corrections on the sector column by replacing entries with the correct ones which had mistakenly been placed other columns\n",
    "corrections = {\n",
    "    \"Sochcast is an Audio experiences company that give the listener and creators an Immersive Audio experience\": \"Online Media\",\n",
    "    \"Manchester, Greater Manchester\":\"Information Technology & Services\",\n",
    "    \"MoEVing is India's only Electric Mobility focused Technology Platform with a vision to accelerate EV adoption in India.\":\"Unknown\",\n",
    "    \"Primary Business is Development and Manufacturing of Novel Healthcare Products in Effervescent forms using imported propriety ingredients.\": \"Pharmaceuticals\",\n",
    "    \"Hauz Khas\":\"Food & Beverages\",\t\n",
    "}\n",
    "# Applying corrections to the 'Sector' column\n",
    "df_2021['Sector']= df_2021['Sector'].replace(corrections)"
   ]
  },
  {
   "cell_type": "code",
   "execution_count": 63,
   "metadata": {},
   "outputs": [
    {
     "data": {
      "text/plain": [
       "0"
      ]
     },
     "execution_count": 63,
     "metadata": {},
     "output_type": "execute_result"
    }
   ],
   "source": [
    "df_2021['Sector'].isnull().sum()"
   ]
  },
  {
   "cell_type": "code",
   "execution_count": 64,
   "metadata": {},
   "outputs": [
    {
     "data": {
      "text/plain": [
       "array(['Pre-series A', None, 'Series D', 'Series C', 'Seed', 'Series B',\n",
       "       'Series E', 'Pre-seed', 'Series A', 'Pre-series B', 'Debt',\n",
       "       '$1200000', 'Bridge', 'Seed+', 'Series F2', 'Series A+',\n",
       "       'Series G', 'Series F', 'Series H', 'Series B3', 'PE', 'Series F1',\n",
       "       'Pre-series A1', '$300000', 'Early seed', 'Series D1', '$6000000',\n",
       "       '$1000000', 'Seies A', 'Pre-series', 'Series A2', 'Series I'],\n",
       "      dtype=object)"
      ]
     },
     "execution_count": 64,
     "metadata": {},
     "output_type": "execute_result"
    }
   ],
   "source": [
    "#check for unique value in stage\n",
    "df_2021['Stage'].unique()"
   ]
  },
  {
   "cell_type": "markdown",
   "metadata": {},
   "source": [
    "As seen above there are some entries that don't belong to the stage column so they need to be removed."
   ]
  },
  {
   "cell_type": "code",
   "execution_count": 65,
   "metadata": {},
   "outputs": [],
   "source": [
    "# Correct the typo \n",
    "df_2021['Stage'] = df_2021['Stage'].replace('Seies A', 'Series A')\n",
    "df_2021['Stage'] = df_2021['Stage'].replace('Series A+', 'Series A')\n",
    "df_2021['Stage'] = df_2021['Stage'].replace('Seed+', 'Seed')\n"
   ]
  },
  {
   "cell_type": "code",
   "execution_count": 66,
   "metadata": {},
   "outputs": [
    {
     "name": "stdout",
     "output_type": "stream",
     "text": [
      "Filtered Rows:\n"
     ]
    },
    {
     "data": {
      "text/html": [
       "<div>\n",
       "<style scoped>\n",
       "    .dataframe tbody tr th:only-of-type {\n",
       "        vertical-align: middle;\n",
       "    }\n",
       "\n",
       "    .dataframe tbody tr th {\n",
       "        vertical-align: top;\n",
       "    }\n",
       "\n",
       "    .dataframe thead th {\n",
       "        text-align: right;\n",
       "    }\n",
       "</style>\n",
       "<table border=\"1\" class=\"dataframe\">\n",
       "  <thead>\n",
       "    <tr style=\"text-align: right;\">\n",
       "      <th></th>\n",
       "      <th>Company_Brand</th>\n",
       "      <th>Founded</th>\n",
       "      <th>HeadQuarter</th>\n",
       "      <th>Sector</th>\n",
       "      <th>What_it_does</th>\n",
       "      <th>Founders</th>\n",
       "      <th>Investor</th>\n",
       "      <th>Amount($)</th>\n",
       "      <th>Stage</th>\n",
       "      <th>Year</th>\n",
       "    </tr>\n",
       "  </thead>\n",
       "  <tbody>\n",
       "    <tr>\n",
       "      <th>98</th>\n",
       "      <td>FanPlay</td>\n",
       "      <td>2020.0</td>\n",
       "      <td>Unknown</td>\n",
       "      <td>Computer Games</td>\n",
       "      <td>A real money game app specializing in trivia g...</td>\n",
       "      <td>YC W21</td>\n",
       "      <td>Pritesh Kumar, Bharat Gupta</td>\n",
       "      <td>1200000.0</td>\n",
       "      <td>$1200000</td>\n",
       "      <td>2021</td>\n",
       "    </tr>\n",
       "    <tr>\n",
       "      <th>538</th>\n",
       "      <td>Little Leap</td>\n",
       "      <td>2020.0</td>\n",
       "      <td>New Delhi</td>\n",
       "      <td>EdTech</td>\n",
       "      <td>Soft Skills that make Smart Leaders</td>\n",
       "      <td>Holistic Development Programs for children in ...</td>\n",
       "      <td>Vishal Gupta</td>\n",
       "      <td>300000.0</td>\n",
       "      <td>$300000</td>\n",
       "      <td>2021</td>\n",
       "    </tr>\n",
       "    <tr>\n",
       "      <th>551</th>\n",
       "      <td>BHyve</td>\n",
       "      <td>2020.0</td>\n",
       "      <td>Mumbai</td>\n",
       "      <td>Human Resources</td>\n",
       "      <td>A Future of Work Platform for diffusing Employ...</td>\n",
       "      <td>Backed by 100x.VC</td>\n",
       "      <td>Omkar Pandharkame, Ketaki Ogale</td>\n",
       "      <td>300000.0</td>\n",
       "      <td>$300000</td>\n",
       "      <td>2021</td>\n",
       "    </tr>\n",
       "    <tr>\n",
       "      <th>674</th>\n",
       "      <td>MYRE Capital</td>\n",
       "      <td>2020.0</td>\n",
       "      <td>Mumbai</td>\n",
       "      <td>Commercial Real Estate</td>\n",
       "      <td>Democratising Real Estate Ownership</td>\n",
       "      <td>Own rent yielding commercial properties</td>\n",
       "      <td>Aryaman Vir</td>\n",
       "      <td>3500000.0</td>\n",
       "      <td>$6000000</td>\n",
       "      <td>2021</td>\n",
       "    </tr>\n",
       "    <tr>\n",
       "      <th>677</th>\n",
       "      <td>Saarthi Pedagogy</td>\n",
       "      <td>2015.0</td>\n",
       "      <td>Ahmadabad</td>\n",
       "      <td>EdTech</td>\n",
       "      <td>India's fastest growing Pedagogy company, serv...</td>\n",
       "      <td>Pedagogy</td>\n",
       "      <td>Sushil Agarwal</td>\n",
       "      <td>1000000.0</td>\n",
       "      <td>$1000000</td>\n",
       "      <td>2021</td>\n",
       "    </tr>\n",
       "  </tbody>\n",
       "</table>\n",
       "</div>"
      ],
      "text/plain": [
       "        Company_Brand  Founded HeadQuarter                  Sector  \\\n",
       "98            FanPlay   2020.0     Unknown          Computer Games   \n",
       "538       Little Leap   2020.0   New Delhi                  EdTech   \n",
       "551             BHyve   2020.0      Mumbai         Human Resources   \n",
       "674      MYRE Capital   2020.0      Mumbai  Commercial Real Estate   \n",
       "677  Saarthi Pedagogy   2015.0   Ahmadabad                  EdTech   \n",
       "\n",
       "                                          What_it_does  \\\n",
       "98   A real money game app specializing in trivia g...   \n",
       "538                Soft Skills that make Smart Leaders   \n",
       "551  A Future of Work Platform for diffusing Employ...   \n",
       "674                Democratising Real Estate Ownership   \n",
       "677  India's fastest growing Pedagogy company, serv...   \n",
       "\n",
       "                                              Founders  \\\n",
       "98                                              YC W21   \n",
       "538  Holistic Development Programs for children in ...   \n",
       "551                                  Backed by 100x.VC   \n",
       "674            Own rent yielding commercial properties   \n",
       "677                                           Pedagogy   \n",
       "\n",
       "                            Investor  Amount($)     Stage  Year  \n",
       "98       Pritesh Kumar, Bharat Gupta  1200000.0  $1200000  2021  \n",
       "538                     Vishal Gupta   300000.0   $300000  2021  \n",
       "551  Omkar Pandharkame, Ketaki Ogale   300000.0   $300000  2021  \n",
       "674                      Aryaman Vir  3500000.0  $6000000  2021  \n",
       "677                   Sushil Agarwal  1000000.0  $1000000  2021  "
      ]
     },
     "execution_count": 66,
     "metadata": {},
     "output_type": "execute_result"
    }
   ],
   "source": [
    "# List of values to search for in the 'Stage' column\n",
    "target_values = ['$1200000', '$300000', '$6000000', '$1000000']\n",
    "\n",
    "# Filter rows in the DataFrame where the 'Stage' column is in the list of target values\n",
    "filtered_rows = df_2021[df_2021['Stage'].isin(target_values)]\n",
    "\n",
    "# Display the filtered rows\n",
    "print(\"Filtered Rows:\")\n",
    "filtered_rows"
   ]
  },
  {
   "cell_type": "markdown",
   "metadata": {},
   "source": [
    "Since I could not locate the true stages of above row, I replaced them with Unknown"
   ]
  },
  {
   "cell_type": "code",
   "execution_count": 67,
   "metadata": {},
   "outputs": [],
   "source": [
    "# List of values to be replaced\n",
    "target_values = ['$1200000', '$300000', '$6000000', '$1000000']\n",
    "\n",
    "# Replace the target values in the 'Stage' column with 'Unknown'\n",
    "df_2021['Stage'] = df_2021['Stage'].replace(target_values, 'Unknown')\n"
   ]
  },
  {
   "cell_type": "code",
   "execution_count": 68,
   "metadata": {},
   "outputs": [
    {
     "data": {
      "text/plain": [
       "421"
      ]
     },
     "execution_count": 68,
     "metadata": {},
     "output_type": "execute_result"
    }
   ],
   "source": [
    "df_2021['Stage'].isnull().sum()"
   ]
  },
  {
   "cell_type": "code",
   "execution_count": 69,
   "metadata": {},
   "outputs": [],
   "source": [
    "# Replace null values in 'Stage' with 'Unknown'\n",
    "df_2021['Stage'].fillna('Unknown', inplace=True)\n"
   ]
  },
  {
   "cell_type": "code",
   "execution_count": 70,
   "metadata": {},
   "outputs": [
    {
     "name": "stdout",
     "output_type": "stream",
     "text": [
      "<class 'pandas.core.frame.DataFrame'>\n",
      "Index: 1190 entries, 0 to 1208\n",
      "Data columns (total 10 columns):\n",
      " #   Column         Non-Null Count  Dtype  \n",
      "---  ------         --------------  -----  \n",
      " 0   Company_Brand  1190 non-null   object \n",
      " 1   Founded        1189 non-null   float64\n",
      " 2   HeadQuarter    1190 non-null   object \n",
      " 3   Sector         1190 non-null   object \n",
      " 4   What_it_does   1190 non-null   object \n",
      " 5   Founders       1186 non-null   object \n",
      " 6   Investor       1129 non-null   object \n",
      " 7   Amount($)      1190 non-null   float64\n",
      " 8   Stage          1190 non-null   object \n",
      " 9   Year           1190 non-null   int64  \n",
      "dtypes: float64(2), int64(1), object(7)\n",
      "memory usage: 102.3+ KB\n"
     ]
    }
   ],
   "source": [
    "df_2021.info()"
   ]
  },
  {
   "cell_type": "markdown",
   "metadata": {},
   "source": []
  },
  {
   "cell_type": "markdown",
   "metadata": {},
   "source": [
    "##### Startup-funding 2019 data"
   ]
  },
  {
   "cell_type": "code",
   "execution_count": 71,
   "metadata": {},
   "outputs": [],
   "source": [
    "# Add a year column\n",
    "df_2019['Year'] = 2019\n"
   ]
  },
  {
   "cell_type": "code",
   "execution_count": 72,
   "metadata": {},
   "outputs": [
    {
     "name": "stdout",
     "output_type": "stream",
     "text": [
      "<class 'pandas.core.frame.DataFrame'>\n",
      "RangeIndex: 89 entries, 0 to 88\n",
      "Data columns (total 10 columns):\n",
      " #   Column         Non-Null Count  Dtype  \n",
      "---  ------         --------------  -----  \n",
      " 0   Company/Brand  89 non-null     object \n",
      " 1   Founded        60 non-null     float64\n",
      " 2   HeadQuarter    70 non-null     object \n",
      " 3   Sector         84 non-null     object \n",
      " 4   What it does   89 non-null     object \n",
      " 5   Founders       86 non-null     object \n",
      " 6   Investor       89 non-null     object \n",
      " 7   Amount($)      89 non-null     object \n",
      " 8   Stage          43 non-null     object \n",
      " 9   Year           89 non-null     int64  \n",
      "dtypes: float64(1), int64(1), object(8)\n",
      "memory usage: 7.1+ KB\n"
     ]
    }
   ],
   "source": [
    "# Display concise information about DataFrame for 2019\n",
    "df_2019.info()"
   ]
  },
  {
   "cell_type": "markdown",
   "metadata": {},
   "source": [
    "The dataset contains 89 entries with varying degrees of completeness across columns, indicating missing values in columns such as 'Founded,' 'HeadQuarter,' 'Sector,' 'Founders,' and 'Stage.' Additionally, the 'Amount($)' column is currently of object type, suggesting that it may include non-numeric characters or a mix of data types that require further exploration or cleaning for meaningful analysis."
   ]
  },
  {
   "cell_type": "code",
   "execution_count": 73,
   "metadata": {},
   "outputs": [
    {
     "data": {
      "text/plain": [
       "Company/Brand     0\n",
       "Founded          29\n",
       "HeadQuarter      19\n",
       "Sector            5\n",
       "What it does      0\n",
       "Founders          3\n",
       "Investor          0\n",
       "Amount($)         0\n",
       "Stage            46\n",
       "Year              0\n",
       "dtype: int64"
      ]
     },
     "execution_count": 73,
     "metadata": {},
     "output_type": "execute_result"
    }
   ],
   "source": [
    "#count the number of missing values in each column\n",
    "df_2019.isnull().sum()"
   ]
  },
  {
   "cell_type": "markdown",
   "metadata": {},
   "source": [
    "The dataset exhibits some missing values, with 'Founded' having 29 entries, 'HeadQuarter' having 19 entries, 'Sector' having 5 entries, 'Founders' having 3 entries, and 'Stage' having 46 entries without data. Notably, 'Amount($)' and 'Investor' columns have complete data."
   ]
  },
  {
   "cell_type": "markdown",
   "metadata": {},
   "source": [
    "### Data Cleaning"
   ]
  },
  {
   "cell_type": "code",
   "execution_count": 74,
   "metadata": {},
   "outputs": [],
   "source": [
    "# replace company/Brand to company_brand\n",
    "df_2019.rename(columns={'Company/Brand': 'Company_Brand'}, inplace=True)"
   ]
  },
  {
   "cell_type": "code",
   "execution_count": 75,
   "metadata": {},
   "outputs": [],
   "source": [
    "# replace company/Brand to company_brand\n",
    "df_2019.rename(columns={'What it does': 'What_it_does'}, inplace=True)"
   ]
  },
  {
   "cell_type": "code",
   "execution_count": 76,
   "metadata": {},
   "outputs": [
    {
     "data": {
      "text/plain": [
       "array(['$6,300,000 ', '$150,000,000 ', '$28,000,000 ', '$30,000,000 ',\n",
       "       '$6,000,000 ', 'Undisclosed', '$1,000,000 ', '$20,000,000 ',\n",
       "       '$275,000,000 ', '$22,000,000 ', '$5,000,000 ', '$140,500 ',\n",
       "       '$540,000,000 ', '$15,000,000 ', '$182,700 ', '$12,000,000 ',\n",
       "       '$11,000,000 ', '$15,500,000 ', '$1,500,000 ', '$5,500,000 ',\n",
       "       '$2,500,000 ', '$140,000 ', '$230,000,000 ', '$49,400,000 ',\n",
       "       '$32,000,000 ', '$26,000,000 ', '$150,000 ', '$400,000 ',\n",
       "       '$2,000,000 ', '$100,000,000 ', '$8,000,000 ', '$100,000 ',\n",
       "       '$50,000,000 ', '$120,000,000 ', '$4,000,000 ', '$6,800,000 ',\n",
       "       '$36,000,000 ', '$5,700,000 ', '$25,000,000 ', '$600,000 ',\n",
       "       '$70,000,000 ', '$60,000,000 ', '$220,000 ', '$2,800,000 ',\n",
       "       '$2,100,000 ', '$7,000,000 ', '$311,000,000 ', '$4,800,000 ',\n",
       "       '$693,000,000 ', '$33,000,000 '], dtype=object)"
      ]
     },
     "execution_count": 76,
     "metadata": {},
     "output_type": "execute_result"
    }
   ],
   "source": [
    "df_2019['Amount($)'].unique()"
   ]
  },
  {
   "cell_type": "code",
   "execution_count": 77,
   "metadata": {},
   "outputs": [
    {
     "name": "stdout",
     "output_type": "stream",
     "text": [
      "Value: Undisclosed, Count: 12\n",
      "Value: $5,000,000 , Count: 6\n",
      "Value: $1,500,000 , Count: 4\n",
      "Value: $6,000,000 , Count: 4\n",
      "Value: $1,000,000 , Count: 4\n",
      "Value: $30,000,000 , Count: 3\n",
      "Value: $20,000,000 , Count: 3\n",
      "Value: $50,000,000 , Count: 3\n",
      "Value: $4,000,000 , Count: 3\n",
      "Value: $5,500,000 , Count: 3\n",
      "Value: $26,000,000 , Count: 2\n",
      "Value: $2,000,000 , Count: 2\n",
      "Value: $12,000,000 , Count: 2\n",
      "Value: $100,000 , Count: 2\n",
      "Value: $5,700,000 , Count: 1\n",
      "Value: $693,000,000 , Count: 1\n",
      "Value: $4,800,000 , Count: 1\n",
      "Value: $120,000,000 , Count: 1\n",
      "Value: $311,000,000 , Count: 1\n",
      "Value: $6,800,000 , Count: 1\n",
      "Value: $36,000,000 , Count: 1\n",
      "Value: $2,800,000 , Count: 1\n",
      "Value: $220,000 , Count: 1\n",
      "Value: $600,000 , Count: 1\n",
      "Value: $7,000,000 , Count: 1\n",
      "Value: $2,100,000 , Count: 1\n",
      "Value: $70,000,000 , Count: 1\n",
      "Value: $60,000,000 , Count: 1\n",
      "Value: $8,000,000 , Count: 1\n",
      "Value: $25,000,000 , Count: 1\n",
      "Value: $6,300,000 , Count: 1\n",
      "Value: $100,000,000 , Count: 1\n",
      "Value: $11,000,000 , Count: 1\n",
      "Value: $28,000,000 , Count: 1\n",
      "Value: $275,000,000 , Count: 1\n",
      "Value: $22,000,000 , Count: 1\n",
      "Value: $140,500 , Count: 1\n",
      "Value: $540,000,000 , Count: 1\n",
      "Value: $15,000,000 , Count: 1\n",
      "Value: $182,700 , Count: 1\n",
      "Value: $15,500,000 , Count: 1\n",
      "Value: $400,000 , Count: 1\n",
      "Value: $2,500,000 , Count: 1\n",
      "Value: $140,000 , Count: 1\n",
      "Value: $230,000,000 , Count: 1\n",
      "Value: $49,400,000 , Count: 1\n",
      "Value: $32,000,000 , Count: 1\n",
      "Value: $150,000,000 , Count: 1\n",
      "Value: $150,000 , Count: 1\n",
      "Value: $33,000,000 , Count: 1\n"
     ]
    }
   ],
   "source": [
    "\n",
    "# Checking the frequency of each unique value in 'Amount($)'\n",
    "value_counts = df_2019['Amount($)'].value_counts()\n",
    "\n",
    "\n",
    "# Iterate through the items to print both unique values and their counts\n",
    "for value, count in value_counts.items():\n",
    "    print(f\"Value: {value}, Count: {count}\")"
   ]
  },
  {
   "cell_type": "markdown",
   "metadata": {},
   "source": [
    "The 'amount' column has values in different formats, such as 'Undisclosed' and amounts with dollar signs and commas. To clean this column and make it suitable for analysis, I followed these steps:\n",
    "\n",
    "1.Replace 'Undisclosed' with NaN.\n",
    "\n",
    "2.Remove dollar signs and commas from the numeric values.\n",
    "\n",
    "3.Convert the values to numeric data type."
   ]
  },
  {
   "cell_type": "code",
   "execution_count": 78,
   "metadata": {},
   "outputs": [],
   "source": [
    "\n",
    "# Step 1: Replace 'Undisclosed' with NaN\n",
    "df_2019['Amount($)'].replace('Undisclosed', np.nan, inplace=True)\n",
    "\n",
    "# Step 2: Remove dollar signs and commas from numeric values\n",
    "df_2019['Amount($)'] = df_2019['Amount($)'].replace('[\\$,]', '', regex=True).astype(float)\n",
    "\n",
    "# Step 3: Convert the values to numeric data type\n",
    "df_2019['Amount($)'].fillna(df_2019['Amount($)'].median(), inplace=True)  # Fill NaN values with median\n"
   ]
  },
  {
   "cell_type": "code",
   "execution_count": 79,
   "metadata": {},
   "outputs": [
    {
     "data": {
      "text/plain": [
       "0"
      ]
     },
     "execution_count": 79,
     "metadata": {},
     "output_type": "execute_result"
    }
   ],
   "source": [
    "#Check if amount has missing values\n",
    "df_2019['Amount($)'].isna().sum()"
   ]
  },
  {
   "cell_type": "code",
   "execution_count": 80,
   "metadata": {},
   "outputs": [
    {
     "data": {
      "text/plain": [
       "array([nan, 'Mumbai', 'Chennai', 'Telangana', 'Pune', 'Bangalore',\n",
       "       'Noida', 'Delhi', 'Ahmedabad', 'Gurugram', 'Haryana', 'Chandigarh',\n",
       "       'Jaipur', 'New Delhi', 'Surat', 'Uttar pradesh', 'Hyderabad',\n",
       "       'Rajasthan'], dtype=object)"
      ]
     },
     "execution_count": 80,
     "metadata": {},
     "output_type": "execute_result"
    }
   ],
   "source": [
    "df_2019['HeadQuarter'].unique()"
   ]
  },
  {
   "cell_type": "code",
   "execution_count": 81,
   "metadata": {},
   "outputs": [],
   "source": [
    "# Define a mapping for cleaning the 'HeadQuarter' column\n",
    "location_mapping = {\n",
    "    'New Delhi': 'Delhi',\n",
    "    \n",
    "}\n",
    "\n",
    "# Replace values in the 'HeadQuarter' column based on the mapping\n",
    "df_2019['HeadQuarter'] = df_2019['HeadQuarter'].replace(location_mapping)\n",
    "\n",
    "\n"
   ]
  },
  {
   "cell_type": "code",
   "execution_count": 82,
   "metadata": {},
   "outputs": [
    {
     "data": {
      "text/plain": [
       "19"
      ]
     },
     "execution_count": 82,
     "metadata": {},
     "output_type": "execute_result"
    }
   ],
   "source": [
    "#check null values\n",
    "df_2019['HeadQuarter'].isnull().sum()"
   ]
  },
  {
   "cell_type": "code",
   "execution_count": 83,
   "metadata": {},
   "outputs": [],
   "source": [
    "# Replace null values in'Headquarter' with 'Unknown'\n",
    "df_2019['HeadQuarter'].fillna('Unknown', inplace=True)\n"
   ]
  },
  {
   "cell_type": "code",
   "execution_count": 84,
   "metadata": {},
   "outputs": [
    {
     "data": {
      "text/plain": [
       "array(['Ecommerce', 'Edtech', 'Interior design', 'AgriTech', 'Technology',\n",
       "       'SaaS', 'AI & Tech', 'E-commerce', 'E-commerce & AR', 'Fintech',\n",
       "       'HR tech', 'Food tech', 'Health', 'Healthcare', 'Safety tech',\n",
       "       'Pharmaceutical', 'Insurance technology', 'AI', 'Foodtech', 'Food',\n",
       "       'IoT', 'E-marketplace', 'Robotics & AI', 'Logistics', 'Travel',\n",
       "       'Manufacturing', 'Food & Nutrition', 'Social Media', nan,\n",
       "       'E-Sports', 'Cosmetics', 'B2B', 'Jewellery', 'B2B Supply Chain',\n",
       "       'Games', 'Food & tech', 'Accomodation', 'Automotive tech',\n",
       "       'Legal tech', 'Mutual Funds', 'Cybersecurity', 'Automobile',\n",
       "       'Sports', 'Healthtech', 'Yoga & wellness', 'Virtual Banking',\n",
       "       'Transportation', 'Transport & Rentals',\n",
       "       'Marketing & Customer loyalty', 'Infratech', 'Hospitality',\n",
       "       'Automobile & Technology', 'Banking'], dtype=object)"
      ]
     },
     "execution_count": 84,
     "metadata": {},
     "output_type": "execute_result"
    }
   ],
   "source": [
    "df_2019['Sector'].unique()"
   ]
  },
  {
   "cell_type": "code",
   "execution_count": 85,
   "metadata": {},
   "outputs": [],
   "source": [
    "# Define a mapping for cleaning the 'Sector' column\n",
    "sector_mapping = {\n",
    "    'Ecommerce': 'E-commerce',\n",
    "    \n",
    "}\n",
    "# Replace values in the 'Sector' column based on the mapping\n",
    "df_2019['Sector'] = df_2019['Sector'].replace(sector_mapping)\n"
   ]
  },
  {
   "cell_type": "markdown",
   "metadata": {},
   "source": []
  },
  {
   "cell_type": "code",
   "execution_count": 86,
   "metadata": {},
   "outputs": [
    {
     "data": {
      "text/plain": [
       "5"
      ]
     },
     "execution_count": 86,
     "metadata": {},
     "output_type": "execute_result"
    }
   ],
   "source": [
    "df_2019['Sector'].isna().sum()"
   ]
  },
  {
   "cell_type": "code",
   "execution_count": 87,
   "metadata": {},
   "outputs": [],
   "source": [
    "# Replace null values in'Sector' with 'Unknown'\n",
    "df_2019['Sector'].fillna('Unknown', inplace=True)\n"
   ]
  },
  {
   "cell_type": "code",
   "execution_count": 88,
   "metadata": {},
   "outputs": [
    {
     "data": {
      "text/plain": [
       "array([nan, 'Series C', 'Fresh funding', 'Series D', 'Pre series A',\n",
       "       'Series A', 'Series G', 'Series B', 'Post series A',\n",
       "       'Seed funding', 'Seed fund', 'Series E', 'Series F', 'Series B+',\n",
       "       'Seed round', 'Pre-series A'], dtype=object)"
      ]
     },
     "execution_count": 88,
     "metadata": {},
     "output_type": "execute_result"
    }
   ],
   "source": [
    "#check unique values in stage column\n",
    "df_2019['Stage'].unique()"
   ]
  },
  {
   "cell_type": "code",
   "execution_count": 89,
   "metadata": {},
   "outputs": [],
   "source": [
    "# Define a mapping for cleaning the 'Stage' column\n",
    "stage_mapping = {\n",
    "    'Seed round': 'Seed',\n",
    "    'Seed fund': 'Seed',\n",
    "    'Pre series A': 'Pre-series A',\n",
    "    'Series B+': 'Series B',\n",
    "    'Seed funding':'Seed'\n",
    "    # Add more mappings as needed\n",
    "}\n",
    "\n",
    "# Replace values in the 'Stage' column based on the mapping\n",
    "df_2019['Stage'] = df_2019['Stage'].replace(stage_mapping)\n",
    "\n"
   ]
  },
  {
   "cell_type": "code",
   "execution_count": 90,
   "metadata": {},
   "outputs": [],
   "source": [
    "# Replace null values in'Stage' with 'Unknown'\n",
    "df_2019['Stage'].fillna('Unknown', inplace=True)\n"
   ]
  },
  {
   "cell_type": "code",
   "execution_count": 91,
   "metadata": {},
   "outputs": [
    {
     "name": "stdout",
     "output_type": "stream",
     "text": [
      "<class 'pandas.core.frame.DataFrame'>\n",
      "RangeIndex: 89 entries, 0 to 88\n",
      "Data columns (total 10 columns):\n",
      " #   Column         Non-Null Count  Dtype  \n",
      "---  ------         --------------  -----  \n",
      " 0   Company_Brand  89 non-null     object \n",
      " 1   Founded        60 non-null     float64\n",
      " 2   HeadQuarter    89 non-null     object \n",
      " 3   Sector         89 non-null     object \n",
      " 4   What_it_does   89 non-null     object \n",
      " 5   Founders       86 non-null     object \n",
      " 6   Investor       89 non-null     object \n",
      " 7   Amount($)      89 non-null     float64\n",
      " 8   Stage          89 non-null     object \n",
      " 9   Year           89 non-null     int64  \n",
      "dtypes: float64(2), int64(1), object(7)\n",
      "memory usage: 7.1+ KB\n"
     ]
    }
   ],
   "source": [
    "df_2019.info()\n"
   ]
  },
  {
   "cell_type": "code",
   "execution_count": 92,
   "metadata": {},
   "outputs": [
    {
     "data": {
      "text/plain": [
       "0"
      ]
     },
     "execution_count": 92,
     "metadata": {},
     "output_type": "execute_result"
    }
   ],
   "source": [
    "# Check for duplicates in the entire DataFrame\n",
    "duplicates = df_2019.duplicated().sum()\n",
    "duplicates"
   ]
  },
  {
   "cell_type": "markdown",
   "metadata": {},
   "source": [
    "##### Startup-funding 2018 data"
   ]
  },
  {
   "cell_type": "code",
   "execution_count": 93,
   "metadata": {},
   "outputs": [],
   "source": [
    "# Add a year column\n",
    "df_2018['Year'] = 2018"
   ]
  },
  {
   "cell_type": "code",
   "execution_count": 94,
   "metadata": {},
   "outputs": [
    {
     "name": "stdout",
     "output_type": "stream",
     "text": [
      "<class 'pandas.core.frame.DataFrame'>\n",
      "RangeIndex: 526 entries, 0 to 525\n",
      "Data columns (total 7 columns):\n",
      " #   Column         Non-Null Count  Dtype \n",
      "---  ------         --------------  ----- \n",
      " 0   Company Name   526 non-null    object\n",
      " 1   Industry       526 non-null    object\n",
      " 2   Round/Series   526 non-null    object\n",
      " 3   Amount         526 non-null    object\n",
      " 4   Location       526 non-null    object\n",
      " 5   About Company  526 non-null    object\n",
      " 6   Year           526 non-null    int64 \n",
      "dtypes: int64(1), object(6)\n",
      "memory usage: 28.9+ KB\n"
     ]
    }
   ],
   "source": [
    "# Display concise information about DataFrame for 2018\n",
    "df_2018.info()"
   ]
  },
  {
   "cell_type": "markdown",
   "metadata": {},
   "source": [
    "The dataset comprises 526 entries with complete information in all columns, including 'Company Name,' 'Industry,' 'Round/Series,' 'Amount,' 'Location,' and 'About Company.' All columns appear to be of object data type, suggesting they likely contain textual or categorical information.  For meaningful analysis, it might be beneficial to convert 'Amount' to a numeric data type (e.g., float) after addressing any non-numeric elements or formatting issues in the column."
   ]
  },
  {
   "cell_type": "markdown",
   "metadata": {},
   "source": [
    "### Data cleaning 2018"
   ]
  },
  {
   "cell_type": "code",
   "execution_count": 95,
   "metadata": {},
   "outputs": [],
   "source": [
    "# replace column names to correspond with columns from other data\n",
    "df_2018.rename(columns={'Company Name':'Company_Brand','Industry':'Sector','Round/Series':'Stage','Amount':'Amount($)','Location':'HeadQuarter','About Company':'What_it_does'}, inplace=True)"
   ]
  },
  {
   "cell_type": "code",
   "execution_count": 96,
   "metadata": {},
   "outputs": [
    {
     "data": {
      "text/plain": [
       "Company_Brand    0\n",
       "Sector           0\n",
       "Stage            0\n",
       "Amount($)        0\n",
       "HeadQuarter      0\n",
       "What_it_does     0\n",
       "Year             0\n",
       "dtype: int64"
      ]
     },
     "execution_count": 96,
     "metadata": {},
     "output_type": "execute_result"
    }
   ],
   "source": [
    "#count the number of missing values in each column\n",
    "df_2018.isnull().sum()"
   ]
  },
  {
   "cell_type": "markdown",
   "metadata": {},
   "source": [
    "The dataset is complete, containing 0 missing values across all columns."
   ]
  },
  {
   "cell_type": "code",
   "execution_count": 97,
   "metadata": {},
   "outputs": [
    {
     "data": {
      "text/html": [
       "<div>\n",
       "<style scoped>\n",
       "    .dataframe tbody tr th:only-of-type {\n",
       "        vertical-align: middle;\n",
       "    }\n",
       "\n",
       "    .dataframe tbody tr th {\n",
       "        vertical-align: top;\n",
       "    }\n",
       "\n",
       "    .dataframe thead th {\n",
       "        text-align: right;\n",
       "    }\n",
       "</style>\n",
       "<table border=\"1\" class=\"dataframe\">\n",
       "  <thead>\n",
       "    <tr style=\"text-align: right;\">\n",
       "      <th></th>\n",
       "      <th>Company_Brand</th>\n",
       "      <th>Sector</th>\n",
       "      <th>Stage</th>\n",
       "      <th>Amount($)</th>\n",
       "      <th>HeadQuarter</th>\n",
       "      <th>What_it_does</th>\n",
       "      <th>Year</th>\n",
       "    </tr>\n",
       "  </thead>\n",
       "  <tbody>\n",
       "    <tr>\n",
       "      <th>0</th>\n",
       "      <td>TheCollegeFever</td>\n",
       "      <td>Brand Marketing, Event Promotion, Marketing, S...</td>\n",
       "      <td>Seed</td>\n",
       "      <td>250000</td>\n",
       "      <td>Bangalore, Karnataka, India</td>\n",
       "      <td>TheCollegeFever is a hub for fun, fiesta and f...</td>\n",
       "      <td>2018</td>\n",
       "    </tr>\n",
       "    <tr>\n",
       "      <th>348</th>\n",
       "      <td>TheCollegeFever</td>\n",
       "      <td>Brand Marketing, Event Promotion, Marketing, S...</td>\n",
       "      <td>Seed</td>\n",
       "      <td>250000</td>\n",
       "      <td>Bangalore, Karnataka, India</td>\n",
       "      <td>TheCollegeFever is a hub for fun, fiesta and f...</td>\n",
       "      <td>2018</td>\n",
       "    </tr>\n",
       "  </tbody>\n",
       "</table>\n",
       "</div>"
      ],
      "text/plain": [
       "       Company_Brand                                             Sector Stage  \\\n",
       "0    TheCollegeFever  Brand Marketing, Event Promotion, Marketing, S...  Seed   \n",
       "348  TheCollegeFever  Brand Marketing, Event Promotion, Marketing, S...  Seed   \n",
       "\n",
       "    Amount($)                  HeadQuarter  \\\n",
       "0      250000  Bangalore, Karnataka, India   \n",
       "348    250000  Bangalore, Karnataka, India   \n",
       "\n",
       "                                          What_it_does  Year  \n",
       "0    TheCollegeFever is a hub for fun, fiesta and f...  2018  \n",
       "348  TheCollegeFever is a hub for fun, fiesta and f...  2018  "
      ]
     },
     "execution_count": 97,
     "metadata": {},
     "output_type": "execute_result"
    }
   ],
   "source": [
    "# Check for duplicates in the entire DataFrame\n",
    "duplicates =df_2018 [df_2018.duplicated(keep=False)]\n",
    "duplicates"
   ]
  },
  {
   "cell_type": "markdown",
   "metadata": {},
   "source": [
    "There is one duplicated column which was dropped."
   ]
  },
  {
   "cell_type": "code",
   "execution_count": 98,
   "metadata": {},
   "outputs": [],
   "source": [
    "# Drop duplicate rows from the DataFrame\n",
    "df_2018 = df_2018.drop_duplicates()\n",
    "\n"
   ]
  },
  {
   "cell_type": "code",
   "execution_count": 99,
   "metadata": {},
   "outputs": [
    {
     "data": {
      "text/plain": [
       "array(['Bangalore, Karnataka, India', 'Mumbai, Maharashtra, India',\n",
       "       'Gurgaon, Haryana, India', 'Noida, Uttar Pradesh, India',\n",
       "       'Hyderabad, Andhra Pradesh, India', 'Bengaluru, Karnataka, India',\n",
       "       'Kalkaji, Delhi, India', 'Delhi, Delhi, India', 'India, Asia',\n",
       "       'Hubli, Karnataka, India', 'New Delhi, Delhi, India',\n",
       "       'Chennai, Tamil Nadu, India', 'Mohali, Punjab, India',\n",
       "       'Kolkata, West Bengal, India', 'Pune, Maharashtra, India',\n",
       "       'Jodhpur, Rajasthan, India', 'Kanpur, Uttar Pradesh, India',\n",
       "       'Ahmedabad, Gujarat, India', 'Azadpur, Delhi, India',\n",
       "       'Haryana, Haryana, India', 'Cochin, Kerala, India',\n",
       "       'Faridabad, Haryana, India', 'Jaipur, Rajasthan, India',\n",
       "       'Kota, Rajasthan, India', 'Anand, Gujarat, India',\n",
       "       'Bangalore City, Karnataka, India', 'Belgaum, Karnataka, India',\n",
       "       'Thane, Maharashtra, India', 'Margão, Goa, India',\n",
       "       'Indore, Madhya Pradesh, India', 'Alwar, Rajasthan, India',\n",
       "       'Kannur, Kerala, India', 'Trivandrum, Kerala, India',\n",
       "       'Ernakulam, Kerala, India', 'Kormangala, Karnataka, India',\n",
       "       'Uttar Pradesh, India, Asia', 'Andheri, Maharashtra, India',\n",
       "       'Mylapore, Tamil Nadu, India', 'Ghaziabad, Uttar Pradesh, India',\n",
       "       'Kochi, Kerala, India', 'Powai, Assam, India',\n",
       "       'Guntur, Andhra Pradesh, India', 'Kalpakkam, Tamil Nadu, India',\n",
       "       'Bhopal, Madhya Pradesh, India', 'Coimbatore, Tamil Nadu, India',\n",
       "       'Worli, Maharashtra, India', 'Alleppey, Kerala, India',\n",
       "       'Chandigarh, Chandigarh, India', 'Guindy, Tamil Nadu, India',\n",
       "       'Lucknow, Uttar Pradesh, India'], dtype=object)"
      ]
     },
     "execution_count": 99,
     "metadata": {},
     "output_type": "execute_result"
    }
   ],
   "source": [
    "df_2018['HeadQuarter'].unique()"
   ]
  },
  {
   "cell_type": "code",
   "execution_count": 100,
   "metadata": {},
   "outputs": [
    {
     "data": {
      "text/plain": [
       "0      Bangalore, Karnataka, India\n",
       "1       Mumbai, Maharashtra, India\n",
       "2          Gurgaon, Haryana, India\n",
       "3      Noida, Uttar Pradesh, India\n",
       "4      Hyderabad, Telangana, India\n",
       "                  ...             \n",
       "521    Bangalore, Karnataka, India\n",
       "522        Haryana, Haryana, India\n",
       "523     Mumbai, Maharashtra, India\n",
       "524     Mumbai, Maharashtra, India\n",
       "525     Chennai, Tamil Nadu, India\n",
       "Name: HeadQuarter, Length: 525, dtype: object"
      ]
     },
     "execution_count": 100,
     "metadata": {},
     "output_type": "execute_result"
    }
   ],
   "source": [
    "#This script uses a dictionary (corrections) to map incorrect values to corrected values and then applies these corrections to the 'LHeadQuarter' column. \n",
    "corrections = {\n",
    "    'Bangalore City, Karnataka, India': 'Bengaluru, Karnataka, India',\n",
    "    'Hyderabad, Andhra Pradesh, India': 'Hyderabad, Telangana, India',\n",
    "    'Cochin, Kerala, India': 'Kochi, Kerala, India',\n",
    "    'Uttar Pradesh, India, Asia': 'Uttar Pradesh, India',\n",
    "    'Kormangala, Karnataka, India': 'Koramangala, Karnataka, India',\n",
    "    'India, Asia': 'Unknown',\n",
    "    'New Delhi, Delhi, India':'Delhi, Delhi, India'\n",
    "}\n",
    "# Apply corrections\n",
    "df_2018['HeadQuarter']  = df_2018['HeadQuarter'] .replace(corrections)\n",
    "\n",
    "# Display unique values to verify corrections\n",
    "df_2018['HeadQuarter']\n"
   ]
  },
  {
   "cell_type": "code",
   "execution_count": 101,
   "metadata": {},
   "outputs": [
    {
     "data": {
      "text/plain": [
       "array(['Bangalore', 'Mumbai', 'Gurgaon', 'Noida', 'Hyderabad', 'Kalkaji',\n",
       "       'Delhi', 'Unknown', 'Hubli', 'Chennai', 'Mohali', 'Kolkata',\n",
       "       'Pune', 'Jodhpur', 'Kanpur', 'Ahmedabad', 'Azadpur', 'Haryana',\n",
       "       'Kochi', 'Faridabad', 'Jaipur', 'Kota', 'Anand', 'Belgaum',\n",
       "       'Thane', 'Margão', 'Indore', 'Alwar', 'Kannur', 'Trivandrum',\n",
       "       'Ernakulam', 'Koramangala', 'Uttar Pradesh', 'Andheri', 'Mylapore',\n",
       "       'Ghaziabad', 'Powai', 'Guntur', 'Kalpakkam', 'Bhopal',\n",
       "       'Coimbatore', 'Worli', 'Alleppey', 'Chandigarh', 'Guindy',\n",
       "       'Lucknow'], dtype=object)"
      ]
     },
     "execution_count": 101,
     "metadata": {},
     "output_type": "execute_result"
    }
   ],
   "source": [
    "# Extract the first name from the 'headquarter' column\n",
    "df_2018['HeadQuarter'] = df_2018['HeadQuarter'].apply(lambda x: x.split(', ')[0] if pd.notnull(x) else None)\n",
    "# Replace Bengaluru with Bangalore since they are the same city just different spelling\n",
    "df_2018['HeadQuarter'] = df_2018['HeadQuarter'].replace({'Bengaluru': 'Bangalore'})\n",
    "\n",
    "\n",
    "df_2018['HeadQuarter'].unique()"
   ]
  },
  {
   "cell_type": "markdown",
   "metadata": {},
   "source": [
    "The reason for extracting only the first name from the 'headquarter' column, which originally contained complete addresses including cities, states, and countries, is to standardize the data and make it consistent with the format used in other tables. "
   ]
  },
  {
   "cell_type": "code",
   "execution_count": 102,
   "metadata": {},
   "outputs": [
    {
     "data": {
      "text/plain": [
       "array(['Seed', 'Series A', 'Angel', 'Series B', 'Pre-Seed',\n",
       "       'Private Equity', 'Venture - Series Unknown', 'Grant',\n",
       "       'Debt Financing', 'Post-IPO Debt', 'Series H', 'Series C',\n",
       "       'Series E', 'Corporate Round', 'Undisclosed',\n",
       "       'https://docs.google.com/spreadsheets/d/1x9ziNeaz6auNChIHnMI8U6kS7knTr3byy_YBGfQaoUA/edit#gid=1861303593',\n",
       "       'Series D', 'Secondary Market', 'Post-IPO Equity',\n",
       "       'Non-equity Assistance', 'Funding Round'], dtype=object)"
      ]
     },
     "execution_count": 102,
     "metadata": {},
     "output_type": "execute_result"
    }
   ],
   "source": [
    "df_2018['Stage'].unique()"
   ]
  },
  {
   "cell_type": "code",
   "execution_count": 103,
   "metadata": {},
   "outputs": [],
   "source": [
    "# Replace specific values in the 'Stage' column\n",
    "df_2018['Stage'] = df_2018['Stage'].replace({\n",
    "    'https://docs.google.com/spreadsheets/d/1x9ziNeaz6auNChIHnMI8U6kS7knTr3byy_YBGfQaoUA/edit#gid=1861303593': 'Unknown',\n",
    "    'Venture - Series Unknown': 'unknown',\n",
    "    'Undisclosed': 'Unknown'\n",
    "})\n"
   ]
  },
  {
   "cell_type": "code",
   "execution_count": 104,
   "metadata": {},
   "outputs": [
    {
     "name": "stdout",
     "output_type": "stream",
     "text": [
      "Value: 250000, Count: 5\n",
      "Value: ₹40,000,000, Count: 6\n",
      "Value: ₹65,000,000, Count: 1\n",
      "Value: 2000000, Count: 12\n",
      "Value: —, Count: 148\n",
      "Value: 1600000, Count: 2\n",
      "Value: ₹16,000,000, Count: 2\n",
      "Value: ₹50,000,000, Count: 9\n",
      "Value: ₹100,000,000, Count: 3\n",
      "Value: 150000, Count: 3\n",
      "Value: 1100000, Count: 4\n",
      "Value: ₹500,000, Count: 1\n",
      "Value: 6000000, Count: 2\n",
      "Value: 650000, Count: 2\n",
      "Value: ₹35,000,000, Count: 5\n",
      "Value: ₹64,000,000, Count: 2\n",
      "Value: ₹20,000,000, Count: 8\n",
      "Value: 1000000, Count: 24\n",
      "Value: 5000000, Count: 7\n",
      "Value: 4000000, Count: 7\n",
      "Value: ₹30,000,000, Count: 4\n",
      "Value: 2800000, Count: 1\n",
      "Value: 1700000, Count: 1\n",
      "Value: 1300000, Count: 3\n",
      "Value: ₹5,000,000, Count: 3\n",
      "Value: ₹12,500,000, Count: 2\n",
      "Value: ₹15,000,000, Count: 2\n",
      "Value: 500000, Count: 13\n",
      "Value: ₹104,000,000, Count: 1\n",
      "Value: ₹45,000,000, Count: 2\n",
      "Value: 13400000, Count: 1\n",
      "Value: ₹25,000,000, Count: 2\n",
      "Value: ₹26,400,000, Count: 1\n",
      "Value: ₹8,000,000, Count: 1\n",
      "Value: ₹60,000, Count: 1\n",
      "Value: 9000000, Count: 1\n",
      "Value: 100000, Count: 2\n",
      "Value: 20000, Count: 1\n",
      "Value: 120000, Count: 3\n",
      "Value: ₹34,000,000, Count: 1\n",
      "Value: ₹342,000,000, Count: 1\n",
      "Value: $143,145, Count: 1\n",
      "Value: ₹600,000,000, Count: 3\n",
      "Value: $742,000,000, Count: 1\n",
      "Value: ₹1,000,000,000, Count: 2\n",
      "Value: ₹2,000,000,000, Count: 3\n",
      "Value: $3,980,000, Count: 1\n",
      "Value: $10,000, Count: 1\n",
      "Value: ₹100,000, Count: 2\n",
      "Value: ₹250,000,000, Count: 3\n",
      "Value: $1,000,000,000, Count: 1\n",
      "Value: $7,000,000, Count: 1\n",
      "Value: $35,000,000, Count: 1\n",
      "Value: ₹550,000,000, Count: 2\n",
      "Value: $28,500,000, Count: 1\n",
      "Value: $2,000,000, Count: 3\n",
      "Value: ₹240,000,000, Count: 2\n",
      "Value: ₹120,000,000, Count: 2\n",
      "Value: $2,400,000, Count: 1\n",
      "Value: $30,000,000, Count: 1\n",
      "Value: ₹2,500,000,000, Count: 2\n",
      "Value: $23,000,000, Count: 1\n",
      "Value: $150,000, Count: 1\n",
      "Value: $11,000,000, Count: 3\n",
      "Value: ₹44,000,000, Count: 1\n",
      "Value: $3,240,000, Count: 1\n",
      "Value: ₹60,000,000, Count: 2\n",
      "Value: $540,000,000, Count: 1\n",
      "Value: ₹650,000,000, Count: 2\n",
      "Value: ₹1,600,000,000, Count: 1\n",
      "Value: $900,000, Count: 2\n",
      "Value: $10,000,000, Count: 2\n",
      "Value: $1,500,000, Count: 3\n",
      "Value: ₹70,000,000, Count: 3\n",
      "Value: $1,000,000, Count: 3\n",
      "Value: $5,000,000, Count: 2\n",
      "Value: $14,000,000, Count: 1\n",
      "Value: ₹102,500,000, Count: 1\n",
      "Value: $100,000,000, Count: 3\n",
      "Value: ₹1,200,000, Count: 2\n",
      "Value: ₹5,200,000,000, Count: 1\n",
      "Value: $800,000, Count: 1\n",
      "Value: $1,041,000, Count: 1\n",
      "Value: $100,000, Count: 4\n",
      "Value: $15,000, Count: 1\n",
      "Value: 1400000, Count: 2\n",
      "Value: 1200000, Count: 1\n",
      "Value: 2200000, Count: 1\n",
      "Value: 1800000, Count: 1\n",
      "Value: 3600000, Count: 1\n",
      "Value: ₹9,500,000, Count: 1\n",
      "Value: 300000, Count: 4\n",
      "Value: 6830000, Count: 1\n",
      "Value: 200000, Count: 3\n",
      "Value: ₹150,000,000, Count: 2\n",
      "Value: 4300000, Count: 1\n",
      "Value: 364846, Count: 1\n",
      "Value: 400000, Count: 3\n",
      "Value: 1500000, Count: 4\n",
      "Value: ₹7,000,000, Count: 1\n",
      "Value: ₹1,400,000, Count: 1\n",
      "Value: ₹10,000,000, Count: 3\n",
      "Value: ₹22,500,000, Count: 1\n",
      "Value: 13200000, Count: 1\n",
      "Value: 50000, Count: 2\n",
      "Value: ₹140,200,000, Count: 1\n",
      "Value: 3000000, Count: 4\n",
      "Value: 1250000, Count: 1\n",
      "Value: 180000, Count: 1\n",
      "Value: ₹19,200,000, Count: 1\n",
      "Value: ₹103,000,000, Count: 1\n",
      "Value: 4200000, Count: 2\n",
      "Value: 175000, Count: 1\n",
      "Value: 1450000, Count: 1\n",
      "Value: ₹200,000, Count: 1\n",
      "Value: 4500000, Count: 2\n",
      "Value: 600000, Count: 2\n",
      "Value: ₹16,600,000, Count: 1\n",
      "Value: ₹12,000,000, Count: 2\n",
      "Value: 15000000, Count: 2\n",
      "Value: ₹33,000,000, Count: 1\n",
      "Value: 125000, Count: 1\n",
      "Value: 130000, Count: 1\n",
      "Value: ₹34,900,000, Count: 1\n",
      "Value: ₹72,000,000, Count: 2\n",
      "Value: 17200000, Count: 1\n",
      "Value: ₹32,000,000, Count: 1\n",
      "Value: 3500000, Count: 2\n",
      "Value: ₹135,000,000, Count: 2\n",
      "Value: 12000000, Count: 1\n",
      "Value: $40,000,000, Count: 1\n",
      "Value: $1,100,000, Count: 1\n",
      "Value: $50,000,000, Count: 2\n",
      "Value: ₹1,540,000,000, Count: 1\n",
      "Value: $3,000,000, Count: 2\n",
      "Value: $6,000,000, Count: 2\n",
      "Value: ₹140,000,000, Count: 3\n",
      "Value: $41,900,000, Count: 1\n",
      "Value: ₹1,410,000,000, Count: 1\n",
      "Value: $3,530,000, Count: 1\n",
      "Value: $200,000, Count: 1\n",
      "Value: $3,300,000, Count: 1\n",
      "Value: ₹580,000,000, Count: 1\n",
      "Value: ₹36,000,000, Count: 1\n",
      "Value: ₹340,000,000, Count: 1\n",
      "Value: $210,000,000, Count: 1\n",
      "Value: $37,680,000, Count: 1\n",
      "Value: $250,000, Count: 1\n",
      "Value: $20,000, Count: 1\n",
      "Value: ₹510,000,000, Count: 1\n",
      "Value: ₹2,200,000,000, Count: 1\n",
      "Value: 22000000, Count: 1\n",
      "Value: 70000, Count: 1\n",
      "Value: 10000000, Count: 1\n",
      "Value: ₹15,392,000,000, Count: 1\n",
      "Value: ₹20,000,000,000, Count: 1\n",
      "Value: ₹4,000,000,000, Count: 1\n",
      "Value: 185000000, Count: 1\n",
      "Value: 65000000, Count: 1\n",
      "Value: ₹165,000,000, Count: 1\n",
      "Value: 700000, Count: 1\n",
      "Value: 30000000, Count: 3\n",
      "Value: ₹210,000,000, Count: 1\n",
      "Value: 210000000, Count: 1\n",
      "Value: ₹2,029,600,000, Count: 1\n",
      "Value: 75000000, Count: 1\n",
      "Value: ₹80,000,000, Count: 1\n",
      "Value: 1760000, Count: 1\n",
      "Value: 2700000, Count: 1\n",
      "Value: ₹280,000,000, Count: 1\n",
      "Value: ₹800,000,000, Count: 1\n",
      "Value: 750000, Count: 1\n",
      "Value: 2500000, Count: 1\n",
      "Value: 80000000, Count: 1\n",
      "Value: 25000000, Count: 1\n",
      "Value: ₹730,000,000, Count: 1\n",
      "Value: ₹400,000,000, Count: 2\n",
      "Value: 3700000, Count: 1\n",
      "Value: 5600000, Count: 1\n",
      "Value: ₹260,000,000, Count: 1\n",
      "Value: 99230000, Count: 1\n",
      "Value: 70000000, Count: 1\n",
      "Value: 40000, Count: 1\n",
      "Value: 550000, Count: 1\n",
      "Value: 50000000, Count: 2\n",
      "Value: 365000000, Count: 1\n",
      "Value: ₹8,750,000, Count: 1\n",
      "Value: ₹78,000,000, Count: 1\n",
      "Value: 28000000, Count: 1\n",
      "Value: ₹264,000,000, Count: 1\n",
      "Value: 100000000, Count: 1\n",
      "Value: ₹1,130,000,000, Count: 1\n",
      "Value: ₹810,000,000, Count: 1\n",
      "Value: ₹1,400,000,000, Count: 1\n",
      "Value: 14900000, Count: 1\n",
      "Value: 225000000, Count: 1\n",
      "Value: 7500, Count: 1\n",
      "Value: 35000000, Count: 1\n"
     ]
    }
   ],
   "source": [
    "\n",
    "unique_amount = df_2018['Amount($)'].unique()\n",
    "\n",
    "# Print unique values and their counts\n",
    "for amount in unique_amount:\n",
    "    print(f\"Value: {amount}, Count: {df_2018[df_2018['Amount($)'] == amount].shape[0]}\")\n"
   ]
  },
  {
   "cell_type": "markdown",
   "metadata": {},
   "source": [
    "1. The values in the dataset appear to represent funding amounts, with a mix of numeric values, currency symbols (e.g., ₹ for Indian Rupees, $ for US Dollars), and some entries denoted as '—' (possibly indicating missing or undisclosed values).\n",
    "\n",
    "2. There is a variation in the representation of numeric values, including comma-separated and non-comma-separated formats, as well as different scales (e.g., thousands, millions, billions).\n",
    "\n",
    "3. Some entries contain irregular characters, such as commas within numeric values, which might require cleaning for consistency.\n",
    "\n",
    "4. The dataset also includes a mix of local and international currencies, which may need normalization for accurate analysis or comparison of funding amounts."
   ]
  },
  {
   "cell_type": "code",
   "execution_count": 105,
   "metadata": {},
   "outputs": [
    {
     "data": {
      "text/plain": [
       "0         250000.0\n",
       "1        5840000.0\n",
       "2        9490000.0\n",
       "3        2000000.0\n",
       "4              NaN\n",
       "          ...     \n",
       "521    225000000.0\n",
       "522            NaN\n",
       "523         7500.0\n",
       "524      5110000.0\n",
       "525     35000000.0\n",
       "Name: Amount($), Length: 525, dtype: float64"
      ]
     },
     "execution_count": 105,
     "metadata": {},
     "output_type": "execute_result"
    }
   ],
   "source": [
    "# Define the average conversion rate from rupees to dollars in2018\n",
    "conversion_rate = 0.146\n",
    "\n",
    "# Function to convert values to dollars\n",
    "def convert_to_dollars(value, conversion_rate):\n",
    "    try:\n",
    "        # Check if the value is not NaN\n",
    "        if pd.notna(value):\n",
    "            # Check if the value is a string\n",
    "            if isinstance(value, str):\n",
    "                # If the value contains '₹', convert it to dollars\n",
    "                if '₹' in value:\n",
    "                    amount_in_rupees = float(value.replace('₹', '').replace(',', ''))\n",
    "                    amount_in_dollars = amount_in_rupees * conversion_rate\n",
    "                    return amount_in_dollars\n",
    "                # If the value is '—', return NaN\n",
    "                elif value == '—':\n",
    "                    return np.nan\n",
    "                # If the value is already in dollars, remove commas and return it\n",
    "                else:\n",
    "                    return float(value.replace(',', '').replace('$', ''))\n",
    "            # If the value is already a numeric value, return it as is\n",
    "            elif isinstance(value, (int, float)):\n",
    "                return value\n",
    "        # If the value is NaN, return None\n",
    "        return None\n",
    "    # Handle the ValueError (e.g., when conversion to float fails)\n",
    "    except ValueError:\n",
    "        return None\n",
    "\n",
    "# Apply the conversion function to the 'Amount($)' column\n",
    "df_2018['Amount($)'] = df_2018['Amount($)'].apply(lambda x: convert_to_dollars(x, conversion_rate))\n",
    "\n",
    "\n",
    "df_2018['Amount($)']"
   ]
  },
  {
   "cell_type": "code",
   "execution_count": 106,
   "metadata": {},
   "outputs": [
    {
     "data": {
      "text/plain": [
       "148"
      ]
     },
     "execution_count": 106,
     "metadata": {},
     "output_type": "execute_result"
    }
   ],
   "source": [
    "df_2018['Amount($)'].isnull().sum()"
   ]
  },
  {
   "cell_type": "code",
   "execution_count": 107,
   "metadata": {},
   "outputs": [],
   "source": [
    "# Calculate the median\n",
    "median_amount = df_2018['Amount($)'].median()\n",
    "\n",
    "# Fill null values with the median\n",
    "df_2018['Amount($)'].fillna(median_amount, inplace=True)"
   ]
  },
  {
   "cell_type": "code",
   "execution_count": null,
   "metadata": {},
   "outputs": [],
   "source": []
  },
  {
   "cell_type": "code",
   "execution_count": 108,
   "metadata": {},
   "outputs": [
    {
     "name": "stdout",
     "output_type": "stream",
     "text": [
      "<class 'pandas.core.frame.DataFrame'>\n",
      "Index: 525 entries, 0 to 525\n",
      "Data columns (total 7 columns):\n",
      " #   Column         Non-Null Count  Dtype  \n",
      "---  ------         --------------  -----  \n",
      " 0   Company_Brand  525 non-null    object \n",
      " 1   Sector         525 non-null    object \n",
      " 2   Stage          525 non-null    object \n",
      " 3   Amount($)      525 non-null    float64\n",
      " 4   HeadQuarter    525 non-null    object \n",
      " 5   What_it_does   525 non-null    object \n",
      " 6   Year           525 non-null    int64  \n",
      "dtypes: float64(1), int64(1), object(5)\n",
      "memory usage: 32.8+ KB\n"
     ]
    }
   ],
   "source": [
    "df_2018.info()"
   ]
  },
  {
   "cell_type": "code",
   "execution_count": 109,
   "metadata": {},
   "outputs": [
    {
     "data": {
      "text/plain": [
       "array(['Brand Marketing, Event Promotion, Marketing, Sponsorship, Ticketing',\n",
       "       'Agriculture, Farming',\n",
       "       'Credit, Financial Services, Lending, Marketplace',\n",
       "       'Financial Services, FinTech',\n",
       "       'E-Commerce Platforms, Retail, SaaS',\n",
       "       'Cloud Infrastructure, PaaS, SaaS',\n",
       "       'Internet, Leisure, Marketplace', 'Market Research',\n",
       "       'Information Services, Information Technology', 'Mobile Payments',\n",
       "       'B2B, Shoes', 'Internet',\n",
       "       'Apps, Collaboration, Developer Platform, Enterprise Software, Messaging, Productivity Tools, Video Chat',\n",
       "       'Food Delivery', 'Industrial Automation',\n",
       "       'Automotive, Search Engine, Service Industry',\n",
       "       'Finance, Internet, Travel',\n",
       "       'Accounting, Business Information Systems, Business Travel, Finance, SaaS',\n",
       "       'Artificial Intelligence, Product Search, SaaS, Service Industry, Software',\n",
       "       'Internet of Things, Waste Management',\n",
       "       'Air Transportation, Freight Service, Logistics, Marine Transportation',\n",
       "       'Financial Services', 'Food and Beverage', 'Autonomous Vehicles',\n",
       "       'Enterprise Software, Health Care, Hospital, Parenting, Personal Health, SaaS',\n",
       "       'Agriculture, Analytics, Big Data, Farming',\n",
       "       'Logistics, Supply Chain Management',\n",
       "       'Financial Services, Lending',\n",
       "       'Automotive, Marketplace, Online Portals',\n",
       "       'Artificial Intelligence',\n",
       "       'Internet of Things, Telecommunications', 'Insurance',\n",
       "       'Information Technology, Logistics, Supply Chain Management',\n",
       "       'Blockchain, Developer Tools, Enterprise Software',\n",
       "       'Industrial Automation, Logistics, Supply Chain Management',\n",
       "       'Food and Beverage, Food Delivery, Snack Food', 'Education',\n",
       "       'E-Commerce, Fashion, Jewelry, Retail', 'Renewable Energy',\n",
       "       'E-Learning, Education',\n",
       "       'Clean Energy, CleanTech, Laundry and Dry-cleaning',\n",
       "       'E-Commerce, Fashion, Mobile',\n",
       "       'Apps, Messaging, Navigation, Public Safety', 'Transportation',\n",
       "       'Fitness, Health Care, Wellness',\n",
       "       'Artificial Intelligence, Machine Learning, SaaS, Virtual Assistant',\n",
       "       'Hospitality', 'Food and Beverage, Tea',\n",
       "       'Media and Entertainment, News, Outdoors',\n",
       "       'Broadcasting, Media and Entertainment, Music, Music Streaming, Video, Video Streaming',\n",
       "       'B2B, Information Services, Information Technology',\n",
       "       'EdTech, Education, Enterprise Software, Peer to Peer',\n",
       "       'Health Care, Medical', 'E-Commerce',\n",
       "       'Health Care, Hospital, Wellness', '—', 'Sports',\n",
       "       'Big Data, Consumer Lending, FinTech',\n",
       "       'Cloud Computing, Computer, Semiconductor',\n",
       "       'Health Care, Medical, Pharmaceutical', 'Food Processing, Retail',\n",
       "       'Trading Platform', \"Consumer Goods, Lifestyle, Men's\", 'Wellness',\n",
       "       'Food and Beverage, Food Processing, Nutrition', 'Fashion',\n",
       "       'Automotive, Electric Vehicle, Energy Storage',\n",
       "       'Consulting, Retail, Social',\n",
       "       'Biotechnology, Life Science, Pharmaceutical, Product Research',\n",
       "       'Health Care',\n",
       "       'Credit, Financial Services, FinTech, Personal Finance',\n",
       "       'Communities, Coworking, Incubators',\n",
       "       'Consumer, Financial Services, FinTech',\n",
       "       'Consumer Applications, Information Services, Location Based Services, Virtual Assistant',\n",
       "       'Mobile, Mobile Apps, Personalization, Test and Measurement, Web Apps',\n",
       "       'Education, Financial Services, FinTech',\n",
       "       'Advertising, Consulting, Digital Marketing',\n",
       "       'Marketplace, Real Estate, Rental Property',\n",
       "       'E-Learning, Internet, Video Games',\n",
       "       'Artificial Intelligence, Cloud Computing, Video',\n",
       "       'Health Care, Information Technology', 'Aerospace',\n",
       "       'E-Commerce, Fashion, Lifestyle',\n",
       "       'Artificial Intelligence, Business Intelligence, Industrial Automation, Machine Learning',\n",
       "       'Home Decor, Home Improvement, Home Renovation, Home Services, Interior Design, Smart Home',\n",
       "       'EdTech, Education, Information Services, SaaS', 'Energy, Solar',\n",
       "       'B2B, Biometrics, Cyber Security, Fraud Detection, SaaS, Security',\n",
       "       'Artificial Intelligence, Social',\n",
       "       'Logistics, Transportation, Travel',\n",
       "       'Digital Marketing, SEM, SEO, Web Development',\n",
       "       'Health Care, Hospital, Medical', 'Finance, Financial Services',\n",
       "       'Food Delivery, Food Processing, Internet',\n",
       "       'E-Commerce, Food and Beverage, Internet',\n",
       "       'Fitness, Food and Beverage, Health Care, Nutrition',\n",
       "       'EdTech, Education, Knowledge Management',\n",
       "       'Apps, Beauty, Consumer, Retail',\n",
       "       'Creative Agency, Crowdfunding, EdTech, Health Care, Internet, Medical, Non Profit, Personal Health',\n",
       "       'Consumer Lending, Financial Services, FinTech, Insurance, Lending, Mobile Payments, Payments, Wealth Management',\n",
       "       'E-Learning, Education, Higher Education', 'Health Diagnostics',\n",
       "       'EdTech, Education', 'Financial Services, SaaS, Security',\n",
       "       'Banking, Finance, Financial Services, Non Profit',\n",
       "       'B2B, E-Commerce, Mobile',\n",
       "       'Automotive, Electric Vehicle, Renewable Energy', 'E-Learning',\n",
       "       'Embedded Systems, Health Care, Medical, Product Research',\n",
       "       'Apps, E-Commerce, Internet',\n",
       "       'Advertising, Human Resources, Marketing',\n",
       "       'Beauty, Fitness, Home Services, Internet',\n",
       "       'Health Care, Medical Device, Public Safety',\n",
       "       'Food Delivery, Online Portals, Restaurants',\n",
       "       'AgTech, B2B, Supply Chain Management',\n",
       "       'Credit Cards, Finance, Mobile Apps, Mobile Payments, Payments',\n",
       "       'Software',\n",
       "       'EdTech, Education, Higher Education, Secondary Education',\n",
       "       'Manufacturing, Retail', 'Manufacturing',\n",
       "       'Information Services, Information Technology, InsurTech',\n",
       "       'Consumer Lending, FinTech', 'Internet, Social Network, TV',\n",
       "       'Beauty, Health Care', 'Hospital', 'Events',\n",
       "       '3D Printing, Manufacturing, Product Design', 'Automotive',\n",
       "       'Automotive, Retail', 'Apps, Audio', 'Automotive, E-Commerce',\n",
       "       'Digital Entertainment, Fantasy Sports, Sports',\n",
       "       'E-Learning, EdTech, Education',\n",
       "       'Funding Platform, Incubators, Non Profit',\n",
       "       'Hospitality, Hotel, Leisure, Travel',\n",
       "       'Classifieds, Internet, Marketplace, Rental Property',\n",
       "       'Banking, E-Learning, Trading Platform',\n",
       "       'E-Commerce, Mobile, Retail',\n",
       "       'Artificial Intelligence, Information Technology',\n",
       "       'Enterprise Resource Planning (ERP), Information Services, Information Technology, Real Estate',\n",
       "       'Banking, Finance, Financial Services',\n",
       "       'Audio, Mobile, Tourism, Travel',\n",
       "       'Energy, Energy Storage, Infrastructure',\n",
       "       'Government, Information Technology, Software',\n",
       "       'Information Technology',\n",
       "       'Education, Information Technology, Internet, Mobile, Software',\n",
       "       'Consumer Lending, Financial Services, Lending, Personal Finance',\n",
       "       'Digital Media, Internet, Media and Entertainment, Online Portals, Social Media',\n",
       "       'Business Intelligence, Customer Service, Market Research, SaaS',\n",
       "       'Credit, Financial Services, FinTech, Lending',\n",
       "       'Children, Education, Parenting',\n",
       "       'Automotive, Battery, Energy, Energy Storage',\n",
       "       'E-Commerce, Mobile, Sharing Economy',\n",
       "       'Food Delivery, Organic, Organic Food', 'Mobile', 'Rental',\n",
       "       'Travel', 'Consumer', 'B2B, Farming, Marketplace',\n",
       "       'Wealth Management', 'Biotechnology',\n",
       "       'Education, Gaming, Training', 'Veterinary',\n",
       "       'Internet, Mobile, Social Entrepreneurship, Telecommunications, Wireless',\n",
       "       'Health Care, Hospital, Supply Chain Management',\n",
       "       'Tourism, Travel', 'Hospitality, Real Estate', 'Finance',\n",
       "       'Digital Media, EBooks, Publishing, Reading Apps',\n",
       "       'Consumer Electronics, Embedded Systems, Hardware, Smart Building, Software',\n",
       "       'Food and Beverage, Food Processing',\n",
       "       'Internet, Marketplace, Shopping',\n",
       "       'Analytics, Computer Vision, Enterprise Software, Machine Learning, Natural Language Processing, Speech Recognition',\n",
       "       'Facilities Support Services',\n",
       "       'Automotive, Electric Vehicle, Energy',\n",
       "       'Health Care, Health Diagnostics, Predictive Analytics',\n",
       "       'Cloud Computing, Computer, SaaS, Software',\n",
       "       'Fashion, Lifestyle, Retail', 'Medical', 'Music Streaming',\n",
       "       'Finance, Impact Investing, Internet',\n",
       "       'Internet, Social Entrepreneurship', 'Retail',\n",
       "       'Finance, Impact Investing, Mobile Apps',\n",
       "       'Cloud Computing, Computer, Software',\n",
       "       'Business Development, Market Research, Outsourcing',\n",
       "       'Health Care, Hospitality', 'Internet, Social News, Sports',\n",
       "       'Human Resources', 'Finance, Financial Services, FinTech',\n",
       "       'Customer Service, Software, Video, Video Streaming',\n",
       "       'E-Commerce, Food Processing', 'Training',\n",
       "       'Dietary Supplements, Food and Beverage, Health Care, Organic Food, Snack Food',\n",
       "       'Manufacturing, Oil and Gas, Robotics',\n",
       "       'Artificial Intelligence, Computer, Machine Learning',\n",
       "       'Collaboration, Communities, Coworking, Sharing Economy',\n",
       "       'Big Data, EdTech, Machine Learning', 'Nanotechnology',\n",
       "       'Analytics, Audio, Digital Media, Innovation Management, Internet Radio, Media and Entertainment',\n",
       "       'Financial Services, Lending, Peer to Peer',\n",
       "       'E-Commerce, Furniture, Home Decor, Interior Design, Internet',\n",
       "       'Digital Media', 'File Sharing, Personalization, Social Media',\n",
       "       'Home Decor, Interior Design',\n",
       "       'Health Care, Medical Device, Mobile Apps',\n",
       "       'E-Commerce, Facilities Support Services, Procurement, Supply Chain Management',\n",
       "       'Crowdfunding, Finance, Financial Services',\n",
       "       'Finance, Financial Services, Insurance',\n",
       "       'Children, Education, Online Portals', 'Software, Virtual Reality',\n",
       "       'B2B, Food and Beverage, Food Delivery',\n",
       "       'Catering, Food and Beverage, Food Delivery, Food Processing',\n",
       "       'Food and Beverage, Snack Food', 'Automotive, E-Commerce, Mobile',\n",
       "       'Computer, Digital Marketing, Facilities Support Services, Graphic Design, Internet, Mobile Apps, Social Media Marketing, Web Development',\n",
       "       'Android, Big Data, Blockchain, Cloud Computing, EdTech, Education, Information Technology, iOS, Training, Web Development',\n",
       "       'Analytics, CRM, Loyalty Programs, Machine Learning, Marketing Automation, Retail Technology, SaaS, Small and Medium Businesses',\n",
       "       'Delivery, Information Technology, Mobile Apps',\n",
       "       'Environmental Consulting, Renewable Energy',\n",
       "       'Big Data, Business Intelligence, Financial Services, FinTech, Personal Finance',\n",
       "       'Commercial Real Estate, Coworking, Office Administration, Real Estate',\n",
       "       'Food and Beverage, Food Processing, Organic Food, Snack Food',\n",
       "       'Apps, Health Care, Internet, Mobile Apps, Personal Health',\n",
       "       'Digital Media, Incubators, Social Entrepreneurship',\n",
       "       'Finance, Financial Services, Marketing',\n",
       "       'Biotechnology, Health Care, Life Science, Medical Device',\n",
       "       'Education, Human Resources', 'Consumer Electronics',\n",
       "       'Apps, Health Care, Hospital, Mobile Apps',\n",
       "       'Delivery Service, Logistics, Service Industry',\n",
       "       'Big Data, Data Visualization, Logistics, Software',\n",
       "       'Basketball, Cricket, Cycling, eSports, Fitness, Golf, Health Care, Hockey, Sports, Swimming, Table Tennis, Volley Ball',\n",
       "       'Media and Entertainment, News, Publishing', 'Consulting',\n",
       "       'Big Data, Financial Services, Machine Learning, Predictive Analytics',\n",
       "       'Agriculture, AgTech, Manufacturing',\n",
       "       'Digital Media, News, Publishing', 'Health Care, Hospital',\n",
       "       'B2B, E-Commerce, Enterprise',\n",
       "       'Fraud Detection, Information Services, Security',\n",
       "       'Agriculture, AgTech, Artificial Intelligence, Internet of Things, Machine Learning',\n",
       "       'Cryptocurrency, Trading Platform',\n",
       "       'Finance, FinTech, Mobile Payments', 'Wedding',\n",
       "       'E-Learning, EdTech, Education, Image Recognition, Machine Learning, STEM Education',\n",
       "       'Consumer Goods', 'Digital Entertainment',\n",
       "       'Crowdsourcing, Financial Services, Funding Platform, Venture Capital',\n",
       "       'Delivery, Drones, Geospatial, Robotics',\n",
       "       'Health Care, Information Technology, Management Information Systems',\n",
       "       'Farming',\n",
       "       'Business Travel, Hospitality, Hotel, Marketplace, Tourism, Travel Accommodations',\n",
       "       'Career Planning, Education, Higher Education, Service Industry',\n",
       "       'Medical Device', 'Alternative Medicine, Health Care',\n",
       "       'Internet, Software',\n",
       "       'Dental, Elder Care, Health Care, Home Health Care, Personal Health',\n",
       "       'Financial Services, Insurance, Private Social Networking',\n",
       "       'Consumer Electronics, E-Commerce, E-Commerce Platforms, Electronics, Shipping, Shopping',\n",
       "       'CleanTech', 'Advertising, Internet, Marketing',\n",
       "       'Human Resources, Security, Training',\n",
       "       'Consumer Lending, Finance, FinTech',\n",
       "       'Marketing, Social Media, Video', 'Banking', 'Food Processing',\n",
       "       'Apps', 'Marketing',\n",
       "       'Apps, B2B, Freight Service, Logistics, SaaS, Shipping, Supply Chain Management, Transportation',\n",
       "       'Digital Entertainment, Fantasy Sports, Gaming, Sports',\n",
       "       'Automotive, Last Mile Transportation, Peer to Peer, Ride Sharing',\n",
       "       'Commercial, E-Learning, Education',\n",
       "       'Continuing Education, EdTech, Education, Skill Assessment',\n",
       "       'Smart Cities, Telecommunications', 'Internet of Things, Robotics',\n",
       "       'Apps, Home Services, Information Services, Information Technology',\n",
       "       'Medical, Tourism', 'Career Planning, Education, Internet',\n",
       "       'Fashion, Graphic Design, Wearables',\n",
       "       'Communities, Leisure, Mobile Apps, Software',\n",
       "       'Automotive, Rental, Sharing Economy',\n",
       "       'Energy, Environmental Consulting, Renewable Energy, Solar',\n",
       "       'Information Technology, SaaS, Security',\n",
       "       'Crowdfunding, Financial Services, Internet',\n",
       "       'Customer Service, Information Technology, Internet, Sales Automation',\n",
       "       'Advertising, Artificial Intelligence, Digital Media, iOS, Location Based Services, News, Video, Video on Demand, Video Streaming',\n",
       "       'Credit Cards, Payments, Property Insurance, Property Management, Rental Property',\n",
       "       'Beauty, Cosmetics, Health Care, Service Industry',\n",
       "       'EdTech, Education, Mobile, Tutoring', 'Social Media, Sports',\n",
       "       'Biopharma', 'E-Commerce, E-Commerce Platforms, Retail',\n",
       "       'E-Commerce, Fashion, Shopping',\n",
       "       'Digital Entertainment, Mobile, PC Games',\n",
       "       'Finance, Financial Services, Small and Medium Businesses',\n",
       "       'Artificial Intelligence, Energy, Oil and Gas',\n",
       "       'Computer, FinTech, Risk Management, Software',\n",
       "       'Apps, Financial Services, FinTech',\n",
       "       \"Child Care, Health Care, Hospital, Medical, Women's\",\n",
       "       'Agriculture, Mobile',\n",
       "       'Finance, FinTech, Payments, Property Development, Rental',\n",
       "       'Information Services, Information Technology, Mobile, Software',\n",
       "       'Apps, Fitness, Health Care, mHealth',\n",
       "       'Food and Beverage, Food Delivery', 'Apps, Payments, Retail',\n",
       "       'Health Insurance, Insurance, Life Insurance',\n",
       "       'Rental, Taxi Service, Travel',\n",
       "       'E-Commerce, E-Commerce Platforms, Internet, Retail',\n",
       "       'Financial Services, Professional Services',\n",
       "       'Customer Service, Messaging, Mobile Apps, Personalization',\n",
       "       'Gaming, iOS, Sports',\n",
       "       'E-Commerce, E-Commerce Platforms, Internet, Mobile Apps, Social Media',\n",
       "       'Search Engine',\n",
       "       'Battery, Electric Vehicle, Energy, Renewable Energy, Transportation',\n",
       "       'Agriculture, Farmers Market, Farming',\n",
       "       'Artificial Intelligence, Drones, Navigation, Packaging Services, Robotics',\n",
       "       'Fitness, GreenTech, Internet of Things, Mobile Apps, Ride Sharing, Transportation',\n",
       "       'Mobile, Software, Travel', 'Cosmetics',\n",
       "       'Consulting, Cyber Security, Network Security',\n",
       "       'eSports, Gaming, Video Games', 'Fashion, Jewelry',\n",
       "       'B2B, Medical Device', 'Consumer Goods, Manufacturing',\n",
       "       'Biotechnology, Health Care, Wellness',\n",
       "       'Health Care, Hospital, Medical, Robotics',\n",
       "       'E-Commerce, Fitness, Health Care',\n",
       "       'Financial Services, Venture Capital', 'Accounting, Apps, FinTech',\n",
       "       'Apps, Mobile, Transportation', 'Reading Apps',\n",
       "       'Energy, Renewable Energy, Solar',\n",
       "       'Banking, Financial Services, FinTech', 'Apps, Education, Retail',\n",
       "       'Electric Vehicle',\n",
       "       'Automotive, Battery, Electric Vehicle, Manufacturing, Mechanical Design',\n",
       "       'Automotive, E-Commerce, Marketplace', 'Agriculture',\n",
       "       'Apps, Information Services, Information Technology',\n",
       "       'B2B, Marketplace', 'Packaging Services',\n",
       "       'Computer, Furniture, Software',\n",
       "       'Food Delivery, Hospitality, Reservations, Restaurants, Search Engine',\n",
       "       'Collaboration, Communities, Coworking, Real Estate',\n",
       "       'Accounting, Banking, Finance',\n",
       "       'Cloud Computing, Enterprise Software, Network Hardware, Network Security, SaaS',\n",
       "       'Information Services, Internet, Logistics, Supply Chain Management, Transportation',\n",
       "       'Automotive, E-Commerce, Information Services',\n",
       "       'Delivery, Logistics, Transportation',\n",
       "       'Automotive, E-Commerce Platforms, Marketplace',\n",
       "       'Last Mile Transportation, Railroad, Transportation, Travel',\n",
       "       'Cooking, E-Commerce, Food and Beverage, Food Delivery, Online Portals',\n",
       "       'FinTech, Mobile, Mobile Payments, Payments, Retail Technology',\n",
       "       'Online Games, Software',\n",
       "       'Online Portals, Property Management, Rental',\n",
       "       'E-Commerce, Food and Beverage, Tea',\n",
       "       'Music, Social Network, Video',\n",
       "       'Health Care, Pharmaceutical, Wellness',\n",
       "       'Delivery Service, Food and Beverage, Food Delivery',\n",
       "       'Hospitality, Information Technology, Travel Accommodations',\n",
       "       'Biotechnology, Diabetes, Health Care',\n",
       "       'Autonomous Vehicles, Last Mile Transportation, Recreational Vehicles, Rental',\n",
       "       'Finance, Financial Exchanges, Financial Services, Micro Lending',\n",
       "       'Analytics, Apps, Market Research',\n",
       "       'E-Commerce, E-Commerce Platforms, Furniture, Home Decor, Internet',\n",
       "       'Apps, Mobile, Mobile Apps, Software',\n",
       "       'News, Publishing, Social Media',\n",
       "       'Industrial, Industrial Automation',\n",
       "       'Internet, Mobile Apps, Social Network',\n",
       "       'Health Care, Health Diagnostics, Internet of Things, Life Science, Machine Learning, Medical, Medical Device',\n",
       "       'E-Commerce, Furniture, Interior Design', 'Apps, Events, News',\n",
       "       'Artificial Intelligence, Human Resources, Information Services, Information Technology',\n",
       "       'Logistics, Railroad, Transportation',\n",
       "       'Dating, Private Social Networking',\n",
       "       'Artificial Intelligence, Machine Learning, PaaS',\n",
       "       'Consumer, Furniture, Home Decor, Home Improvement',\n",
       "       'Apps, E-Commerce, Internet, Mobile, Ride Sharing, Transportation',\n",
       "       'Health Care, Health Insurance', 'Energy, Natural Resources',\n",
       "       'E-Commerce, Education, Health Care',\n",
       "       'Apps, Health Care, Pharmaceutical',\n",
       "       'Internet, Knowledge Management',\n",
       "       'Credit, Finance, FinTech, Lending, Sales Automation',\n",
       "       'Banking, Financial Services, Internet',\n",
       "       'E-Commerce, Health Care, Retail',\n",
       "       'Child Care, Information Technology',\n",
       "       'Financial Services, Micro Lending',\n",
       "       'E-Commerce, Retail, Shopping',\n",
       "       'Food and Beverage, Snack Food, Tea',\n",
       "       'Delivery Service, E-Commerce, Logistics',\n",
       "       'Fashion, Lifestyle, Rental', 'Fantasy Sports, Mobile, Sports',\n",
       "       'Beauty, Fashion, Wellness', 'Food and Beverage, Restaurants, Tea',\n",
       "       'Fitness, Sporting Goods, Sports',\n",
       "       'Food and Beverage, Food Processing, Manufacturing',\n",
       "       'E-Learning, Internet', 'Eyewear, Internet',\n",
       "       'Information Technology, Mobile, News, Operating Systems, Social Media, Social News',\n",
       "       'FinTech, Internet, Payments, Service Industry',\n",
       "       'B2B, Business Development, Internet, Marketplace',\n",
       "       'Food and Beverage, Food Delivery, Internet',\n",
       "       'Biotechnology, Health Care, Pharmaceutical'], dtype=object)"
      ]
     },
     "execution_count": 109,
     "metadata": {},
     "output_type": "execute_result"
    }
   ],
   "source": [
    "df_2018['Sector'].unique()\n"
   ]
  },
  {
   "cell_type": "code",
   "execution_count": 110,
   "metadata": {},
   "outputs": [],
   "source": [
    "df_2018['Sector']=df_2018['Sector'].replace('—','Unknown')"
   ]
  },
  {
   "cell_type": "code",
   "execution_count": 111,
   "metadata": {},
   "outputs": [
    {
     "name": "stdout",
     "output_type": "stream",
     "text": [
      "Cleaned 'Sector' Column:\n",
      "['Brand Marketing' 'Agriculture' 'Credit' 'Financial Services'\n",
      " 'E-Commerce Platforms' 'Cloud Infrastructure' 'Internet'\n",
      " 'Market Research' 'Information Services' 'Mobile Payments' 'B2B' 'Apps'\n",
      " 'Food Delivery' 'Industrial Automation' 'Automotive' 'Finance'\n",
      " 'Accounting' 'Artificial Intelligence' 'Internet of Things'\n",
      " 'Air Transportation' 'Food and Beverage' 'Autonomous Vehicles'\n",
      " 'Enterprise Software' 'Logistics' 'Insurance' 'Information Technology'\n",
      " 'Blockchain' 'Education' 'E-Commerce' 'Renewable Energy' 'E-Learning'\n",
      " 'Clean Energy' 'Transportation' 'Fitness' 'Hospitality'\n",
      " 'Media and Entertainment' 'Broadcasting' 'EdTech' 'Health Care' 'Unknown'\n",
      " 'Sports' 'Big Data' 'Cloud Computing' 'Food Processing'\n",
      " 'Trading Platform' 'Consumer Goods' 'Wellness' 'Fashion' 'Consulting'\n",
      " 'Biotechnology' 'Communities' 'Consumer' 'Consumer Applications' 'Mobile'\n",
      " 'Advertising' 'Marketplace' 'Aerospace' 'Home Decor' 'Energy'\n",
      " 'Digital Marketing' 'Creative Agency' 'Consumer Lending'\n",
      " 'Health Diagnostics' 'Banking' 'Embedded Systems' 'Beauty' 'AgTech'\n",
      " 'Credit Cards' 'Software' 'Manufacturing' 'Hospital' 'Events'\n",
      " '3D Printing' 'Digital Entertainment' 'Funding Platform' 'Classifieds'\n",
      " 'Enterprise Resource Planning (ERP)' 'Audio' 'Government' 'Digital Media'\n",
      " 'Business Intelligence' 'Children' 'Rental' 'Travel' 'Wealth Management'\n",
      " 'Veterinary' 'Tourism' 'Consumer Electronics' 'Analytics'\n",
      " 'Facilities Support Services' 'Medical' 'Music Streaming' 'Retail'\n",
      " 'Business Development' 'Human Resources' 'Customer Service' 'Training'\n",
      " 'Dietary Supplements' 'Collaboration' 'Nanotechnology' 'File Sharing'\n",
      " 'Crowdfunding' 'Catering' 'Computer' 'Android' 'Delivery'\n",
      " 'Environmental Consulting' 'Commercial Real Estate' 'Delivery Service'\n",
      " 'Basketball' 'Fraud Detection' 'Cryptocurrency' 'Wedding' 'Crowdsourcing'\n",
      " 'Farming' 'Business Travel' 'Career Planning' 'Medical Device'\n",
      " 'Alternative Medicine' 'Dental' 'CleanTech' 'Marketing' 'Commercial'\n",
      " 'Continuing Education' 'Smart Cities' 'Social Media' 'Biopharma'\n",
      " 'Child Care' 'Health Insurance' 'Gaming' 'Search Engine' 'Battery'\n",
      " 'Cosmetics' 'eSports' 'Reading Apps' 'Electric Vehicle'\n",
      " 'Packaging Services' 'Last Mile Transportation' 'Cooking' 'FinTech'\n",
      " 'Online Games' 'Online Portals' 'Music' 'News' 'Industrial' 'Dating'\n",
      " 'Fantasy Sports' 'Eyewear']\n"
     ]
    }
   ],
   "source": [
    "# Split the 'Sector' column based on commas and spaces, and keep only the first word\n",
    "df_2018['Sector'] = df_2018['Sector'].str.split(',').str[0].str.strip()\n",
    "\n",
    "# Display the unique values in the 'Sector' column after cleaning\n",
    "print(\"Cleaned 'Sector' Column:\")\n",
    "print(df_2018['Sector'].unique())\n"
   ]
  },
  {
   "cell_type": "markdown",
   "metadata": {},
   "source": [
    "I opted to retain only the first word in the 'Sector' column to ensures consistency and similarity with the rest of the data. However, this approach has limitations, since one can lose important iformation and oversimplifying the representation of companies operating in multiple sectors. "
   ]
  },
  {
   "cell_type": "code",
   "execution_count": 112,
   "metadata": {},
   "outputs": [
    {
     "data": {
      "text/plain": [
       "0"
      ]
     },
     "execution_count": 112,
     "metadata": {},
     "output_type": "execute_result"
    }
   ],
   "source": [
    "df_2018['Sector'].isnull().sum()"
   ]
  },
  {
   "cell_type": "code",
   "execution_count": 113,
   "metadata": {},
   "outputs": [],
   "source": [
    "#convert 2021 and 2020 dataset to csv files to ease concatenation of all the datasets. \n",
    "df_2021.to_csv('startup_funding_2021.csv', index=False)\n",
    "df_2020.to_csv('startup_funding_2020.csv', index=False)"
   ]
  },
  {
   "cell_type": "markdown",
   "metadata": {},
   "source": [
    "### dropping of the unwanted columns"
   ]
  },
  {
   "cell_type": "code",
   "execution_count": 114,
   "metadata": {},
   "outputs": [],
   "source": [
    "# Drop specified columns from each DataFrame\n",
    "columns_to_drop = ['Founded', 'Founders', 'Investor']\n",
    "df_2021 = df_2021.drop(columns=columns_to_drop, errors='ignore')\n",
    "df_2020 = df_2020.drop(columns=columns_to_drop, errors='ignore')\n",
    "df_2019 = df_2019.drop(columns=columns_to_drop, errors='ignore')\n",
    "df_2018 = df_2018.drop(columns=columns_to_drop, errors='ignore')\n"
   ]
  },
  {
   "cell_type": "markdown",
   "metadata": {},
   "source": [
    "I dropped the above columns because I did not need them for my analysis"
   ]
  },
  {
   "cell_type": "markdown",
   "metadata": {},
   "source": [
    "### Concatenate the DataFrames"
   ]
  },
  {
   "cell_type": "code",
   "execution_count": 115,
   "metadata": {},
   "outputs": [
    {
     "data": {
      "text/html": [
       "<div>\n",
       "<style scoped>\n",
       "    .dataframe tbody tr th:only-of-type {\n",
       "        vertical-align: middle;\n",
       "    }\n",
       "\n",
       "    .dataframe tbody tr th {\n",
       "        vertical-align: top;\n",
       "    }\n",
       "\n",
       "    .dataframe thead th {\n",
       "        text-align: right;\n",
       "    }\n",
       "</style>\n",
       "<table border=\"1\" class=\"dataframe\">\n",
       "  <thead>\n",
       "    <tr style=\"text-align: right;\">\n",
       "      <th></th>\n",
       "      <th>Company_Brand</th>\n",
       "      <th>Sector</th>\n",
       "      <th>Stage</th>\n",
       "      <th>Amount($)</th>\n",
       "      <th>HeadQuarter</th>\n",
       "      <th>What_it_does</th>\n",
       "      <th>Year</th>\n",
       "    </tr>\n",
       "  </thead>\n",
       "  <tbody>\n",
       "    <tr>\n",
       "      <th>0</th>\n",
       "      <td>TheCollegeFever</td>\n",
       "      <td>Brand Marketing</td>\n",
       "      <td>Seed</td>\n",
       "      <td>250000.0</td>\n",
       "      <td>Bangalore</td>\n",
       "      <td>TheCollegeFever is a hub for fun, fiesta and f...</td>\n",
       "      <td>2018</td>\n",
       "    </tr>\n",
       "    <tr>\n",
       "      <th>1</th>\n",
       "      <td>Happy Cow Dairy</td>\n",
       "      <td>Agriculture</td>\n",
       "      <td>Seed</td>\n",
       "      <td>5840000.0</td>\n",
       "      <td>Mumbai</td>\n",
       "      <td>A startup which aggregates milk from dairy far...</td>\n",
       "      <td>2018</td>\n",
       "    </tr>\n",
       "    <tr>\n",
       "      <th>2</th>\n",
       "      <td>MyLoanCare</td>\n",
       "      <td>Credit</td>\n",
       "      <td>Series A</td>\n",
       "      <td>9490000.0</td>\n",
       "      <td>Gurgaon</td>\n",
       "      <td>Leading Online Loans Marketplace in India</td>\n",
       "      <td>2018</td>\n",
       "    </tr>\n",
       "    <tr>\n",
       "      <th>3</th>\n",
       "      <td>PayMe India</td>\n",
       "      <td>Financial Services</td>\n",
       "      <td>Angel</td>\n",
       "      <td>2000000.0</td>\n",
       "      <td>Noida</td>\n",
       "      <td>PayMe India is an innovative FinTech organizat...</td>\n",
       "      <td>2018</td>\n",
       "    </tr>\n",
       "    <tr>\n",
       "      <th>4</th>\n",
       "      <td>Eunimart</td>\n",
       "      <td>E-Commerce Platforms</td>\n",
       "      <td>Seed</td>\n",
       "      <td>3530000.0</td>\n",
       "      <td>Hyderabad</td>\n",
       "      <td>Eunimart is a one stop solution for merchants ...</td>\n",
       "      <td>2018</td>\n",
       "    </tr>\n",
       "  </tbody>\n",
       "</table>\n",
       "</div>"
      ],
      "text/plain": [
       "     Company_Brand                Sector     Stage  Amount($) HeadQuarter  \\\n",
       "0  TheCollegeFever       Brand Marketing      Seed   250000.0   Bangalore   \n",
       "1  Happy Cow Dairy           Agriculture      Seed  5840000.0      Mumbai   \n",
       "2       MyLoanCare                Credit  Series A  9490000.0     Gurgaon   \n",
       "3      PayMe India    Financial Services     Angel  2000000.0       Noida   \n",
       "4         Eunimart  E-Commerce Platforms      Seed  3530000.0   Hyderabad   \n",
       "\n",
       "                                        What_it_does  Year  \n",
       "0  TheCollegeFever is a hub for fun, fiesta and f...  2018  \n",
       "1  A startup which aggregates milk from dairy far...  2018  \n",
       "2          Leading Online Loans Marketplace in India  2018  \n",
       "3  PayMe India is an innovative FinTech organizat...  2018  \n",
       "4  Eunimart is a one stop solution for merchants ...  2018  "
      ]
     },
     "execution_count": 115,
     "metadata": {},
     "output_type": "execute_result"
    }
   ],
   "source": [
    "\n",
    "# Concatenate the DataFrames\n",
    "startup_funding_df = pd.concat([df_2018, df_2019, df_2020, df_2021], ignore_index=True)\n",
    "\n",
    "# Display the concatenated DataFrame\n",
    "startup_funding_df .head()\n"
   ]
  },
  {
   "cell_type": "code",
   "execution_count": 116,
   "metadata": {},
   "outputs": [
    {
     "data": {
      "text/plain": [
       "(2856, 7)"
      ]
     },
     "execution_count": 116,
     "metadata": {},
     "output_type": "execute_result"
    }
   ],
   "source": [
    "startup_funding_df .shape"
   ]
  },
  {
   "cell_type": "code",
   "execution_count": 117,
   "metadata": {},
   "outputs": [
    {
     "name": "stdout",
     "output_type": "stream",
     "text": [
      "<class 'pandas.core.frame.DataFrame'>\n",
      "RangeIndex: 2856 entries, 0 to 2855\n",
      "Data columns (total 7 columns):\n",
      " #   Column         Non-Null Count  Dtype  \n",
      "---  ------         --------------  -----  \n",
      " 0   Company_Brand  2856 non-null   object \n",
      " 1   Sector         2856 non-null   object \n",
      " 2   Stage          2856 non-null   object \n",
      " 3   Amount($)      2856 non-null   float64\n",
      " 4   HeadQuarter    2856 non-null   object \n",
      " 5   What_it_does   2856 non-null   object \n",
      " 6   Year           2856 non-null   int64  \n",
      "dtypes: float64(1), int64(1), object(5)\n",
      "memory usage: 156.3+ KB\n"
     ]
    }
   ],
   "source": [
    "startup_funding_df.info()"
   ]
  },
  {
   "cell_type": "code",
   "execution_count": 118,
   "metadata": {},
   "outputs": [
    {
     "data": {
      "text/plain": [
       "array(['Brand Marketing', 'Agriculture', 'Credit', 'Financial Services',\n",
       "       'E-Commerce Platforms', 'Cloud Infrastructure', 'Internet',\n",
       "       'Market Research', 'Information Services', 'Mobile Payments',\n",
       "       'B2B', 'Apps', 'Food Delivery', 'Industrial Automation',\n",
       "       'Automotive', 'Finance', 'Accounting', 'Artificial Intelligence',\n",
       "       'Internet of Things', 'Air Transportation', 'Food and Beverage',\n",
       "       'Autonomous Vehicles', 'Enterprise Software', 'Logistics',\n",
       "       'Insurance', 'Information Technology', 'Blockchain', 'Education',\n",
       "       'E-Commerce', 'Renewable Energy', 'E-Learning', 'Clean Energy',\n",
       "       'Transportation', 'Fitness', 'Hospitality',\n",
       "       'Media and Entertainment', 'Broadcasting', 'EdTech', 'Health Care',\n",
       "       'Unknown', 'Sports', 'Big Data', 'Cloud Computing',\n",
       "       'Food Processing', 'Trading Platform', 'Consumer Goods',\n",
       "       'Wellness', 'Fashion', 'Consulting', 'Biotechnology',\n",
       "       'Communities', 'Consumer', 'Consumer Applications', 'Mobile',\n",
       "       'Advertising', 'Marketplace', 'Aerospace', 'Home Decor', 'Energy',\n",
       "       'Digital Marketing', 'Creative Agency', 'Consumer Lending',\n",
       "       'Health Diagnostics', 'Banking', 'Embedded Systems', 'Beauty',\n",
       "       'AgTech', 'Credit Cards', 'Software', 'Manufacturing', 'Hospital',\n",
       "       'Events', '3D Printing', 'Digital Entertainment',\n",
       "       'Funding Platform', 'Classifieds',\n",
       "       'Enterprise Resource Planning (ERP)', 'Audio', 'Government',\n",
       "       'Digital Media', 'Business Intelligence', 'Children', 'Rental',\n",
       "       'Travel', 'Wealth Management', 'Veterinary', 'Tourism',\n",
       "       'Consumer Electronics', 'Analytics', 'Facilities Support Services',\n",
       "       'Medical', 'Music Streaming', 'Retail', 'Business Development',\n",
       "       'Human Resources', 'Customer Service', 'Training',\n",
       "       'Dietary Supplements', 'Collaboration', 'Nanotechnology',\n",
       "       'File Sharing', 'Crowdfunding', 'Catering', 'Computer', 'Android',\n",
       "       'Delivery', 'Environmental Consulting', 'Commercial Real Estate',\n",
       "       'Delivery Service', 'Basketball', 'Fraud Detection',\n",
       "       'Cryptocurrency', 'Wedding', 'Crowdsourcing', 'Farming',\n",
       "       'Business Travel', 'Career Planning', 'Medical Device',\n",
       "       'Alternative Medicine', 'Dental', 'CleanTech', 'Marketing',\n",
       "       'Commercial', 'Continuing Education', 'Smart Cities',\n",
       "       'Social Media', 'Biopharma', 'Child Care', 'Health Insurance',\n",
       "       'Gaming', 'Search Engine', 'Battery', 'Cosmetics', 'eSports',\n",
       "       'Reading Apps', 'Electric Vehicle', 'Packaging Services',\n",
       "       'Last Mile Transportation', 'Cooking', 'FinTech', 'Online Games',\n",
       "       'Online Portals', 'Music', 'News', 'Industrial', 'Dating',\n",
       "       'Fantasy Sports', 'Eyewear', 'E-commerce', 'Edtech',\n",
       "       'Interior design', 'AgriTech', 'Technology', 'SaaS', 'AI & Tech',\n",
       "       'E-commerce & AR', 'Fintech', 'HR tech', 'Food tech', 'Health',\n",
       "       'Healthcare', 'Safety tech', 'Pharmaceutical',\n",
       "       'Insurance technology', 'AI', 'Foodtech', 'Food', 'IoT',\n",
       "       'E-marketplace', 'Robotics & AI', 'Food & Nutrition', 'E-Sports',\n",
       "       'Jewellery', 'B2B Supply Chain', 'Games', 'Food & tech',\n",
       "       'Accomodation', 'Automotive tech', 'Legal tech', 'Mutual Funds',\n",
       "       'Cybersecurity', 'Automobile', 'Healthtech', 'Yoga & wellness',\n",
       "       'Virtual Banking', 'Transport & Rentals',\n",
       "       'Marketing & Customer loyalty', 'Infratech',\n",
       "       'Automobile & Technology', 'Hygiene management', 'Escrow',\n",
       "       'Networking platform', 'Food & Bevarages', 'HealthTech',\n",
       "       'Fashion startup', 'Food Industry', 'Virtual auditing startup',\n",
       "       'Work fulfillment', 'AI startup', 'Telecommunication',\n",
       "       'Tech Startup', 'Medtech', 'Tyre management', 'Cloud company',\n",
       "       'Software company', 'Venture capitalist', 'Renewable player',\n",
       "       'IoT startup', 'SaaS startup', 'Aero company', 'Marketing company',\n",
       "       'Retail startup', 'Co-working Startup', 'Finance company',\n",
       "       'Tech company', 'Solar Monitoring Company',\n",
       "       'Video sharing platform', 'Gaming startup',\n",
       "       'Video streaming platform', 'Consumer appliances',\n",
       "       'Blockchain startup', 'Conversational AI platform', 'Real Estate',\n",
       "       'SaaS platform', 'AI platform', 'Fusion beverages', 'HR Tech',\n",
       "       'Job portal', 'Dairy startup', 'Content management', 'Spacetech',\n",
       "       'Trading platform', 'AI Company', 'Photonics startup',\n",
       "       'Entertainment', 'Scanning app', 'Skincare startup',\n",
       "       'Food and Beverages', 'Biotechnology company', 'FoodTech',\n",
       "       'Proptech', 'Fitness startup', 'PaaS startup', 'Beverages',\n",
       "       'Automobiles', 'Deeptech', 'EV startup', 'AR/VR startup',\n",
       "       'Recruitment startup', 'QSR startup', 'Video platform',\n",
       "       'Fertility tech', 'Luxury car startup', 'FM', 'Nutrition sector',\n",
       "       'Tech platform', 'Video', 'Retail Tech', 'Sles and marketing',\n",
       "       'LegalTech', 'Car Service', 'Bike marketplace', 'Agri tech',\n",
       "       'Reatil startup', 'AR platform', 'Content marketplace',\n",
       "       'Interior Design', 'Rental space', 'Soil-Tech', 'Ayurveda tech',\n",
       "       'Packaging solution startup', 'Cleantech', 'Sanitation solutions',\n",
       "       'HealthCare', 'Home Design', 'InsureTech', 'AI Startup',\n",
       "       'Solar solution', 'Jewellery startup',\n",
       "       'Multinational conglomerate company', 'Deeptech startup',\n",
       "       'Social Network', 'Publication', 'Tech', 'Venture capital',\n",
       "       'Entreprenurship', 'Food devlivery', 'Warehouse',\n",
       "       'Online financial service', 'Eyeglasses', 'Battery design',\n",
       "       'Online credit management startup', 'Beverage', 'TravelTech',\n",
       "       'Startup laboratory', 'Personal care startup',\n",
       "       'Customer service company', 'Marketing startup',\n",
       "       'Service industry', 'Social media', 'AR startup',\n",
       "       'HR Tech startup', 'Automotive Startup', 'Food Startup',\n",
       "       'EdTech Startup', 'Car Trade', 'AI Platform', 'Automation',\n",
       "       'Solar SaaS', 'WL & RAC protection', 'Social commerce',\n",
       "       'Home interior services', 'Agritech startup', 'API platform',\n",
       "       'Deep Tech', 'Electricity', 'Automotive company', 'FMCG',\n",
       "       'Insurance Tech', 'Video personalization', 'Software Company',\n",
       "       'Biomaterial startup', 'IT', 'Craft Beer', 'Investment',\n",
       "       'Linguistic Spiritual', 'Construction', 'Battery manufacturer',\n",
       "       'Nano Distribution Network', 'AI health', 'Dating app', 'Media',\n",
       "       'Healthcare/Edtech', 'Social Commerce', 'Agritech/Commerce',\n",
       "       'Mobility tech', 'Social e-commerce', 'Food & Logistics',\n",
       "       'SpaceTech', 'Nutrition Tech', 'HR', 'Agritech', 'AR/VR',\n",
       "       'Appliance', 'Mental Health', 'Solar Solution', 'B2B marketplace',\n",
       "       'Fashion Tech', 'Nutrition tech', 'Health & Wellness',\n",
       "       'Cloud Kitchen', 'IoT/Automobile', 'Eye Wear', 'Digital tech',\n",
       "       'Data Intelligence', 'Co-living', 'Food & Beverages',\n",
       "       'Defense tech', 'Construction tech', 'Nutrition', 'Coworking',\n",
       "       'Micro-mobiity', 'Auto-tech', 'Robotics', 'Logitech', 'Med Tech',\n",
       "       'Life sciences', 'Retail Aggregator', 'Deep Tech AI', 'Biotech',\n",
       "       'HrTech', 'Mobility/Transport', 'AI & Debt', 'SaaS/Edtech',\n",
       "       'Transport', 'Co-working', 'Insurtech', 'Legal', 'EV',\n",
       "       'Supply chain, Agritech', 'Pharma', 'Foodtech & Logistics',\n",
       "       'Housing', 'Data Analytics', 'Investment Tech', 'Dairy',\n",
       "       'Beauty & wellness', 'Travel & SaaS', 'Tourism & EV', 'Media Tech',\n",
       "       'Location Analytics', 'E store', 'Data Science',\n",
       "       'Health and Fitness', 'Interior & decor', 'eMobility',\n",
       "       'Automation tech', 'Media & Networking', 'E-market',\n",
       "       'AI & Data science', 'Travel tech', 'Automotive and Rentals',\n",
       "       'E-tail', 'AI & Media', 'Machine Learning', 'Content Marktplace',\n",
       "       'Visual Media', 'Hygiene', 'VR & SaaS', 'Sales & Services',\n",
       "       'AI & Deep learning', 'Housing & Rentals', 'Estore', 'E tailor',\n",
       "       'E-mobility', 'Ad-tech', 'Neo-banking', 'Transport Automation',\n",
       "       'Techonology', 'AI Robotics', 'Preschool Daycare', 'Food diet',\n",
       "       'B2B Agritech', 'E-connect', 'Tech hub', 'Consultancy', 'Pharmacy',\n",
       "       'Deisgning', 'Taxation', 'Automobile Technology', 'B2B E-commerce',\n",
       "       'Home services', 'B2B service', 'Electronics', 'IT startup',\n",
       "       'Oil and Energy', 'Telecommuncation', 'Milk startup', 'AI Chatbot',\n",
       "       'Food delivery', 'Fantasy sports', 'Video communication',\n",
       "       'Skill development', 'Recruitment', 'Computer Games',\n",
       "       'Apparel & Fashion', 'Logistics & Supply Chain', 'SportsTech',\n",
       "       'HRTech', 'Wine & Spirits', 'Mechanical & Industrial Engineering',\n",
       "       'Spiritual', 'Lifestyle', 'Computer software', 'Tech startup',\n",
       "       'Digital mortgage', 'Information Technology & Services',\n",
       "       'Furniture', 'Tobacco', 'Insuretech', 'MLOps platform',\n",
       "       'Venture Capital', 'Pet care', 'Drone', 'Wholesale', 'E-learning',\n",
       "       'Consumer Services', 'Venture Capital & Private Equity',\n",
       "       'Health, Wellness & Fitness', 'OTT', 'Education Management',\n",
       "       'Computer Software', 'Software Startup',\n",
       "       'Computer & Network Security', 'Capital Markets', 'Social network',\n",
       "       'Hospital & Health Care', 'Pharmaceuticals', 'Mobility',\n",
       "       'Digital platform', 'B2B Ecommerce', 'Online Media',\n",
       "       'Mobile Games', 'Food Production', 'Podcast', 'HeathTech',\n",
       "       'Content publishing', 'Water purification', 'Content commerce',\n",
       "       'Innovation Management', 'Celebrity Engagement', 'Personal Care',\n",
       "       'Cannabis startup', 'Blogging', 'BioTechnology', 'B2B Marketplace',\n",
       "       'Health care', 'Social audio', 'Fashion and lifestyle',\n",
       "       'Delivery service', 'B2B Manufacturing', 'Solar', 'TaaS startup',\n",
       "       'Manufacturing startup', 'Vehicle repair startup', 'Advisory firm',\n",
       "       'Legaltech', 'Pollution control equiptment', 'Fashion & Lifestyle',\n",
       "       'D2C', 'Environmental Services', 'Merchandise',\n",
       "       'Facilities Services', 'Marketing & Advertising', 'D2C Business',\n",
       "       'NFT Marketplace', 'Consumer software', 'Social community',\n",
       "       'Fishery', 'Renewables & Environment', 'Online storytelling',\n",
       "       'Aviation', 'IT company', 'Environmental service',\n",
       "       'Job discovery platform', 'D2C Fashion', 'Heathcare', 'CRM',\n",
       "       'D2C startup', 'Innovation management', 'Community platform',\n",
       "       'Networking', 'Consumer service', 'Consumer goods', 'MarTech',\n",
       "       'Advertisement', 'Content creation', 'Augmented reality',\n",
       "       'Bike Rental', 'Beauty products', 'FemTech', 'Cultural',\n",
       "       'Supply chain platform', 'Social platform', 'Real estate',\n",
       "       'AI company', 'Sports startup', 'Matrimony', 'Crypto', 'Clothing',\n",
       "       'IoT platform', 'Commerce', 'Defense & Space',\n",
       "       'Business Supplies & Equipment', 'NFT', 'Oil & Energy',\n",
       "       'Company-as-a-Service', 'Textiles',\n",
       "       'Professional Training & Coaching', 'Maritime',\n",
       "       'Housing Marketplace', 'Furniture Rental', 'Telecommunications',\n",
       "       'Equity Management', 'Cloud kitchen', 'Community',\n",
       "       'Higher Education', 'Mechanical Or Industrial Engineering',\n",
       "       'D2C jewellery', 'Sales and Distribution',\n",
       "       'Translation & Localization', 'Investment Banking', 'Femtech',\n",
       "       'sports', 'Footwear', 'Legal Services', 'Arts & Crafts',\n",
       "       'Investment Management', 'Management Consulting', 'B2B startup',\n",
       "       'Design', 'B2B Travel', 'Product studio', 'Aviation & Aerospace',\n",
       "       'Staffing & Recruiting'], dtype=object)"
      ]
     },
     "execution_count": 118,
     "metadata": {},
     "output_type": "execute_result"
    }
   ],
   "source": [
    "startup_funding_df['Sector'].unique()"
   ]
  },
  {
   "cell_type": "code",
   "execution_count": 119,
   "metadata": {},
   "outputs": [],
   "source": [
    "# Clean the 'Sector' column first if you haven't already\n",
    "startup_funding_df['Cleaned_Sector'] = startup_funding_df['Sector'].str.lower().str.strip()\n",
    "\n",
    "# Define keywords\n",
    "keywords = ['food', 'foodtech', 'beverages','catering', 'cooking', 'dairy', 'qsr', 'craft beer', 'beverage']\n",
    "\n",
    "# Filter rows containing specified keywords and replace them with 'Food and Beverages'\n",
    "startup_funding_df.loc[startup_funding_df['Cleaned_Sector'].str.contains('|'.join(keywords)), 'Sector'] = 'Food and Beverages'\n",
    "\n",
    "# Drop the temporary 'Cleaned_Sector' column if you no longer need it\n",
    "startup_funding_df = startup_funding_df.drop(columns=['Cleaned_Sector'])\n",
    "\n",
    "\n",
    "\n"
   ]
  },
  {
   "cell_type": "code",
   "execution_count": 120,
   "metadata": {},
   "outputs": [],
   "source": [
    "\n",
    "# Clean the 'Sector' column first if you haven't already\n",
    "startup_funding_df['Cleaned_Sector'] = startup_funding_df['Sector'].str.lower().str.strip()\n",
    "\n",
    "# Define keywords\n",
    "health_keywords = ['health', 'wellness', 'hospital', 'pharma', 'nutrition', 'fitness', 'healthcare', 'healthtech', 'heathtech', 'healthcare', 'beauty', 'skincare startup', 'personal care startup', 'beauty products', 'pet care']\n",
    "\n",
    "# Filter rows containing specified health-related keywords\n",
    "health_rows = startup_funding_df[startup_funding_df['Cleaned_Sector'].str.contains('|'.join(health_keywords))]\n",
    "\n",
    "# Replace the 'Sector' column in the original DataFrame with \"Health and Wellness\" for the selected rows\n",
    "startup_funding_df.loc[health_rows.index, 'Sector'] = 'Health and Wellness'\n",
    "\n",
    "# Drop the temporary 'Cleaned_Sector' column if you no longer need it\n",
    "startup_funding_df.drop(columns=['Cleaned_Sector'], inplace=True)\n",
    "\n",
    "\n"
   ]
  },
  {
   "cell_type": "code",
   "execution_count": 121,
   "metadata": {},
   "outputs": [],
   "source": [
    "# Clean the 'Sector' column first if you haven't already\n",
    "startup_funding_df['Cleaned_Sector'] = startup_funding_df['Sector'].str.lower().str.strip()\n",
    "\n",
    "ecommerce_categories = [\n",
    "    'e-commerce platforms',\n",
    "    'e-commerce',\n",
    "    'e-commerce',\n",
    "    'e-marketplace',\n",
    "    'e-commerce & ar',\n",
    "    'e-market',\n",
    "    'estore',\n",
    "    'e-mobility',\n",
    "    'e-store',\n",
    "    'e-connect',\n",
    "    'e-learning',\n",
    "    'd2c',\n",
    "    'd2c business',\n",
    "    'd2c startup',\n",
    "    'nft marketplace'\n",
    "]\n",
    "# Filter rows containing specified health-related keywords\n",
    "e_commerce_rows = startup_funding_df[startup_funding_df['Cleaned_Sector'].str.contains('|'.join(ecommerce_categories))]\n",
    "\n",
    "# Replace the 'Sector' column in the original DataFrame with \"Health and Wellness\" for the selected rows\n",
    "startup_funding_df.loc[e_commerce_rows.index, 'Sector'] = 'E-Commerce'\n",
    "\n",
    "# Drop the temporary 'Cleaned_Sector' column if you no longer need it\n",
    "startup_funding_df.drop(columns=['Cleaned_Sector'], inplace=True)\n"
   ]
  },
  {
   "cell_type": "code",
   "execution_count": 122,
   "metadata": {},
   "outputs": [
    {
     "data": {
      "text/plain": [
       "(2856,)"
      ]
     },
     "execution_count": 122,
     "metadata": {},
     "output_type": "execute_result"
    }
   ],
   "source": [
    "startup_funding_df['Sector'].shape"
   ]
  },
  {
   "cell_type": "code",
   "execution_count": 123,
   "metadata": {},
   "outputs": [],
   "source": [
    "def categorize_sector(sector):\n",
    "    # Define a dictionary mapping keywords to categories\n",
    "    category_mapping = {\n",
    "        'finance_and_banking': ['credit', 'financial services', 'banking', 'credit cards', 'insuretech', 'insurance',\n",
    "                                'venture capital', 'funding platform', 'infratech', 'insurance technology',\n",
    "                                'online financial service', 'finance', 'accounting', 'wealth management', 'finance company', 'neo-banking',\n",
    "                                'investment', 'investment banking', 'investment management', 'company-as-a-service', 'capital markets', 'crowdfunding','crowdsourcing'],\n",
    "\n",
    "        'health_and_wellness': ['health and wellness', 'medical', 'healthtech', 'medtech', 'healthcare', 'medical device',\n",
    "                                'alternative medicine', 'dental', 'dietary supplements', 'veterinary','hygiene management','sanitation solutions','hygiene',\n",
    "                                'pollution control equipment','pollutin control equipment'],\n",
    "\n",
    "        'energy_and_environment': ['renewable energy', 'clean energy', 'energy', 'environmental consulting', 'renewable player',\n",
    "                                    'cleantech', 'solar solution', 'solar monitoring company', 'environmental services', \n",
    "                                    'renewables & environment', 'solar solution', 'solar','electricity', 'oil and energy','environmental service'],\n",
    "\n",
    "        'automotive_and_transportation': ['automotive', 'air transportation', 'autonomous vehicles', 'aerospace', 'autonomous vehicles',\n",
    "                                          'electric vehicle', 'last mile transportation', 'electric vehicle', 'automobile',\n",
    "                                          'automobile technology', 'automobile & technology', 'automotive tech', 'ev startup',\n",
    "                                          'electric vehicle','automotive startup','car service','bike marketplace','car trade','tyre management',\n",
    "                                          'automotive company','micro-mobility','ev','mobility','aviation','bike rental'],\n",
    "\n",
    "        'agriculture_and_food': ['agriculture', 'agtech', 'farming', 'agriculture/commerce', 'agritech', 'dairy startup', 'fertility tech',\n",
    "                                  'agritech startup', 'agri tech', 'agritech/commerce'],\n",
    "\n",
    "        'media_and_entertainment': ['media and entertainment', 'broadcasting', 'digital entertainment', 'entertainment', 'media tech',\n",
    "                                     'content management', 'content marketplace', 'content publishing', 'content commerce',\n",
    "                                     'innovation management', 'content creation', 'podcast', 'celebrity engagement', 'digital platform',\n",
    "                                     'social audio', 'social commerce', 'social network', 'social media','digital media', 'music', 'music streaming',\n",
    "                                     'video sharing platform', 'gaming startup', 'video streaming platform', \n",
    "                                     'video platform', 'visual media', 'social audio', 'content creation', 'content publishing', 'nft', 'ott','video platform', 'fm', 'video'],\n",
    "\n",
    "        'education_and_learning': ['education', 'e-learning', 'edtech', 'edtech startup', 'continuing education', 'higher education',\n",
    "                                   'language learning', 'skill development', 'training', 'job portal','education management','edtech'],\n",
    "\n",
    "        'retail_and_consumer_goods': ['retail', 'consumer goods', 'consumer', 'consumer applications', 'consumer electronics',\n",
    "                                      'consumer lending', 'consumer services', 'consumer software', 'consumer applications',\n",
    "                                      'retail aggregator', 'retail tech','retail startup','merchandise'],\n",
    "\n",
    "        'real_estate_and_construction': ['real estate', 'construction', 'commercial real estate', 'proptech', 'co-living', 'co-working',\n",
    "                                          'coworking', 'rental space', 'co-working startup', 'housing', \n",
    "                                          'housing & rentals', 'housing marketplace', 'furniture rental','rental'],\n",
    "\n",
    "        'travel_and_tourism': ['travel', 'tourism', 'business travel', 'travel tech', 'online portals', 'location analytics'],\n",
    "\n",
    "        'fashion_and_lifestyle': ['fashion', 'lifestyle', 'fashion startup', 'fashion tech', 'fashion and lifestyle', 'd2c fashion','d2c jewellery','jewellery',\n",
    "                                  'clothing','footwear','eyewear','cosmetics'],\n",
    "\n",
    "        'environmental_services': ['environmental services', 'environmental consulting', 'environmental service', 'pollution control equipment'],\n",
    "\n",
    "        'marketing_and_advertising': ['marketing', 'brand marketing', 'marketing startup', 'marketing & advertising', 'advertising',\n",
    "                                      'advertisement', 'digital marketing', 'creative agency', 'content management', 'content marketplace', \n",
    "                                      'marketing company', 'marketing startup', 'marketing & customer loyalty', 'sales and marketing'],\n",
    "\n",
    "        'logistics_and_supply_chain': ['logistics', 'supply chain', 'supply chain platform', 'logistics & supply chain'\n",
    "                                        'transportation', 'delivery service', 'logistics & supply chain', 'transport & rentals', \n",
    "                                        'transport automation', 'mobility/transport'],\n",
    "\n",
    "        'telecommunication_and_networking': ['telecommunication', 'networking', 'telecommunications', 'networking platform'],\n",
    "\n",
    "        'manufacturing_and_industrial': ['manufacturing', 'industrial', 'industrial automation', '3d printing', 'manufacturing startup',\n",
    "                                         'mechanical & industrial engineering'],\n",
    "\n",
    "        'b2b_services': ['b2b', 'b2b startup', 'b2b e-commerce', 'b2b manufacturing', 'b2b travel', 'b2b service'],\n",
    "\n",
    "        'sports_and_gaming': ['sports', 'sports startup', 'fantasy sports', 'gaming', 'gaming startup', 'e-sports','basetball','games','esports','sports']\n",
    "    }\n",
    "    \n",
    "    # Convert sector to lowercase for case-insensitive comparison\n",
    "    sector_lower = sector.lower()\n",
    "\n",
    "    # Iterate through the categories and return the matching category\n",
    "    for category, keywords in category_mapping.items():\n",
    "        if sector_lower in keywords:\n",
    "            return category\n",
    "    \n",
    "    # Return the original sector when no match is found\n",
    "    return sector\n",
    "\n",
    "# Apply the categorize_sector function to create a new 'Category' column\n",
    "startup_funding_df['Sector'] = startup_funding_df['Sector'].apply(categorize_sector)\n"
   ]
  },
  {
   "cell_type": "code",
   "execution_count": 124,
   "metadata": {},
   "outputs": [
    {
     "data": {
      "text/plain": [
       "array(['marketing_and_advertising', 'agriculture_and_food',\n",
       "       'finance_and_banking', 'E-Commerce', 'Cloud Infrastructure',\n",
       "       'Internet', 'Market Research', 'Information Services',\n",
       "       'Mobile Payments', 'b2b_services', 'Apps', 'Food and Beverages',\n",
       "       'manufacturing_and_industrial', 'automotive_and_transportation',\n",
       "       'Artificial Intelligence', 'Internet of Things',\n",
       "       'Enterprise Software', 'logistics_and_supply_chain',\n",
       "       'Information Technology', 'Blockchain', 'education_and_learning',\n",
       "       'energy_and_environment', 'Transportation', 'health_and_wellness',\n",
       "       'media_and_entertainment', 'Unknown', 'sports_and_gaming',\n",
       "       'Big Data', 'Cloud Computing', 'Trading Platform',\n",
       "       'retail_and_consumer_goods', 'fashion_and_lifestyle', 'Consulting',\n",
       "       'Biotechnology', 'Communities', 'Mobile', 'Marketplace',\n",
       "       'Home Decor', 'Embedded Systems', 'Software', 'Events',\n",
       "       'Classifieds', 'Enterprise Resource Planning (ERP)', 'Audio',\n",
       "       'Government', 'Business Intelligence', 'Children',\n",
       "       'real_estate_and_construction', 'travel_and_tourism', 'Analytics',\n",
       "       'Facilities Support Services', 'Business Development',\n",
       "       'Human Resources', 'Customer Service', 'Collaboration',\n",
       "       'Nanotechnology', 'File Sharing', 'Computer', 'Android',\n",
       "       'Delivery', 'Basketball', 'Fraud Detection', 'Cryptocurrency',\n",
       "       'Wedding', 'Career Planning', 'Commercial', 'Smart Cities',\n",
       "       'Child Care', 'Search Engine', 'Battery', 'Reading Apps',\n",
       "       'Packaging Services', 'FinTech', 'Online Games', 'News', 'Dating',\n",
       "       'Interior design', 'Technology', 'SaaS', 'AI & Tech', 'Fintech',\n",
       "       'HR tech', 'Safety tech', 'AI', 'IoT', 'Robotics & AI',\n",
       "       'B2B Supply Chain', 'Accomodation', 'Legal tech', 'Mutual Funds',\n",
       "       'Cybersecurity', 'Virtual Banking', 'Escrow',\n",
       "       'telecommunication_and_networking', 'Virtual auditing startup',\n",
       "       'Work fulfillment', 'AI startup', 'Tech Startup', 'Cloud company',\n",
       "       'Software company', 'Venture capitalist', 'IoT startup',\n",
       "       'SaaS startup', 'Aero company', 'Tech company',\n",
       "       'Consumer appliances', 'Blockchain startup',\n",
       "       'Conversational AI platform', 'SaaS platform', 'AI platform',\n",
       "       'HR Tech', 'Spacetech', 'Trading platform', 'AI Company',\n",
       "       'Photonics startup', 'Scanning app', 'Biotechnology company',\n",
       "       'PaaS startup', 'Automobiles', 'Deeptech', 'AR/VR startup',\n",
       "       'Recruitment startup', 'Luxury car startup', 'Tech platform',\n",
       "       'Sles and marketing', 'LegalTech', 'Reatil startup', 'AR platform',\n",
       "       'Interior Design', 'Soil-Tech', 'Ayurveda tech',\n",
       "       'Packaging solution startup', 'Home Design', 'AI Startup',\n",
       "       'Jewellery startup', 'Multinational conglomerate company',\n",
       "       'Deeptech startup', 'Publication', 'Tech', 'Entreprenurship',\n",
       "       'Warehouse', 'Eyeglasses', 'Battery design',\n",
       "       'Online credit management startup', 'TravelTech',\n",
       "       'Startup laboratory', 'Customer service company',\n",
       "       'Service industry', 'AR startup', 'HR Tech startup', 'AI Platform',\n",
       "       'Automation', 'Solar SaaS', 'WL & RAC protection',\n",
       "       'Home interior services', 'API platform', 'Deep Tech', 'FMCG',\n",
       "       'Insurance Tech', 'Video personalization', 'Software Company',\n",
       "       'Biomaterial startup', 'IT', 'Linguistic Spiritual',\n",
       "       'Battery manufacturer', 'Nano Distribution Network', 'Dating app',\n",
       "       'Media', 'Mobility tech', 'SpaceTech', 'HR', 'AR/VR', 'Appliance',\n",
       "       'B2B marketplace', 'Cloud Kitchen', 'IoT/Automobile', 'Eye Wear',\n",
       "       'Digital tech', 'Data Intelligence', 'Defense tech',\n",
       "       'Construction tech', 'Micro-mobiity', 'Auto-tech', 'Robotics',\n",
       "       'Logitech', 'Med Tech', 'Life sciences', 'Deep Tech AI', 'Biotech',\n",
       "       'HrTech', 'AI & Debt', 'SaaS/Edtech', 'Transport', 'Insurtech',\n",
       "       'Legal', 'Supply chain, Agritech', 'Data Analytics',\n",
       "       'Investment Tech', 'Travel & SaaS', 'Tourism & EV', 'E store',\n",
       "       'Data Science', 'Interior & decor', 'eMobility', 'Automation tech',\n",
       "       'Media & Networking', 'AI & Data science',\n",
       "       'Automotive and Rentals', 'E-tail', 'AI & Media',\n",
       "       'Machine Learning', 'Content Marktplace', 'VR & SaaS',\n",
       "       'Sales & Services', 'AI & Deep learning', 'E tailor', 'Ad-tech',\n",
       "       'Techonology', 'AI Robotics', 'Preschool Daycare', 'B2B Agritech',\n",
       "       'Tech hub', 'Consultancy', 'Deisgning', 'Taxation',\n",
       "       'Home services', 'Electronics', 'IT startup', 'Telecommuncation',\n",
       "       'Milk startup', 'AI Chatbot', 'Video communication', 'Recruitment',\n",
       "       'Computer Games', 'Apparel & Fashion', 'SportsTech', 'HRTech',\n",
       "       'Wine & Spirits', 'Spiritual', 'Computer software', 'Tech startup',\n",
       "       'Digital mortgage', 'Information Technology & Services',\n",
       "       'Furniture', 'Tobacco', 'MLOps platform', 'Drone', 'Wholesale',\n",
       "       'Venture Capital & Private Equity', 'Computer Software',\n",
       "       'Software Startup', 'Computer & Network Security', 'B2B Ecommerce',\n",
       "       'Online Media', 'Mobile Games', 'Water purification',\n",
       "       'Personal Care', 'Cannabis startup', 'Blogging', 'BioTechnology',\n",
       "       'B2B Marketplace', 'TaaS startup', 'Vehicle repair startup',\n",
       "       'Advisory firm', 'Legaltech', 'Pollution control equiptment',\n",
       "       'Fashion & Lifestyle', 'Facilities Services', 'Social community',\n",
       "       'Fishery', 'Online storytelling', 'IT company',\n",
       "       'Job discovery platform', 'Heathcare', 'CRM', 'Community platform',\n",
       "       'Consumer service', 'MarTech', 'Augmented reality', 'FemTech',\n",
       "       'Cultural', 'Social platform', 'AI company', 'Matrimony', 'Crypto',\n",
       "       'IoT platform', 'Commerce', 'Defense & Space',\n",
       "       'Business Supplies & Equipment', 'Oil & Energy', 'Textiles',\n",
       "       'Professional Training & Coaching', 'Maritime',\n",
       "       'Equity Management', 'Cloud kitchen', 'Community',\n",
       "       'Mechanical Or Industrial Engineering', 'Sales and Distribution',\n",
       "       'Translation & Localization', 'Femtech', 'Legal Services',\n",
       "       'Arts & Crafts', 'Management Consulting', 'Design',\n",
       "       'Product studio', 'Aviation & Aerospace', 'Staffing & Recruiting'],\n",
       "      dtype=object)"
      ]
     },
     "execution_count": 124,
     "metadata": {},
     "output_type": "execute_result"
    }
   ],
   "source": [
    "startup_funding_df['Sector'].unique()"
   ]
  },
  {
   "cell_type": "code",
   "execution_count": 125,
   "metadata": {},
   "outputs": [],
   "source": [
    "\n",
    "# List of technology-related keywords\n",
    "tech_keywords = [\n",
    "    'artificial intelligence', 'tech', 'cloud', 'artificial', 'data', 'internet', 'things', 'apps', 'android', 'software',\n",
    "    'computer', 'mobile', '3d printing', 'funding platform', 'applications', 'file', 'embedded systems',\n",
    "    'portals', 'fraud detection', 'search engine', 'nanotechnology', 'security', 'saas', 'bit company',\n",
    "    'augmented reality', 'drone', 'ar startup', 'baas', 'app', 'virtual', 'it startup',\n",
    "    'photonics', 'e tailor', 'ai & debt', 'ai company', 'ai chatbot', 'iot startup', 'ai startup',\n",
    "    'digital platform', 'paas startup', 'taas startup', 'digital assistant' 'blockchain', 'ai', 'iot', \n",
    "    'robotics & ai', 'ar/vr', 'automation', 'ai platform', 'conversational ai platform', 'ai robotics', 'machine learning', 'mlops platform'\n",
    "]\n",
    "\n",
    "# Categorize 'Sector' column\n",
    "startup_funding_df['Sector'] = startup_funding_df['Sector'].apply(lambda x: 'technology' if any(keyword.lower() in x.lower() for keyword in tech_keywords) else x)\n",
    "\n",
    "\n"
   ]
  },
  {
   "cell_type": "code",
   "execution_count": 126,
   "metadata": {},
   "outputs": [
    {
     "data": {
      "text/plain": [
       "array(['marketing_and_advertising', 'agriculture_and_food',\n",
       "       'finance_and_banking', 'E-Commerce', 'technology',\n",
       "       'Market Research', 'Information Services', 'b2b_services',\n",
       "       'Food and Beverages', 'manufacturing_and_industrial',\n",
       "       'automotive_and_transportation', 'education_and_learning',\n",
       "       'energy_and_environment', 'Transportation', 'health_and_wellness',\n",
       "       'Unknown', 'sports_and_gaming', 'Trading Platform',\n",
       "       'fashion_and_lifestyle', 'Consulting', 'Communities',\n",
       "       'Marketplace', 'Home Decor', 'Events', 'Classifieds',\n",
       "       'Enterprise Resource Planning (ERP)', 'Audio', 'Government',\n",
       "       'Business Intelligence', 'Children',\n",
       "       'real_estate_and_construction', 'travel_and_tourism', 'Analytics',\n",
       "       'Facilities Support Services', 'Business Development',\n",
       "       'Human Resources', 'Customer Service', 'Collaboration', 'Delivery',\n",
       "       'Basketball', 'Cryptocurrency', 'Wedding', 'Career Planning',\n",
       "       'Commercial', 'Smart Cities', 'Child Care', 'Battery',\n",
       "       'Packaging Services', 'Online Games', 'News', 'Dating',\n",
       "       'Interior design', 'Accomodation', 'Mutual Funds', 'Escrow',\n",
       "       'telecommunication_and_networking', 'Work fulfillment',\n",
       "       'Venture capitalist', 'Aero company', 'Trading platform',\n",
       "       'Recruitment startup', 'Sles and marketing', 'Reatil startup',\n",
       "       'AR platform', 'Interior Design', 'Packaging solution startup',\n",
       "       'Home Design', 'Jewellery startup',\n",
       "       'Multinational conglomerate company', 'Publication',\n",
       "       'Entreprenurship', 'Warehouse', 'Eyeglasses', 'Battery design',\n",
       "       'Online credit management startup', 'Startup laboratory',\n",
       "       'Customer service company', 'Service industry',\n",
       "       'WL & RAC protection', 'Home interior services', 'API platform',\n",
       "       'FMCG', 'Video personalization', 'Biomaterial startup', 'IT',\n",
       "       'Linguistic Spiritual', 'Battery manufacturer',\n",
       "       'Nano Distribution Network', 'Media', 'HR', 'B2B marketplace',\n",
       "       'Eye Wear', 'Micro-mobiity', 'Robotics', 'Life sciences',\n",
       "       'Transport', 'Legal', 'Tourism & EV', 'E store',\n",
       "       'Interior & decor', 'eMobility', 'Media & Networking',\n",
       "       'Automotive and Rentals', 'Content Marktplace', 'Sales & Services',\n",
       "       'Preschool Daycare', 'Consultancy', 'Deisgning', 'Taxation',\n",
       "       'Home services', 'Electronics', 'Telecommuncation', 'Milk startup',\n",
       "       'Video communication', 'Recruitment', 'Wine & Spirits',\n",
       "       'Spiritual', 'Digital mortgage', 'Furniture', 'Tobacco',\n",
       "       'Wholesale', 'Venture Capital & Private Equity', 'B2B Ecommerce',\n",
       "       'Online Media', 'Water purification', 'Personal Care',\n",
       "       'Cannabis startup', 'Blogging', 'B2B Marketplace', 'Advisory firm',\n",
       "       'Pollution control equiptment', 'Fashion & Lifestyle',\n",
       "       'Facilities Services', 'Social community', 'Fishery',\n",
       "       'Online storytelling', 'IT company', 'Job discovery platform',\n",
       "       'Heathcare', 'CRM', 'Community platform', 'Consumer service',\n",
       "       'Cultural', 'Social platform', 'Matrimony', 'Crypto', 'Commerce',\n",
       "       'Defense & Space', 'Business Supplies & Equipment', 'Oil & Energy',\n",
       "       'Textiles', 'Maritime', 'Equity Management', 'Community',\n",
       "       'Mechanical Or Industrial Engineering', 'Sales and Distribution',\n",
       "       'Translation & Localization', 'Legal Services', 'Arts & Crafts',\n",
       "       'Management Consulting', 'Design', 'Product studio',\n",
       "       'Aviation & Aerospace', 'Staffing & Recruiting'], dtype=object)"
      ]
     },
     "execution_count": 126,
     "metadata": {},
     "output_type": "execute_result"
    }
   ],
   "source": [
    "startup_funding_df['Sector'].unique()"
   ]
  },
  {
   "cell_type": "code",
   "execution_count": 127,
   "metadata": {},
   "outputs": [],
   "source": [
    "startup_funding_df['Sector'] = startup_funding_df['Sector'].str.lower()\n",
    "\n",
    "def categorize_sector(sector):\n",
    "    sector_mapping = {\n",
    "        'finance_and_banking': ['marketing_and_advertising', 'finance_and_banking', 'online financial service', 'finance', 'accounting',\n",
    "                                'wealth management', 'finance company', 'neo-banking', 'investment', 'investment banking',\n",
    "                                'investment management', 'company-as-a-service', 'capital markets', 'crowdfunding', 'crowdsourcing',\n",
    "                                'cryptocurrency', 'mutual funds', 'escrow', 'venture capitalist', 'online credit management startup', 'equity management', \n",
    "                                'digital mortgage','crypto','venture capital & private equity','taxation'],\n",
    "\n",
    "        'health_and_wellness': ['health_and_wellness', 'medical', 'healthtech', 'medtech', 'healthcare', 'medical device',\n",
    "                                'alternative medicine', 'dental', 'dietary supplements', 'veterinary', 'hygiene management',\n",
    "                                'sanitation solutions', 'hygiene','healthcare', 'eye wear', 'personal care','eyeglasses','heathcare','biomaterial startup'],\n",
    "\n",
    "        'technology': ['technology', 'information services', 'business intelligence', 'it', 'nano distribution network', 'media', 'hr', \n",
    "                       'smart cities','ar platform','startup laboratory','robotics','api platform','analytics'],\n",
    "\n",
    "        'e_commerce': ['e-commerce', 'trading platform',  'classifieds','enterprise resource planning (erp)','commerce','e store'],\n",
    "\n",
    "        'energy_and_environment': ['energy_and_environment', 'renewable energy', 'clean energy', 'environmental consulting',\n",
    "                                   'renewables & environment', 'solar solution', 'electricity', 'oil and energy', 'environmental service','electronics',\n",
    "                                   'pollution control equiptment','pollution control equipment', 'pollutin control equipment'],\n",
    "\n",
    "        'automotive_and_transportation': ['automotive_and_transportation', 'automotive startup', 'car service', 'bike marketplace', 'car trade',\n",
    "                                          'tyre management', 'automotive company', 'micro-mobility', 'ev', 'mobility', 'aviation', 'bike rental',\n",
    "                                          'aero company', 'transport', 'maritime', 'aviation & aerospace','wl & rac protection','defense & space','emobility', \n",
    "                                          'automotive and rentals'],\n",
    "\n",
    "        'agriculture_and_food': ['agriculture_and_food', 'agritech', 'dairy startup', 'fertility tech', 'agritech startup', 'agri tech', 'agritech/commerce',\n",
    "                                 'milk startup','tobacco','cannabis startup','fishery'],\n",
    "\n",
    "        'media_and_entertainment': ['media_and_entertainment', 'music', 'music streaming', 'video sharing platform', 'gaming startup',\n",
    "                                    'video streaming platform', 'video platform', 'visual media', 'social audio', 'content creation',\n",
    "                                    'content publishing', 'nft', 'ott', 'video platform', 'fm', 'video','news', 'publication', \n",
    "                                    'media & networking', 'content marketplace', 'blogging', 'online storytelling','online games','product studio','audio','content marktplace'],\n",
    "\n",
    "        'education_and_learning': ['education_and_learning', 'e-learning', 'edtech', 'edtech startup', 'continuing education', 'higher education',\n",
    "                                   'language learning', 'skill development', 'training', 'job portal', 'education management', 'edtech','preschool daycare'],\n",
    "\n",
    "        'retail_and_consumer_goods': ['retail_and_consumer_goods', 'retail startup', 'merchandise','sles and marketing', 'reatil startup',\n",
    "                                      'retail_and_consumer_goods','crm','sales & services','wholesale'],\n",
    "\n",
    "        'real_estate_and_construction': ['real_estate_and_construction', 'construction', 'commercial real estate', 'proptech', 'co-living', 'co-working',\n",
    "                                         'coworking', 'rental space', 'co-working startup', 'housing', 'housing & rentals', 'housing marketplace',\n",
    "                                         'furniture rental', 'rental','home interior services','interior design', 'accomodation','home decor','interior & decor'],\n",
    "\n",
    "        'travel_and_tourism': ['travel_and_tourism', 'tourism', 'business travel', 'travel tech', 'online portals', 'location analytics'],\n",
    "\n",
    "        'fashion_and_lifestyle': ['fashion_and_lifestyle', 'fashion startup', 'fashion tech', 'd2c fashion', 'd2c jewellery', 'jewellery',\n",
    "                                  'clothing', 'footwear', 'eyewear', 'cosmetics','jewellery startup','fashion & lifestyle'],\n",
    "\n",
    "        'environmental_services': ['environmental_services', 'environmental consulting', 'environmental service', 'pollution control equipment',\n",
    "                                   'water purification'],\n",
    "\n",
    "        'marketing_and_advertising': ['marketing_and_advertising', 'marketing', 'brand marketing', 'marketing startup', 'advertising', 'advertisement',\n",
    "                                      'digital marketing', 'creative agency', 'content management', 'content marketplace', 'marketing company',\n",
    "                                      'marketing startup', 'marketing & customer loyalty', 'sales and marketing','entreprenurship', 'marketplace','market research'],\n",
    "\n",
    "        'logistics_and_supply_chain': ['logistics_and_supply_chain', 'logistics', 'supply chain', 'supply chain platform', 'logistics & supply chain',\n",
    "                                       'transportation', 'delivery service', 'logistics & supply chain', 'transport & rentals', 'transport automation',\n",
    "                                       'mobility/transport'],\n",
    "\n",
    "        'telecommunication_and_networking': ['telecommunication_and_networking', 'telecommunication', 'networking', 'telecommunications', 'networking platform',\n",
    "                                             'telecommuncation'],\n",
    "\n",
    "        'manufacturing_and_industrial': ['manufacturing_and_industrial', 'manufacturing', 'industrial', 'industrial automation', '3d printing',\n",
    "                                         'manufacturing startup', 'mechanical & industrial engineering','battery design','mechanical or industrial engineering',\n",
    "                                         'packaging solution startup','battery','packaging services','textiles','battery manufacturer','warehouse','design','oil & energy','deisgning'],\n",
    "\n",
    "        'b2b_services': ['b2b_services', 'b2b startup', 'b2b e-commerce', 'b2b manufacturing', 'b2b travel', 'b2b service','b2b marketplace'],\n",
    "\n",
    "        'sports_and_gaming': ['sports_and_gaming', 'sports startup', 'fantasy sports', 'gaming', 'gaming startup', 'e-sports', 'basketball', 'games',\n",
    "                              'esports', 'sports'],\n",
    "\n",
    "        'food_and_beverages': ['food and beverages'],\n",
    "        'services_and_support': [ 'facilities support services', 'business development', 'human resources', 'customer service', \n",
    "                                 'collaboration', 'delivery','career planning','commercial','child care', 'work fulfillment',\n",
    "                                'customer service company', 'service industry', 'recruitment', 'consultancy', 'home services','facilities services',\n",
    "                                 'sales and distribution', 'legal services', 'management consulting','staffing & recruiting','recruitment startup',\n",
    "                                 'business supplies & equipment','consumer service','job discovery platform','consulting'],\n",
    "\n",
    "\n",
    "        'social_and_community': ['social community','community','social platform','cultural','arts & crafts','dating','matrimony','children','government',\n",
    "                                 'wedding','Community platform','legal','linguistic spiritual','communities','events','advisory firm']\n",
    "\n",
    "    }\n",
    "#Convert the sector to lowercase for case-insensitive matching\n",
    "    sector_lower = sector.lower()\n",
    "\n",
    "    for category, categories_list in sector_mapping.items():\n",
    "        for category_name in categories_list:\n",
    "            if category_name in sector_lower:\n",
    "                return category\n",
    "\n",
    "    return sector  # Return the original sector when no match is found\n",
    "# Apply the categorize_sector function to create a new 'Category' column\n",
    "startup_funding_df['Sector'] = startup_funding_df['Sector'].apply(categorize_sector)\n"
   ]
  },
  {
   "cell_type": "code",
   "execution_count": 128,
   "metadata": {},
   "outputs": [
    {
     "data": {
      "text/plain": [
       "array(['finance_and_banking', 'agriculture_and_food', 'e_commerce',\n",
       "       'technology', 'marketing_and_advertising', 'b2b_services',\n",
       "       'automotive_and_transportation', 'manufacturing_and_industrial',\n",
       "       'education_and_learning', 'energy_and_environment',\n",
       "       'health_and_wellness', 'unknown', 'sports_and_gaming',\n",
       "       'fashion_and_lifestyle', 'services_and_support',\n",
       "       'real_estate_and_construction', 'media_and_entertainment',\n",
       "       'social_and_community', 'travel_and_tourism',\n",
       "       'telecommunication_and_networking', 'retail_and_consumer_goods',\n",
       "       'multinational conglomerate company', 'life sciences',\n",
       "       'environmental_services', 'translation & localization'],\n",
       "      dtype=object)"
      ]
     },
     "execution_count": 128,
     "metadata": {},
     "output_type": "execute_result"
    }
   ],
   "source": [
    "startup_funding_df['Sector'].unique()"
   ]
  },
  {
   "cell_type": "code",
   "execution_count": 129,
   "metadata": {},
   "outputs": [
    {
     "data": {
      "text/plain": [
       "<bound method Series.unique of 0       Bangalore\n",
       "1          Mumbai\n",
       "2         Gurgaon\n",
       "3           Noida\n",
       "4       Hyderabad\n",
       "          ...    \n",
       "2851     Gurugram\n",
       "2852    New Delhi\n",
       "2853    Bangalore\n",
       "2854     Gurugram\n",
       "2855    Bangalore\n",
       "Name: HeadQuarter, Length: 2856, dtype: object>"
      ]
     },
     "execution_count": 129,
     "metadata": {},
     "output_type": "execute_result"
    }
   ],
   "source": [
    "startup_funding_df['HeadQuarter'].unique"
   ]
  },
  {
   "cell_type": "code",
   "execution_count": 130,
   "metadata": {},
   "outputs": [],
   "source": [
    "startup_funding_df['HeadQuarter']=startup_funding_df['HeadQuarter'].replace('New Delhi','Delhi')\n",
    "startup_funding_df['HeadQuarter']=startup_funding_df['HeadQuarter'].replace('Gurgaon','Gurugram')\n",
    "startup_funding_df['HeadQuarter']=startup_funding_df['HeadQuarter'].replace('Ahmadabad','Ahmedabad')"
   ]
  },
  {
   "cell_type": "code",
   "execution_count": 131,
   "metadata": {},
   "outputs": [
    {
     "data": {
      "text/plain": [
       "array(['Seed', 'Series A', 'Angel', 'Series B', 'Pre-Seed',\n",
       "       'Private Equity', 'unknown', 'Grant', 'Debt Financing',\n",
       "       'Post-IPO Debt', 'Series H', 'Series C', 'Series E',\n",
       "       'Corporate Round', 'Unknown', 'Series D', 'Secondary Market',\n",
       "       'Post-IPO Equity', 'Non-equity Assistance', 'Funding Round',\n",
       "       'Fresh funding', 'Pre-series A', 'Series G', 'Post series A',\n",
       "       'Series F', 'Pre-seed', 'Pre-series', 'Debt', 'Pre-series C',\n",
       "       'Pre-series B', 'Bridge', 'Series B2', 'Edge', 'Pre-Series B',\n",
       "       'Seed A', 'Series A-1', 'Pre Series A', 'Pre-series A-1',\n",
       "       'Series E2', 'Seed Round', 'Bridge Round', 'Seed Investment',\n",
       "       'Series D1', 'Seed funding', 'Series F2', 'Series B3', 'PE',\n",
       "       'Series F1', 'Pre-series A1', 'Early seed', 'Series A2',\n",
       "       'Series I'], dtype=object)"
      ]
     },
     "execution_count": 131,
     "metadata": {},
     "output_type": "execute_result"
    }
   ],
   "source": [
    "startup_funding_df['Stage'].unique()"
   ]
  },
  {
   "cell_type": "code",
   "execution_count": 132,
   "metadata": {},
   "outputs": [],
   "source": [
    "startup_funding_df['Stage']=startup_funding_df['Stage'].replace('Seed Investment','Seed')\n",
    "startup_funding_df['Stage']=startup_funding_df['Stage'].replace('Seed funding','Seed')\n",
    "startup_funding_df['Stage']=startup_funding_df['Stage'].replace('unknown','Unknown')\n",
    "startup_funding_df['Stage']=startup_funding_df['Stage'].replace('Pre-seed','Pre-Seed')"
   ]
  },
  {
   "cell_type": "code",
   "execution_count": 133,
   "metadata": {},
   "outputs": [
    {
     "name": "stdout",
     "output_type": "stream",
     "text": [
      "['Seed' 'Series A' 'Angel' 'Series B' 'Pre-Seed' 'Private Equity'\n",
      " 'Unknown' 'Grant' 'Debt Financing' 'Post-IPO Debt' 'Series H' 'Series C'\n",
      " 'Series E' 'Corporate ' 'Series D' 'Secondary Market' 'Post-IPO Equity'\n",
      " 'Non-equity Assistance' 'Funding ' 'Fresh funding' 'Pre-series A'\n",
      " 'Series G' 'Post series A' 'Series F' 'Pre-series' 'Debt' 'Pre-series C'\n",
      " 'Pre-series B' 'Bridge' 'Series B2' 'Edge' 'Pre-Series B' 'Seed A'\n",
      " 'Series A-1' 'Pre Series A' 'Pre-series A-1' 'Series E2' 'Seed '\n",
      " 'Bridge ' 'Series D1' 'Series F2' 'Series B3' 'PE' 'Series F1'\n",
      " 'Pre-series A1' 'Early seed' 'Series A2' 'Series I']\n"
     ]
    }
   ],
   "source": [
    "\n",
    "startup_funding_df['Stage'] = startup_funding_df['Stage'].str.replace('round', '', case=False)\n",
    "\n",
    "# Display the updated DataFrame\n",
    "print(startup_funding_df['Stage'].unique())\n"
   ]
  },
  {
   "cell_type": "markdown",
   "metadata": {},
   "source": [
    "## 1.5 Exploratory Data Analysis (EDA) "
   ]
  },
  {
   "cell_type": "markdown",
   "metadata": {},
   "source": [
    "<b>1. which are the top 10 sectors"
   ]
  },
  {
   "cell_type": "code",
   "execution_count": 134,
   "metadata": {},
   "outputs": [
    {
     "data": {
      "image/png": "[encoded data removed]",
      "text/plain": [
       "<Figure size 1200x800 with 1 Axes>"
      ]
     },
     "metadata": {},
     "output_type": "display_data"
    }
   ],
   "source": [
    "\n",
    "\n",
    "# Find the top ten sectors\n",
    "top_ten_sectors = startup_funding_df['Sector'].str.lower().value_counts().nlargest(10).index\n",
    "\n",
    "# Convert the 'Sector' column to lowercase and filter the DataFrame for only the top ten sectors\n",
    "startup_funding_df['Sector_lower'] = startup_funding_df['Sector'].str.lower()\n",
    "filtered_df = startup_funding_df[startup_funding_df['Sector_lower'].isin(top_ten_sectors)]\n",
    "\n",
    "# Get the order of the top ten sectors based on count\n",
    "order = filtered_df['Sector_lower'].value_counts().index\n",
    "\n",
    "# Create the count plot with explicit order\n",
    "plt.figure(figsize=(12, 8))\n",
    "sns.countplot(x='Sector_lower', data=filtered_df, palette='viridis', order=order)\n",
    "plt.title('Top Ten Sectors')\n",
    "plt.xticks(rotation=45, ha='right')\n",
    "plt.show()\n",
    "\n",
    "# Drop the temporary column\n",
    "startup_funding_df = startup_funding_df.drop(columns=['Sector_lower'])\n"
   ]
  },
  {
   "cell_type": "markdown",
   "metadata": {},
   "source": [
    "As seen above, most startups in India are in the Technolgy sector."
   ]
  },
  {
   "cell_type": "markdown",
   "metadata": {},
   "source": [
    "### 1.6 Research Questions"
   ]
  },
  {
   "cell_type": "markdown",
   "metadata": {},
   "source": [
    "<b>1. What is the overall trend in the total funding received by Indian start-ups from 2018 to 2021?"
   ]
  },
  {
   "cell_type": "code",
   "execution_count": 135,
   "metadata": {},
   "outputs": [
    {
     "data": {
      "image/png": "[encoded data removed]",
      "text/plain": [
       "<Figure size 1000x600 with 1 Axes>"
      ]
     },
     "metadata": {},
     "output_type": "display_data"
    }
   ],
   "source": [
    "# Group the data by 'Year' and sum the 'Amount' for each year\n",
    "funding_over_time = startup_funding_df.groupby('Year')['Amount($)'].sum()\n",
    "\n",
    "# Plotting the trends in funding over time\n",
    "plt.figure(figsize=(10, 6))\n",
    "plt.plot(funding_over_time.index, funding_over_time.values, marker='o', color='purple')\n",
    "\n",
    "# Labels and title\n",
    "plt.xlabel('Year')\n",
    "plt.ylabel('Total Funding (Amount)')\n",
    "plt.title('Trends in Funding Over Time')\n",
    "\n",
    "# Show the plot\n",
    "plt.show()\n"
   ]
  },
  {
   "cell_type": "markdown",
   "metadata": {},
   "source": [
    " <b>2.Which are the top 10 startup brands that received most funding in the Indian startup scene from 2018 to 2021?"
   ]
  },
  {
   "cell_type": "code",
   "execution_count": 136,
   "metadata": {},
   "outputs": [
    {
     "data": {
      "image/png": "[encoded data removed]",
      "text/plain": [
       "<Figure size 1200x600 with 1 Axes>"
      ]
     },
     "metadata": {},
     "output_type": "display_data"
    }
   ],
   "source": [
    "\n",
    "\n",
    "# Filter data for the years 2018 to 2021\n",
    "filtered_df = startup_funding_df[startup_funding_df['Year'].between(2018, 2021)]\n",
    "\n",
    "# Group by startup name and sum the funding amount\n",
    "total_funding_by_startup = filtered_df.groupby('Company_Brand')['Amount($)'].sum()\n",
    "\n",
    "# Get the top 10 startups\n",
    "top_10_startups = total_funding_by_startup.nlargest(10)\n",
    "\n",
    "# Plot the bar chart\n",
    "plt.figure(figsize=(12, 6))\n",
    "top_10_startups.plot(kind='bar', color='skyblue')\n",
    "plt.title('Top 10 Startups with Most Funding (2018-2021)')\n",
    "plt.xlabel('Startup Name')\n",
    "plt.ylabel('Total Funding Amount ($)')\n",
    "plt.xticks(rotation=45, ha='right')\n",
    "# Remove gridlines\n",
    "plt.grid(False)\n",
    "plt.show()\n"
   ]
  },
  {
   "cell_type": "markdown",
   "metadata": {},
   "source": [
    "<b>3. Is the geographic location of a startup's headquarters a factor that impacts the funding it secures?"
   ]
  },
  {
   "cell_type": "code",
   "execution_count": 137,
   "metadata": {},
   "outputs": [
    {
     "data": {
      "image/png": "[encoded data removed]",
      "text/plain": [
       "<Figure size 1200x800 with 1 Axes>"
      ]
     },
     "metadata": {},
     "output_type": "display_data"
    }
   ],
   "source": [
    "\n",
    "\n",
    "# Filter out the top 10 headquarters locations by total funding amount\n",
    "top_locations = startup_funding_df.groupby('HeadQuarter')['Amount($)'].sum().nlargest(10).index\n",
    "filtered_df = startup_funding_df[startup_funding_df['HeadQuarter'].isin(top_locations)]\n",
    "\n",
    "# Sort the DataFrame by total funding amount in descending order\n",
    "filtered_df = filtered_df.sort_values(by='Amount($)', ascending=False)\n",
    "\n",
    "# Create a bar plot\n",
    "plt.figure(figsize=(12, 8))\n",
    "sns.barplot(x='Amount($)', y='HeadQuarter', data=filtered_df, estimator=sum, ci=None, palette=\"viridis\", order=top_locations[::-1])\n",
    "\n",
    "plt.title('Total Funding Amount by Top 10 Startup Headquarters Locations')\n",
    "plt.xlabel('Total Funding Amount ($)')\n",
    "plt.ylabel('Startup Headquarters Location')\n",
    "\n",
    "# Show the plot\n",
    "plt.show()\n"
   ]
  },
  {
   "cell_type": "markdown",
   "metadata": {},
   "source": [
    " <b> 4. Which top sectors have attracted the most funding?"
   ]
  },
  {
   "cell_type": "code",
   "execution_count": 138,
   "metadata": {},
   "outputs": [
    {
     "data": {
      "image/png": "[encoded data removed]",
      "text/plain": [
       "<Figure size 1200x800 with 1 Axes>"
      ]
     },
     "metadata": {},
     "output_type": "display_data"
    }
   ],
   "source": [
    "plt.figure(figsize=(12, 8))\n",
    "\n",
    "# Calculate the total funding amount for each sector\n",
    "total_funding_by_sector = startup_funding_df.groupby('Sector')['Amount($)'].sum().sort_values(ascending=False)\n",
    "\n",
    "# Select only the top ten sectors\n",
    "top_ten_sectors = total_funding_by_sector.head(10)\n",
    "\n",
    "# Plot the bar plot\n",
    "bar_plot = sns.barplot(x=top_ten_sectors.values, y=top_ten_sectors.index, palette=\"viridis\")\n",
    "\n",
    "# Add labels and title\n",
    "bar_plot.set(xlabel='Total Funding Amount (in USD)', ylabel='Sector Category')\n",
    "plt.title('Top Ten Sectors by Total Funding Amount')\n",
    "\n",
    "# Remove the grid\n",
    "sns.despine()\n",
    "\n",
    "# Show the plot\n",
    "plt.show()\n"
   ]
  },
  {
   "cell_type": "markdown",
   "metadata": {},
   "source": [
    "5. <b>Which are top 5 stages that have the most funding?"
   ]
  },
  {
   "cell_type": "code",
   "execution_count": 139,
   "metadata": {},
   "outputs": [
    {
     "name": "stdout",
     "output_type": "stream",
     "text": [
      "Stage\n",
      "Debt              1.505874e+11\n",
      "Unknown           1.017563e+11\n",
      "Series B          5.649233e+09\n",
      "Series C          5.621780e+09\n",
      "Private Equity    5.148960e+09\n",
      "Name: Amount($), dtype: float64\n"
     ]
    }
   ],
   "source": [
    "\n",
    "\n",
    "# Calculate the total funding amount for each funding stage\n",
    "total_funding_by_stage = startup_funding_df.groupby('Stage')['Amount($)'].sum()\n",
    "\n",
    "# Select the top five funding stages\n",
    "top_five_stages = total_funding_by_stage.sort_values(ascending=False).head(5)\n",
    "\n",
    "# Print the top five funding stages and their amounts\n",
    "print(top_five_stages)\n"
   ]
  },
  {
   "cell_type": "code",
   "execution_count": 140,
   "metadata": {},
   "outputs": [
    {
     "data": {
      "image/png": "[encoded data removed]",
      "text/plain": [
       "<Figure size 1000x600 with 1 Axes>"
      ]
     },
     "metadata": {},
     "output_type": "display_data"
    }
   ],
   "source": [
    "# Calculate the total funding amount for each funding stage\n",
    "total_funding_by_stage = startup_funding_df.groupby('Stage')['Amount($)'].sum()\n",
    "\n",
    "# Select the top five funding stages\n",
    "top_five_stages = total_funding_by_stage.sort_values(ascending=False).head(5)\n",
    "\n",
    "# Plot the bar chart\n",
    "plt.figure(figsize=(10, 6))\n",
    "top_five_stages.plot(kind='bar', color='skyblue')\n",
    "plt.title('Top Five Funding Stages and Their Amounts')\n",
    "plt.xlabel('Funding Stage')\n",
    "plt.ylabel('Total Funding Amount ($)')\n",
    "plt.xticks(rotation=45, ha='right')  # Rotate x-axis labels for better visibility\n",
    "plt.show()\n"
   ]
  },
  {
   "cell_type": "markdown",
   "metadata": {},
   "source": [
    "## Hypothesis\n",
    "\n",
    "Null Hypothesis (H0): There is no significant difference in the amount of funding received by different sectors.\n",
    "\n",
    "Alternative Hypothesis (Ha): There is a significant difference in the amount of funding received by different sectors."
   ]
  },
  {
   "cell_type": "code",
   "execution_count": 141,
   "metadata": {},
   "outputs": [
    {
     "name": "stdout",
     "output_type": "stream",
     "text": [
      "ANOVA Test Results:\n",
      "F-statistic: 0.12302957671160172\n",
      "p-value: 0.9999999402761456\n",
      "Fail to reject the null hypothesis.\n",
      "There is no significant difference in funding amounts among different sectors.\n"
     ]
    }
   ],
   "source": [
    "# Grouping funding amounts by sector\n",
    "grouped_data = {sector: startup_funding_df[startup_funding_df['Sector'] == sector]['Amount($)'] for sector in startup_funding_df['Sector'].unique()}\n",
    "\n",
    "# Perform ANOVA test\n",
    "f_statistic, p_value = stats.f_oneway(*grouped_data.values())\n",
    "\n",
    "# Interpret the results\n",
    "alpha = 0.05  # the significance level\n",
    "print(\"ANOVA Test Results:\")\n",
    "print(\"F-statistic:\", f_statistic)\n",
    "print(\"p-value:\", p_value)\n",
    "\n",
    "if p_value < alpha:\n",
    "    print(\"Reject the null hypothesis.\")\n",
    "    print(\"There is a significant difference in funding amounts among different sectors.\")\n",
    "else:\n",
    "    print(\"Fail to reject the null hypothesis.\")\n",
    "    print(\"There is no significant difference in funding amounts among different sectors.\")\n"
   ]
  },
  {
   "cell_type": "markdown",
   "metadata": {},
   "source": [
    "Based on the analysis conducted using the ANOVA test, I fail to reject the null hypothesis. The obtained p-value of 0.9999999402761456 indicates that there is no significant difference in funding amounts among different sectors. Therefore, I conclude that, based on the available data, the amount of funding received by various sectors does not show a statistically significant variance."
   ]
  },
  {
   "cell_type": "code",
   "execution_count": 142,
   "metadata": {},
   "outputs": [],
   "source": [
    "startup_funding_df.to_csv('startup_funding_df.csv', index=False)"
   ]
  },
  {
   "cell_type": "code",
   "execution_count": 143,
   "metadata": {},
   "outputs": [
    {
     "data": {
      "text/html": [
       "<div>\n",
       "<style scoped>\n",
       "    .dataframe tbody tr th:only-of-type {\n",
       "        vertical-align: middle;\n",
       "    }\n",
       "\n",
       "    .dataframe tbody tr th {\n",
       "        vertical-align: top;\n",
       "    }\n",
       "\n",
       "    .dataframe thead th {\n",
       "        text-align: right;\n",
       "    }\n",
       "</style>\n",
       "<table border=\"1\" class=\"dataframe\">\n",
       "  <thead>\n",
       "    <tr style=\"text-align: right;\">\n",
       "      <th></th>\n",
       "      <th>Company_Brand</th>\n",
       "      <th>Sector</th>\n",
       "      <th>Stage</th>\n",
       "      <th>Amount($)</th>\n",
       "      <th>HeadQuarter</th>\n",
       "      <th>What_it_does</th>\n",
       "      <th>Year</th>\n",
       "    </tr>\n",
       "  </thead>\n",
       "  <tbody>\n",
       "    <tr>\n",
       "      <th>0</th>\n",
       "      <td>TheCollegeFever</td>\n",
       "      <td>finance_and_banking</td>\n",
       "      <td>Seed</td>\n",
       "      <td>250000.0</td>\n",
       "      <td>Bangalore</td>\n",
       "      <td>TheCollegeFever is a hub for fun, fiesta and f...</td>\n",
       "      <td>2018</td>\n",
       "    </tr>\n",
       "    <tr>\n",
       "      <th>1</th>\n",
       "      <td>Happy Cow Dairy</td>\n",
       "      <td>agriculture_and_food</td>\n",
       "      <td>Seed</td>\n",
       "      <td>5840000.0</td>\n",
       "      <td>Mumbai</td>\n",
       "      <td>A startup which aggregates milk from dairy far...</td>\n",
       "      <td>2018</td>\n",
       "    </tr>\n",
       "    <tr>\n",
       "      <th>2</th>\n",
       "      <td>MyLoanCare</td>\n",
       "      <td>finance_and_banking</td>\n",
       "      <td>Series A</td>\n",
       "      <td>9490000.0</td>\n",
       "      <td>Gurugram</td>\n",
       "      <td>Leading Online Loans Marketplace in India</td>\n",
       "      <td>2018</td>\n",
       "    </tr>\n",
       "    <tr>\n",
       "      <th>3</th>\n",
       "      <td>PayMe India</td>\n",
       "      <td>finance_and_banking</td>\n",
       "      <td>Angel</td>\n",
       "      <td>2000000.0</td>\n",
       "      <td>Noida</td>\n",
       "      <td>PayMe India is an innovative FinTech organizat...</td>\n",
       "      <td>2018</td>\n",
       "    </tr>\n",
       "    <tr>\n",
       "      <th>4</th>\n",
       "      <td>Eunimart</td>\n",
       "      <td>e_commerce</td>\n",
       "      <td>Seed</td>\n",
       "      <td>3530000.0</td>\n",
       "      <td>Hyderabad</td>\n",
       "      <td>Eunimart is a one stop solution for merchants ...</td>\n",
       "      <td>2018</td>\n",
       "    </tr>\n",
       "  </tbody>\n",
       "</table>\n",
       "</div>"
      ],
      "text/plain": [
       "     Company_Brand                Sector     Stage  Amount($) HeadQuarter  \\\n",
       "0  TheCollegeFever   finance_and_banking      Seed   250000.0   Bangalore   \n",
       "1  Happy Cow Dairy  agriculture_and_food      Seed  5840000.0      Mumbai   \n",
       "2       MyLoanCare   finance_and_banking  Series A  9490000.0    Gurugram   \n",
       "3      PayMe India   finance_and_banking     Angel  2000000.0       Noida   \n",
       "4         Eunimart            e_commerce      Seed  3530000.0   Hyderabad   \n",
       "\n",
       "                                        What_it_does  Year  \n",
       "0  TheCollegeFever is a hub for fun, fiesta and f...  2018  \n",
       "1  A startup which aggregates milk from dairy far...  2018  \n",
       "2          Leading Online Loans Marketplace in India  2018  \n",
       "3  PayMe India is an innovative FinTech organizat...  2018  \n",
       "4  Eunimart is a one stop solution for merchants ...  2018  "
      ]
     },
     "execution_count": 143,
     "metadata": {},
     "output_type": "execute_result"
    }
   ],
   "source": [
    "startup_funding_df=pd.read_csv('startup_funding_df.csv')\n",
    "startup_funding_df.head()\n"
   ]
  },
  {
   "cell_type": "code",
   "execution_count": null,
   "metadata": {},
   "outputs": [],
   "source": []
  }
 ],
 "metadata": {
  "kernelspec": {
   "display_name": "Python 3",
   "language": "python",
   "name": "python3"
  },
  "language_info": {
   "codemirror_mode": {
    "name": "ipython",
    "version": 3
   },
   "file_extension": ".py",
   "mimetype": "text/x-python",
   "name": "python",
   "nbconvert_exporter": "python",
   "pygments_lexer": "ipython3",
   "version": "3.10.9"
  }
 },
 "nbformat": 4,
 "nbformat_minor": 2
}
